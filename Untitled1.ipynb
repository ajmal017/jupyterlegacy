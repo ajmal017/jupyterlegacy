{
 "cells": [
  {
   "cell_type": "code",
   "execution_count": 1,
   "metadata": {},
   "outputs": [
    {
     "ename": "SyntaxError",
     "evalue": "'yield' outside function (<ipython-input-1-1ad0b9d5ee10>, line 1)",
     "output_type": "error",
     "traceback": [
      "\u001b[0;36m  File \u001b[0;32m\"<ipython-input-1-1ad0b9d5ee10>\"\u001b[0;36m, line \u001b[0;32m1\u001b[0m\n\u001b[0;31m    yield 2\u001b[0m\n\u001b[0m           ^\u001b[0m\n\u001b[0;31mSyntaxError\u001b[0m\u001b[0;31m:\u001b[0m 'yield' outside function\n"
     ]
    }
   ],
   "source": [
    "yield 2"
   ]
  },
  {
   "cell_type": "code",
   "execution_count": 7,
   "metadata": {},
   "outputs": [
    {
     "data": {
      "text/plain": [
       "<generator object pete at 0x7f96005d0fc0>"
      ]
     },
     "execution_count": 7,
     "metadata": {},
     "output_type": "execute_result"
    }
   ],
   "source": [
    "def pete():\n",
    "    for i in [1,2,3]:\n",
    "        yield i\n",
    "    \n",
    "pete()"
   ]
  },
  {
   "cell_type": "code",
   "execution_count": 8,
   "metadata": {},
   "outputs": [
    {
     "ename": "TypeError",
     "evalue": "'function' object is not an iterator",
     "output_type": "error",
     "traceback": [
      "\u001b[0;31m---------------------------------------------------------------------------\u001b[0m",
      "\u001b[0;31mTypeError\u001b[0m                                 Traceback (most recent call last)",
      "\u001b[0;32m<ipython-input-8-086308e65de5>\u001b[0m in \u001b[0;36m<module>\u001b[0;34m()\u001b[0m\n\u001b[0;32m----> 1\u001b[0;31m \u001b[0mnext\u001b[0m\u001b[0;34m(\u001b[0m\u001b[0mpete\u001b[0m\u001b[0;34m)\u001b[0m\u001b[0;34m\u001b[0m\u001b[0m\n\u001b[0m",
      "\u001b[0;31mTypeError\u001b[0m: 'function' object is not an iterator"
     ]
    }
   ],
   "source": [
    "next(pete)"
   ]
  },
  {
   "cell_type": "code",
   "execution_count": 5,
   "metadata": {},
   "outputs": [
    {
     "ename": "AttributeError",
     "evalue": "'function' object has no attribute 'mro'",
     "output_type": "error",
     "traceback": [
      "\u001b[0;31m---------------------------------------------------------------------------\u001b[0m",
      "\u001b[0;31mAttributeError\u001b[0m                            Traceback (most recent call last)",
      "\u001b[0;32m<ipython-input-5-ce03204ab937>\u001b[0m in \u001b[0;36m<module>\u001b[0;34m()\u001b[0m\n\u001b[0;32m----> 1\u001b[0;31m \u001b[0mpete\u001b[0m\u001b[0;34m.\u001b[0m\u001b[0mmro\u001b[0m\u001b[0;34m\u001b[0m\u001b[0m\n\u001b[0m",
      "\u001b[0;31mAttributeError\u001b[0m: 'function' object has no attribute 'mro'"
     ]
    }
   ],
   "source": [
    "pete.mro"
   ]
  },
  {
   "cell_type": "code",
   "execution_count": 6,
   "metadata": {},
   "outputs": [
    {
     "ename": "TypeError",
     "evalue": "'function' object is not iterable",
     "output_type": "error",
     "traceback": [
      "\u001b[0;31m---------------------------------------------------------------------------\u001b[0m",
      "\u001b[0;31mTypeError\u001b[0m                                 Traceback (most recent call last)",
      "\u001b[0;32m<ipython-input-6-d0338a591052>\u001b[0m in \u001b[0;36m<module>\u001b[0;34m()\u001b[0m\n\u001b[0;32m----> 1\u001b[0;31m \u001b[0mlist\u001b[0m\u001b[0;34m(\u001b[0m\u001b[0mpete\u001b[0m\u001b[0;34m)\u001b[0m\u001b[0;34m\u001b[0m\u001b[0m\n\u001b[0m",
      "\u001b[0;31mTypeError\u001b[0m: 'function' object is not iterable"
     ]
    }
   ],
   "source": [
    "list(pete)"
   ]
  },
  {
   "cell_type": "code",
   "execution_count": 9,
   "metadata": {},
   "outputs": [
    {
     "name": "stdout",
     "output_type": "stream",
     "text": [
      "1\n",
      "2\n",
      "3\n"
     ]
    }
   ],
   "source": [
    ">>> mylist = [1, 2, 3]\n",
    ">>> for i in mylist:\n",
    "...    print(i)"
   ]
  },
  {
   "cell_type": "code",
   "execution_count": 10,
   "metadata": {},
   "outputs": [
    {
     "data": {
      "text/plain": [
       "[10, 11, 12, 13]"
      ]
     },
     "execution_count": 10,
     "metadata": {},
     "output_type": "execute_result"
    }
   ],
   "source": [
    "[x+7 for x in [3,4,5,6]]"
   ]
  },
  {
   "cell_type": "code",
   "execution_count": 11,
   "metadata": {},
   "outputs": [
    {
     "name": "stdout",
     "output_type": "stream",
     "text": [
      "1\n",
      "2\n",
      "3\n"
     ]
    }
   ],
   "source": [
    "for element in [1, 2, 3]:\n",
    "    print(element)"
   ]
  },
  {
   "cell_type": "code",
   "execution_count": 14,
   "metadata": {},
   "outputs": [
    {
     "name": "stdout",
     "output_type": "stream",
     "text": [
      "0\n",
      "1\n",
      "5\n"
     ]
    }
   ],
   "source": [
    "for element in {0:1, 1:3,5:7}:\n",
    "    print(element)"
   ]
  },
  {
   "cell_type": "code",
   "execution_count": 15,
   "metadata": {},
   "outputs": [
    {
     "name": "stdout",
     "output_type": "stream",
     "text": [
      "P\n",
      "e\n",
      "t\n",
      "e\n",
      "r\n",
      " \n",
      "K\n",
      "a\n",
      "w\n",
      "u\n",
      "k\n",
      "i\n",
      " \n",
      "i\n",
      "s\n",
      " \n",
      "a\n",
      " \n",
      "s\n",
      "t\n",
      "a\n",
      "r\n"
     ]
    }
   ],
   "source": [
    "for char in \"Peter Kawuki is a star\":\n",
    "    print(char)"
   ]
  },
  {
   "cell_type": "code",
   "execution_count": 25,
   "metadata": {},
   "outputs": [
    {
     "name": "stdout",
     "output_type": "stream",
     "text": [
      "Help on tuple object:\n",
      "\n",
      "class tuple(object)\n",
      " |  tuple() -> empty tuple\n",
      " |  tuple(iterable) -> tuple initialized from iterable's items\n",
      " |  \n",
      " |  If the argument is a tuple, the return value is the same object.\n",
      " |  \n",
      " |  Methods defined here:\n",
      " |  \n",
      " |  __add__(self, value, /)\n",
      " |      Return self+value.\n",
      " |  \n",
      " |  __contains__(self, key, /)\n",
      " |      Return key in self.\n",
      " |  \n",
      " |  __eq__(self, value, /)\n",
      " |      Return self==value.\n",
      " |  \n",
      " |  __ge__(self, value, /)\n",
      " |      Return self>=value.\n",
      " |  \n",
      " |  __getattribute__(self, name, /)\n",
      " |      Return getattr(self, name).\n",
      " |  \n",
      " |  __getitem__(self, key, /)\n",
      " |      Return self[key].\n",
      " |  \n",
      " |  __getnewargs__(...)\n",
      " |  \n",
      " |  __gt__(self, value, /)\n",
      " |      Return self>value.\n",
      " |  \n",
      " |  __hash__(self, /)\n",
      " |      Return hash(self).\n",
      " |  \n",
      " |  __iter__(self, /)\n",
      " |      Implement iter(self).\n",
      " |  \n",
      " |  __le__(self, value, /)\n",
      " |      Return self<=value.\n",
      " |  \n",
      " |  __len__(self, /)\n",
      " |      Return len(self).\n",
      " |  \n",
      " |  __lt__(self, value, /)\n",
      " |      Return self<value.\n",
      " |  \n",
      " |  __mul__(self, value, /)\n",
      " |      Return self*value.n\n",
      " |  \n",
      " |  __ne__(self, value, /)\n",
      " |      Return self!=value.\n",
      " |  \n",
      " |  __new__(*args, **kwargs) from builtins.type\n",
      " |      Create and return a new object.  See help(type) for accurate signature.\n",
      " |  \n",
      " |  __repr__(self, /)\n",
      " |      Return repr(self).\n",
      " |  \n",
      " |  __rmul__(self, value, /)\n",
      " |      Return self*value.\n",
      " |  \n",
      " |  count(...)\n",
      " |      T.count(value) -> integer -- return number of occurrences of value\n",
      " |  \n",
      " |  index(...)\n",
      " |      T.index(value, [start, [stop]]) -> integer -- return first index of value.\n",
      " |      Raises ValueError if the value is not present.\n",
      "\n"
     ]
    }
   ],
   "source": [
    "help((2,3,4,45))"
   ]
  },
  {
   "cell_type": "code",
   "execution_count": 26,
   "metadata": {},
   "outputs": [
    {
     "data": {
      "text/plain": [
       "<str_iterator at 0x7f960050c128>"
      ]
     },
     "execution_count": 26,
     "metadata": {},
     "output_type": "execute_result"
    }
   ],
   "source": [
    ">>> s = 'abc'\n",
    ">>> it = iter(s)\n",
    ">>> it"
   ]
  },
  {
   "cell_type": "code",
   "execution_count": 30,
   "metadata": {},
   "outputs": [
    {
     "data": {
      "text/plain": [
       "'a'"
      ]
     },
     "execution_count": 30,
     "metadata": {},
     "output_type": "execute_result"
    }
   ],
   "source": [
    "next(it)"
   ]
  },
  {
   "cell_type": "code",
   "execution_count": 33,
   "metadata": {},
   "outputs": [
    {
     "ename": "StopIteration",
     "evalue": "",
     "output_type": "error",
     "traceback": [
      "\u001b[0;31m---------------------------------------------------------------------------\u001b[0m",
      "\u001b[0;31mStopIteration\u001b[0m                             Traceback (most recent call last)",
      "\u001b[0;32m<ipython-input-33-74e64ed6c80d>\u001b[0m in \u001b[0;36m<module>\u001b[0;34m()\u001b[0m\n\u001b[0;32m----> 1\u001b[0;31m \u001b[0mit\u001b[0m\u001b[0;34m.\u001b[0m\u001b[0m__next__\u001b[0m\u001b[0;34m(\u001b[0m\u001b[0;34m)\u001b[0m\u001b[0;34m\u001b[0m\u001b[0m\n\u001b[0m",
      "\u001b[0;31mStopIteration\u001b[0m: "
     ]
    }
   ],
   "source": [
    "it.__next__()"
   ]
  },
  {
   "cell_type": "code",
   "execution_count": 34,
   "metadata": {
    "collapsed": true
   },
   "outputs": [],
   "source": [
    "class Reverse:\n",
    "    \"\"\"Iterator for looping over a sequence backwards.\"\"\"\n",
    "    def __init__(self, data):\n",
    "        self.data = data\n",
    "        self.index = len(data)\n",
    "\n",
    "    def __iter__(self):\n",
    "        return self\n",
    "\n",
    "    def __next__(self):\n",
    "        if self.index == 0:\n",
    "            raise StopIteration\n",
    "        self.index = self.index - 1\n",
    "        return self.data[self.index]"
   ]
  },
  {
   "cell_type": "code",
   "execution_count": 35,
   "metadata": {
    "collapsed": true
   },
   "outputs": [],
   "source": [
    "def reverse(data):\n",
    "    for index in range(len(data)-1, -1, -1):\n",
    "        yield data[index]\n"
   ]
  },
  {
   "cell_type": "code",
   "execution_count": 36,
   "metadata": {},
   "outputs": [
    {
     "data": {
      "text/plain": [
       "7"
      ]
     },
     "execution_count": 36,
     "metadata": {},
     "output_type": "execute_result"
    }
   ],
   "source": [
    "len('bogring')"
   ]
  },
  {
   "cell_type": "code",
   "execution_count": 37,
   "metadata": {},
   "outputs": [
    {
     "data": {
      "text/plain": [
       "range(6, -1, -1)"
      ]
     },
     "execution_count": 37,
     "metadata": {},
     "output_type": "execute_result"
    }
   ],
   "source": [
    "range(6, -1, -1)"
   ]
  },
  {
   "cell_type": "code",
   "execution_count": 38,
   "metadata": {},
   "outputs": [
    {
     "name": "stdout",
     "output_type": "stream",
     "text": [
      "range(6, -1, -1)\n"
     ]
    }
   ],
   "source": [
    "print(range(6, -1, -1))"
   ]
  },
  {
   "cell_type": "code",
   "execution_count": 40,
   "metadata": {},
   "outputs": [
    {
     "name": "stdout",
     "output_type": "stream",
     "text": [
      "6 g\n",
      "5 n\n",
      "4 i\n",
      "3 r\n",
      "2 g\n",
      "1 o\n",
      "0 b\n"
     ]
    }
   ],
   "source": [
    "for index in range(6, -1, -1):\n",
    "    print(index, 'bogring'[index])"
   ]
  },
  {
   "cell_type": "code",
   "execution_count": 41,
   "metadata": {},
   "outputs": [
    {
     "data": {
      "text/plain": [
       "generator"
      ]
     },
     "execution_count": 41,
     "metadata": {},
     "output_type": "execute_result"
    }
   ],
   "source": [
    "type(reverse(\"Pete\"))"
   ]
  },
  {
   "cell_type": "code",
   "execution_count": 47,
   "metadata": {},
   "outputs": [
    {
     "data": {
      "text/plain": [
       "'i'"
      ]
     },
     "execution_count": 47,
     "metadata": {},
     "output_type": "execute_result"
    }
   ],
   "source": [
    "genpete = reverse(\"Pete Kawuki\")\n",
    "next(genpete)"
   ]
  },
  {
   "cell_type": "code",
   "execution_count": 48,
   "metadata": {},
   "outputs": [
    {
     "data": {
      "text/plain": [
       "'k'"
      ]
     },
     "execution_count": 48,
     "metadata": {},
     "output_type": "execute_result"
    }
   ],
   "source": [
    "next(genpete)"
   ]
  },
  {
   "cell_type": "code",
   "execution_count": 45,
   "metadata": {
    "collapsed": true
   },
   "outputs": [],
   "source": [
    "genpete.close()"
   ]
  },
  {
   "cell_type": "code",
   "execution_count": 50,
   "metadata": {
    "collapsed": true
   },
   "outputs": [],
   "source": [
    "peter = iter(\"pet\")"
   ]
  },
  {
   "cell_type": "code",
   "execution_count": 51,
   "metadata": {},
   "outputs": [
    {
     "data": {
      "text/plain": [
       "str_iterator"
      ]
     },
     "execution_count": 51,
     "metadata": {},
     "output_type": "execute_result"
    }
   ],
   "source": [
    "type(peter)"
   ]
  },
  {
   "cell_type": "code",
   "execution_count": 52,
   "metadata": {
    "collapsed": true
   },
   "outputs": [],
   "source": [
    "def pegen():\n",
    "    print(peter)\n",
    "    for i in peter:\n",
    "        yield peter[i]"
   ]
  },
  {
   "cell_type": "code",
   "execution_count": 53,
   "metadata": {
    "collapsed": true
   },
   "outputs": [],
   "source": [
    "agen = pegen()"
   ]
  },
  {
   "cell_type": "code",
   "execution_count": 59,
   "metadata": {},
   "outputs": [
    {
     "ename": "TypeError",
     "evalue": "'str_iterator' object is not subscriptable",
     "output_type": "error",
     "traceback": [
      "\u001b[0;31m---------------------------------------------------------------------------\u001b[0m",
      "\u001b[0;31mTypeError\u001b[0m                                 Traceback (most recent call last)",
      "\u001b[0;32m<ipython-input-59-7b4bd4321efe>\u001b[0m in \u001b[0;36m<module>\u001b[0;34m()\u001b[0m\n\u001b[0;32m----> 1\u001b[0;31m \u001b[0mpeter\u001b[0m\u001b[0;34m[\u001b[0m\u001b[0;36m0\u001b[0m\u001b[0;34m]\u001b[0m\u001b[0;34m\u001b[0m\u001b[0m\n\u001b[0m",
      "\u001b[0;31mTypeError\u001b[0m: 'str_iterator' object is not subscriptable"
     ]
    }
   ],
   "source": [
    "peter[0]"
   ]
  },
  {
   "cell_type": "code",
   "execution_count": 55,
   "metadata": {},
   "outputs": [
    {
     "ename": "TypeError",
     "evalue": "'str_iterator' object is not subscriptable",
     "output_type": "error",
     "traceback": [
      "\u001b[0;31m---------------------------------------------------------------------------\u001b[0m",
      "\u001b[0;31mTypeError\u001b[0m                                 Traceback (most recent call last)",
      "\u001b[0;32m<ipython-input-55-9c7fa95c0d35>\u001b[0m in \u001b[0;36m<module>\u001b[0;34m()\u001b[0m\n\u001b[0;32m----> 1\u001b[0;31m \u001b[0mnext\u001b[0m\u001b[0;34m(\u001b[0m\u001b[0magen\u001b[0m\u001b[0;34m)\u001b[0m\u001b[0;34m\u001b[0m\u001b[0m\n\u001b[0m",
      "\u001b[0;32m<ipython-input-52-3850ca92b6ee>\u001b[0m in \u001b[0;36mpegen\u001b[0;34m()\u001b[0m\n\u001b[1;32m      1\u001b[0m \u001b[0;32mdef\u001b[0m \u001b[0mpegen\u001b[0m\u001b[0;34m(\u001b[0m\u001b[0;34m)\u001b[0m\u001b[0;34m:\u001b[0m\u001b[0;34m\u001b[0m\u001b[0m\n\u001b[1;32m      2\u001b[0m     \u001b[0;32mfor\u001b[0m \u001b[0mi\u001b[0m \u001b[0;32min\u001b[0m \u001b[0mpeter\u001b[0m\u001b[0;34m:\u001b[0m\u001b[0;34m\u001b[0m\u001b[0m\n\u001b[0;32m----> 3\u001b[0;31m         \u001b[0;32myield\u001b[0m \u001b[0mpeter\u001b[0m\u001b[0;34m[\u001b[0m\u001b[0mi\u001b[0m\u001b[0;34m]\u001b[0m\u001b[0;34m\u001b[0m\u001b[0m\n\u001b[0m",
      "\u001b[0;31mTypeError\u001b[0m: 'str_iterator' object is not subscriptable"
     ]
    }
   ],
   "source": [
    "next(agen)"
   ]
  },
  {
   "cell_type": "code",
   "execution_count": 56,
   "metadata": {},
   "outputs": [
    {
     "ename": "AttributeError",
     "evalue": "'generator' object has no attribute 'next'",
     "output_type": "error",
     "traceback": [
      "\u001b[0;31m---------------------------------------------------------------------------\u001b[0m",
      "\u001b[0;31mAttributeError\u001b[0m                            Traceback (most recent call last)",
      "\u001b[0;32m<ipython-input-56-3d9ab92542e3>\u001b[0m in \u001b[0;36m<module>\u001b[0;34m()\u001b[0m\n\u001b[0;32m----> 1\u001b[0;31m \u001b[0magen\u001b[0m\u001b[0;34m.\u001b[0m\u001b[0mnext\u001b[0m\u001b[0;34m(\u001b[0m\u001b[0;34m)\u001b[0m\u001b[0;34m\u001b[0m\u001b[0m\n\u001b[0m",
      "\u001b[0;31mAttributeError\u001b[0m: 'generator' object has no attribute 'next'"
     ]
    }
   ],
   "source": [
    "agen.next()"
   ]
  },
  {
   "cell_type": "code",
   "execution_count": 65,
   "metadata": {},
   "outputs": [
    {
     "ename": "TypeError",
     "evalue": "unsupported operand type(s) for @: 'dict' and 'str'",
     "output_type": "error",
     "traceback": [
      "\u001b[0;31m---------------------------------------------------------------------------\u001b[0m",
      "\u001b[0;31mTypeError\u001b[0m                                 Traceback (most recent call last)",
      "\u001b[0;32m<ipython-input-65-807b6a7ef1a1>\u001b[0m in \u001b[0;36m<module>\u001b[0;34m()\u001b[0m\n\u001b[1;32m      1\u001b[0m \u001b[0my\u001b[0m \u001b[0;34m=\u001b[0m \u001b[0;34m{\u001b[0m\u001b[0;34m\"x\"\u001b[0m\u001b[0;34m:\u001b[0m\u001b[0;36m10\u001b[0m\u001b[0;34m,\u001b[0m \u001b[0;34m\"y\"\u001b[0m\u001b[0;34m:\u001b[0m\u001b[0;36m20\u001b[0m\u001b[0;34m}\u001b[0m\u001b[0;34m\u001b[0m\u001b[0m\n\u001b[1;32m      2\u001b[0m \u001b[0;32mfor\u001b[0m \u001b[0mval\u001b[0m \u001b[0;32min\u001b[0m \u001b[0my\u001b[0m\u001b[0;34m:\u001b[0m\u001b[0;34m\u001b[0m\u001b[0m\n\u001b[0;32m----> 3\u001b[0;31m     \u001b[0mprint\u001b[0m\u001b[0;34m(\u001b[0m\u001b[0my\u001b[0m\u001b[0;34m@\u001b[0m\u001b[0mval\u001b[0m\u001b[0;34m)\u001b[0m\u001b[0;34m\u001b[0m\u001b[0m\n\u001b[0m",
      "\u001b[0;31mTypeError\u001b[0m: unsupported operand type(s) for @: 'dict' and 'str'"
     ]
    }
   ],
   "source": [
    "y = {\"x\":10, \"y\":20}\n",
    "for val in y:\n",
    "    print(y@val)"
   ]
  },
  {
   "cell_type": "code",
   "execution_count": 66,
   "metadata": {},
   "outputs": [
    {
     "data": {
      "text/plain": [
       "{'x': 10, 'y': 20}"
      ]
     },
     "execution_count": 66,
     "metadata": {},
     "output_type": "execute_result"
    }
   ],
   "source": [
    "y"
   ]
  },
  {
   "cell_type": "code",
   "execution_count": 69,
   "metadata": {
    "collapsed": true
   },
   "outputs": [],
   "source": [
    "print(y)"
   ]
  },
  {
   "cell_type": "code",
   "execution_count": 2,
   "metadata": {},
   "outputs": [],
   "source": [
    "a = 1\n",
    "b = 2"
   ]
  },
  {
   "cell_type": "code",
   "execution_count": 3,
   "metadata": {
    "collapsed": true
   },
   "outputs": [],
   "source": [
    "a , b = b , a + b\n"
   ]
  },
  {
   "cell_type": "code",
   "execution_count": 6,
   "metadata": {},
   "outputs": [
    {
     "ename": "NameError",
     "evalue": "name 'highest_prime_below' is not defined",
     "output_type": "error",
     "traceback": [
      "\u001b[0;31m---------------------------------------------------------------------------\u001b[0m",
      "\u001b[0;31mNameError\u001b[0m                                 Traceback (most recent call last)",
      "\u001b[0;32m<ipython-input-6-5d84241b1d52>\u001b[0m in \u001b[0;36m<module>\u001b[0;34m()\u001b[0m\n\u001b[0;32m----> 1\u001b[0;31m \u001b[0mhighest_prime_below\u001b[0m\u001b[0;34m(\u001b[0m\u001b[0;36m10\u001b[0m\u001b[0;34m)\u001b[0m\u001b[0;34m\u001b[0m\u001b[0m\n\u001b[0m",
      "\u001b[0;31mNameError\u001b[0m: name 'highest_prime_below' is not defined"
     ]
    }
   ],
   "source": [
    "highest_prime_below(10)"
   ]
  },
  {
   "cell_type": "code",
   "execution_count": 5,
   "metadata": {},
   "outputs": [
    {
     "data": {
      "text/plain": [
       "3"
      ]
     },
     "execution_count": 5,
     "metadata": {},
     "output_type": "execute_result"
    }
   ],
   "source": [
    "b"
   ]
  },
  {
   "cell_type": "code",
   "execution_count": 26,
   "metadata": {},
   "outputs": [
    {
     "name": "stdout",
     "output_type": "stream",
     "text": [
      "highest prime below 1000\n",
      "highest prime below 10000\n",
      "highest prime below 41\n",
      "highest prime below 100\n",
      "highest prime below 100000\n",
      "the highest prime below 1000 is 997\n",
      "the highest prime below 100 is 97\n",
      "the highest prime below 41 is 37\n",
      "the highest prime below 100000 is 99991\n",
      "the highest prime below 10000 is 9973\n"
     ]
    }
   ],
   "source": [
    "import time\n",
    "import asyncio\n",
    "\n",
    "def is_prime(x):\n",
    "    return not any(x//i == x/i for i in range(x-1, 1,-1))\n",
    "\n",
    "async def highest_prime_below(number):\n",
    "    print(\"highest prime below %d\" % number)\n",
    "    for y in range(number-1, 0, -1):\n",
    "        if is_prime(y):\n",
    "            print(\"the highest prime below %d is %d\"%(number, y))\n",
    "            return y\n",
    "        #time.sleep(0.01)\n",
    "        await asyncio.sleep(0.01)\n",
    "    return None\n",
    "async def  main():\n",
    "     await asyncio.wait([\n",
    "     highest_prime_below(100000),\n",
    "     highest_prime_below(10000),\n",
    "     highest_prime_below(1000),\n",
    "     highest_prime_below(100),\n",
    "     highest_prime_below(41)  ])\n",
    "\n",
    "loop = asyncio.get_event_loop()\n",
    "loop.run_until_complete(main())\n"
   ]
  },
  {
   "cell_type": "code",
   "execution_count": 3,
   "metadata": {},
   "outputs": [
    {
     "data": {
      "text/plain": [
       "<IB connected to 127.0.0.1:7497 clientId=1>"
      ]
     },
     "execution_count": 3,
     "metadata": {},
     "output_type": "execute_result"
    },
    {
     "name": "stdout",
     "output_type": "stream",
     "text": [
      "                   date      open      high       low     close\n",
      "0   2018-01-21 23:15:00  1.226275  1.226475  1.225570  1.225900\n",
      "1   2018-01-22 00:00:00  1.225900  1.225995  1.223405  1.225615\n",
      "2   2018-01-22 01:00:00  1.225615  1.225755  1.224145  1.224425\n",
      "3   2018-01-22 02:00:00  1.224425  1.224465  1.222530  1.222875\n",
      "4   2018-01-22 03:00:00  1.222875  1.223775  1.222665  1.223670\n",
      "5   2018-01-22 04:00:00  1.223670  1.223760  1.222490  1.222890\n",
      "6   2018-01-22 05:00:00  1.222890  1.222995  1.221635  1.222395\n",
      "7   2018-01-22 06:00:00  1.222395  1.223335  1.221735  1.223140\n",
      "8   2018-01-22 07:00:00  1.223140  1.223390  1.221395  1.221620\n",
      "9   2018-01-22 08:00:00  1.221620  1.224285  1.221580  1.223735\n",
      "10  2018-01-22 09:00:00  1.223735  1.225025  1.223515  1.224170\n",
      "11  2018-01-22 10:00:00  1.224170  1.225595  1.224170  1.224970\n",
      "12  2018-01-22 11:00:00  1.224970  1.226715  1.224765  1.226215\n",
      "13  2018-01-22 12:00:00  1.226215  1.226310  1.225145  1.225515\n",
      "14  2018-01-22 13:00:00  1.225515  1.225645  1.223910  1.224135\n",
      "15  2018-01-22 14:00:00  1.224135  1.225175  1.223355  1.224945\n",
      "16  2018-01-22 15:00:00  1.224945  1.225900  1.223825  1.224015\n",
      "17  2018-01-22 16:00:00  1.224015  1.226055  1.223845  1.225375\n",
      "18  2018-01-22 17:00:00  1.225375  1.225485  1.222815  1.222830\n",
      "19  2018-01-22 18:00:00  1.222830  1.224475  1.222415  1.224360\n",
      "20  2018-01-22 19:00:00  1.224360  1.225085  1.223935  1.224940\n",
      "21  2018-01-22 20:00:00  1.224940  1.226125  1.224760  1.225850\n",
      "22  2018-01-22 21:00:00  1.225850  1.226040  1.225460  1.225850\n",
      "23  2018-01-22 22:00:00  1.225850  1.226290  1.225680  1.226200\n",
      "24  2018-01-22 23:15:00  1.226000  1.226435  1.225790  1.226030\n",
      "25  2018-01-23 00:00:00  1.226030  1.226035  1.225525  1.225630\n",
      "26  2018-01-23 01:00:00  1.225630  1.227285  1.225595  1.226745\n",
      "27  2018-01-23 02:00:00  1.226745  1.227540  1.226255  1.226635\n",
      "28  2018-01-23 03:00:00  1.226635  1.226720  1.225090  1.226150\n",
      "29  2018-01-23 04:00:00  1.226150  1.227615  1.225470  1.225760\n",
      "..                  ...       ...       ...       ...       ...\n",
      "690 2018-03-01 17:00:00  1.217655  1.222215  1.217180  1.221550\n",
      "691 2018-03-01 18:00:00  1.221550  1.222015  1.220495  1.221215\n",
      "692 2018-03-01 19:00:00  1.221215  1.221735  1.218670  1.219710\n",
      "693 2018-03-01 20:00:00  1.219710  1.225860  1.219610  1.225550\n",
      "694 2018-03-01 21:00:00  1.225550  1.227325  1.225235  1.226270\n",
      "695 2018-03-01 22:00:00  1.226270  1.227030  1.225995  1.226635\n",
      "696 2018-03-01 23:15:00  1.227225  1.227480  1.226580  1.227470\n",
      "697 2018-03-02 00:00:00  1.227470  1.227470  1.226620  1.227120\n",
      "698 2018-03-02 01:00:00  1.227120  1.227520  1.226195  1.227345\n",
      "699 2018-03-02 02:00:00  1.227345  1.228060  1.226685  1.227450\n",
      "700 2018-03-02 03:00:00  1.227450  1.227675  1.226970  1.227305\n",
      "701 2018-03-02 04:00:00  1.227305  1.228165  1.227215  1.228035\n",
      "702 2018-03-02 05:00:00  1.228035  1.228790  1.227825  1.227825\n",
      "703 2018-03-02 06:00:00  1.227825  1.228565  1.227460  1.227915\n",
      "704 2018-03-02 07:00:00  1.227915  1.227960  1.226215  1.226295\n",
      "705 2018-03-02 08:00:00  1.226295  1.226715  1.225155  1.226335\n",
      "706 2018-03-02 09:00:00  1.226335  1.227875  1.225460  1.227430\n",
      "707 2018-03-02 10:00:00  1.227430  1.228215  1.226225  1.227610\n",
      "708 2018-03-02 11:00:00  1.227610  1.229820  1.227465  1.229060\n",
      "709 2018-03-02 12:00:00  1.229060  1.232260  1.228880  1.230410\n",
      "710 2018-03-02 13:00:00  1.230410  1.232310  1.230390  1.230810\n",
      "711 2018-03-02 14:00:00  1.230810  1.232045  1.229420  1.230905\n",
      "712 2018-03-02 15:00:00  1.230905  1.231565  1.229710  1.231390\n",
      "713 2018-03-02 16:00:00  1.231390  1.233285  1.230835  1.230925\n",
      "714 2018-03-02 17:00:00  1.230925  1.232355  1.230425  1.231460\n",
      "715 2018-03-02 18:00:00  1.231460  1.232045  1.230440  1.231235\n",
      "716 2018-03-02 19:00:00  1.231235  1.232390  1.231230  1.232155\n",
      "717 2018-03-02 20:00:00  1.232155  1.233105  1.232040  1.233095\n",
      "718 2018-03-02 21:00:00  1.233095  1.233605  1.232375  1.233105\n",
      "719 2018-03-02 22:00:00  1.233105  1.233140  1.231800  1.232005\n",
      "\n",
      "[720 rows x 5 columns]\n"
     ]
    }
   ],
   "source": [
    "from ib_insync import *\n",
    "\n",
    "ib = IB()\n",
    "ib.connect('127.0.0.1', 7497, clientId=1)\n",
    "\n",
    "contract = Forex('EURUSD')\n",
    "bars = ib.reqHistoricalData(contract, endDateTime='', durationStr='30 D',\n",
    "        barSizeSetting='1 hour', whatToShow='MIDPOINT', useRTH=True)\n",
    "\n",
    "# convert to pandas dataframe:\n",
    "df = util.df(bars)\n",
    "print(df[['date', 'open', 'high', 'low', 'close']])"
   ]
  },
  {
   "cell_type": "code",
   "execution_count": 6,
   "metadata": {},
   "outputs": [
    {
     "data": {
      "text/html": [
       "<div>\n",
       "<table border=\"1\" class=\"dataframe\">\n",
       "  <thead>\n",
       "    <tr style=\"text-align: right;\">\n",
       "      <th></th>\n",
       "      <th>date</th>\n",
       "      <th>open</th>\n",
       "      <th>high</th>\n",
       "      <th>low</th>\n",
       "      <th>close</th>\n",
       "      <th>volume</th>\n",
       "      <th>barCount</th>\n",
       "      <th>average</th>\n",
       "    </tr>\n",
       "  </thead>\n",
       "  <tbody>\n",
       "    <tr>\n",
       "      <th>0</th>\n",
       "      <td>2018-01-21 23:15:00</td>\n",
       "      <td>1.226275</td>\n",
       "      <td>1.226475</td>\n",
       "      <td>1.225570</td>\n",
       "      <td>1.225900</td>\n",
       "      <td>-1</td>\n",
       "      <td>-1</td>\n",
       "      <td>-1.0</td>\n",
       "    </tr>\n",
       "    <tr>\n",
       "      <th>1</th>\n",
       "      <td>2018-01-22 00:00:00</td>\n",
       "      <td>1.225900</td>\n",
       "      <td>1.225995</td>\n",
       "      <td>1.223405</td>\n",
       "      <td>1.225615</td>\n",
       "      <td>-1</td>\n",
       "      <td>-1</td>\n",
       "      <td>-1.0</td>\n",
       "    </tr>\n",
       "    <tr>\n",
       "      <th>2</th>\n",
       "      <td>2018-01-22 01:00:00</td>\n",
       "      <td>1.225615</td>\n",
       "      <td>1.225755</td>\n",
       "      <td>1.224145</td>\n",
       "      <td>1.224425</td>\n",
       "      <td>-1</td>\n",
       "      <td>-1</td>\n",
       "      <td>-1.0</td>\n",
       "    </tr>\n",
       "    <tr>\n",
       "      <th>3</th>\n",
       "      <td>2018-01-22 02:00:00</td>\n",
       "      <td>1.224425</td>\n",
       "      <td>1.224465</td>\n",
       "      <td>1.222530</td>\n",
       "      <td>1.222875</td>\n",
       "      <td>-1</td>\n",
       "      <td>-1</td>\n",
       "      <td>-1.0</td>\n",
       "    </tr>\n",
       "    <tr>\n",
       "      <th>4</th>\n",
       "      <td>2018-01-22 03:00:00</td>\n",
       "      <td>1.222875</td>\n",
       "      <td>1.223775</td>\n",
       "      <td>1.222665</td>\n",
       "      <td>1.223670</td>\n",
       "      <td>-1</td>\n",
       "      <td>-1</td>\n",
       "      <td>-1.0</td>\n",
       "    </tr>\n",
       "  </tbody>\n",
       "</table>\n",
       "</div>"
      ],
      "text/plain": [
       "                 date      open      high       low     close  volume  \\\n",
       "0 2018-01-21 23:15:00  1.226275  1.226475  1.225570  1.225900      -1   \n",
       "1 2018-01-22 00:00:00  1.225900  1.225995  1.223405  1.225615      -1   \n",
       "2 2018-01-22 01:00:00  1.225615  1.225755  1.224145  1.224425      -1   \n",
       "3 2018-01-22 02:00:00  1.224425  1.224465  1.222530  1.222875      -1   \n",
       "4 2018-01-22 03:00:00  1.222875  1.223775  1.222665  1.223670      -1   \n",
       "\n",
       "   barCount  average  \n",
       "0        -1     -1.0  \n",
       "1        -1     -1.0  \n",
       "2        -1     -1.0  \n",
       "3        -1     -1.0  \n",
       "4        -1     -1.0  "
      ]
     },
     "execution_count": 6,
     "metadata": {},
     "output_type": "execute_result"
    }
   ],
   "source": [
    "df.head()"
   ]
  },
  {
   "cell_type": "code",
   "execution_count": 1,
   "metadata": {},
   "outputs": [],
   "source": [
    "import ibapi"
   ]
  },
  {
   "cell_type": "code",
   "execution_count": 2,
   "metadata": {},
   "outputs": [
    {
     "data": {
      "text/plain": [
       "'9.73.6'"
      ]
     },
     "execution_count": 2,
     "metadata": {},
     "output_type": "execute_result"
    }
   ],
   "source": [
    "ibapi.__version__\n"
   ]
  },
  {
   "cell_type": "code",
   "execution_count": 5,
   "metadata": {},
   "outputs": [
    {
     "data": {
      "text/plain": [
       "['9', '73', '2']"
      ]
     },
     "execution_count": 5,
     "metadata": {},
     "output_type": "execute_result"
    }
   ],
   "source": [
    "ibapi.__version__.split('.')"
   ]
  },
  {
   "cell_type": "code",
   "execution_count": 9,
   "metadata": {},
   "outputs": [
    {
     "name": "stderr",
     "output_type": "stream",
     "text": [
      "ERROR:ib_insync.client:Peer closed connection\n",
      "ERROR:ib_insync.client:clientId 2 already in use?\n",
      "ERROR:ib_insync.client:API connection failed: TimeoutError()\n"
     ]
    },
    {
     "ename": "TimeoutError",
     "evalue": "",
     "output_type": "error",
     "traceback": [
      "\u001b[0;31m---------------------------------------------------------------------------\u001b[0m",
      "\u001b[0;31mTimeoutError\u001b[0m                              Traceback (most recent call last)",
      "\u001b[0;32m<ipython-input-9-17849e95d18e>\u001b[0m in \u001b[0;36m<module>\u001b[0;34m()\u001b[0m\n\u001b[1;32m      3\u001b[0m \u001b[0;34m\u001b[0m\u001b[0m\n\u001b[1;32m      4\u001b[0m \u001b[0mib\u001b[0m \u001b[0;34m=\u001b[0m \u001b[0mIB\u001b[0m\u001b[0;34m(\u001b[0m\u001b[0;34m)\u001b[0m\u001b[0;34m\u001b[0m\u001b[0m\n\u001b[0;32m----> 5\u001b[0;31m \u001b[0mib\u001b[0m\u001b[0;34m.\u001b[0m\u001b[0mconnect\u001b[0m\u001b[0;34m(\u001b[0m\u001b[0;34m'127.0.0.1'\u001b[0m\u001b[0;34m,\u001b[0m \u001b[0;36m7497\u001b[0m\u001b[0;34m,\u001b[0m \u001b[0mclientId\u001b[0m\u001b[0;34m=\u001b[0m\u001b[0;36m2\u001b[0m\u001b[0;34m)\u001b[0m\u001b[0;34m\u001b[0m\u001b[0m\n\u001b[0m\u001b[1;32m      6\u001b[0m \u001b[0;34m\u001b[0m\u001b[0m\n\u001b[1;32m      7\u001b[0m \u001b[0mcontract\u001b[0m \u001b[0;34m=\u001b[0m \u001b[0mStock\u001b[0m\u001b[0;34m(\u001b[0m\u001b[0;34m'TSLA'\u001b[0m\u001b[0;34m,\u001b[0m \u001b[0;34m'SMART'\u001b[0m\u001b[0;34m,\u001b[0m \u001b[0;34m'USD'\u001b[0m\u001b[0;34m)\u001b[0m\u001b[0;34m\u001b[0m\u001b[0m\n",
      "\u001b[0;32m~/anaconda3/envs/pysys/lib/python3.6/site-packages/ib_insync/ib.py\u001b[0m in \u001b[0;36mconnect\u001b[0;34m(self, host, port, clientId, timeout)\u001b[0m\n\u001b[1;32m    108\u001b[0m         \u001b[0mThis\u001b[0m \u001b[0mmethod\u001b[0m \u001b[0;32mis\u001b[0m \u001b[0mblocking\u001b[0m\u001b[0;34m.\u001b[0m\u001b[0;34m\u001b[0m\u001b[0m\n\u001b[1;32m    109\u001b[0m         \"\"\"\n\u001b[0;32m--> 110\u001b[0;31m         \u001b[0mself\u001b[0m\u001b[0;34m.\u001b[0m\u001b[0mrun\u001b[0m\u001b[0;34m(\u001b[0m\u001b[0mself\u001b[0m\u001b[0;34m.\u001b[0m\u001b[0mconnectAsync\u001b[0m\u001b[0;34m(\u001b[0m\u001b[0mhost\u001b[0m\u001b[0;34m,\u001b[0m \u001b[0mport\u001b[0m\u001b[0;34m,\u001b[0m \u001b[0mclientId\u001b[0m\u001b[0;34m,\u001b[0m \u001b[0mtimeout\u001b[0m\u001b[0;34m)\u001b[0m\u001b[0;34m)\u001b[0m\u001b[0;34m\u001b[0m\u001b[0m\n\u001b[0m\u001b[1;32m    111\u001b[0m         \u001b[0;32mreturn\u001b[0m \u001b[0mself\u001b[0m\u001b[0;34m\u001b[0m\u001b[0m\n\u001b[1;32m    112\u001b[0m \u001b[0;34m\u001b[0m\u001b[0m\n",
      "\u001b[0;32m~/anaconda3/envs/pysys/lib/python3.6/site-packages/ib_insync/ib.py\u001b[0m in \u001b[0;36mrun\u001b[0;34m(*awaitables)\u001b[0m\n\u001b[1;32m    157\u001b[0m             \u001b[0;32melse\u001b[0m\u001b[0;34m:\u001b[0m\u001b[0;34m\u001b[0m\u001b[0m\n\u001b[1;32m    158\u001b[0m                 \u001b[0mfuture\u001b[0m \u001b[0;34m=\u001b[0m \u001b[0masyncio\u001b[0m\u001b[0;34m.\u001b[0m\u001b[0mgather\u001b[0m\u001b[0;34m(\u001b[0m\u001b[0;34m*\u001b[0m\u001b[0mawaitables\u001b[0m\u001b[0;34m)\u001b[0m\u001b[0;34m\u001b[0m\u001b[0m\n\u001b[0;32m--> 159\u001b[0;31m             \u001b[0mresult\u001b[0m \u001b[0;34m=\u001b[0m \u001b[0mutil\u001b[0m\u001b[0;34m.\u001b[0m\u001b[0msyncAwait\u001b[0m\u001b[0;34m(\u001b[0m\u001b[0mfuture\u001b[0m\u001b[0;34m)\u001b[0m\u001b[0;34m\u001b[0m\u001b[0m\n\u001b[0m\u001b[1;32m    160\u001b[0m         \u001b[0;32mreturn\u001b[0m \u001b[0mresult\u001b[0m\u001b[0;34m\u001b[0m\u001b[0m\n\u001b[1;32m    161\u001b[0m \u001b[0;34m\u001b[0m\u001b[0m\n",
      "\u001b[0;32m~/anaconda3/envs/pysys/lib/python3.6/site-packages/ib_insync/util.py\u001b[0m in \u001b[0;36msyncAwait\u001b[0;34m(future)\u001b[0m\n\u001b[1;32m    236\u001b[0m \u001b[0;34m\u001b[0m\u001b[0m\n\u001b[1;32m    237\u001b[0m     \u001b[0;32mif\u001b[0m \u001b[0;32mnot\u001b[0m \u001b[0mloop\u001b[0m\u001b[0;34m.\u001b[0m\u001b[0mis_running\u001b[0m\u001b[0;34m(\u001b[0m\u001b[0;34m)\u001b[0m\u001b[0;34m:\u001b[0m\u001b[0;34m\u001b[0m\u001b[0m\n\u001b[0;32m--> 238\u001b[0;31m         \u001b[0mresult\u001b[0m \u001b[0;34m=\u001b[0m \u001b[0mloop\u001b[0m\u001b[0;34m.\u001b[0m\u001b[0mrun_until_complete\u001b[0m\u001b[0;34m(\u001b[0m\u001b[0mfuture\u001b[0m\u001b[0;34m)\u001b[0m\u001b[0;34m\u001b[0m\u001b[0m\n\u001b[0m\u001b[1;32m    239\u001b[0m     \u001b[0;32melif\u001b[0m \u001b[0misQuamash\u001b[0m\u001b[0;34m:\u001b[0m\u001b[0;34m\u001b[0m\u001b[0m\n\u001b[1;32m    240\u001b[0m         \u001b[0mresult\u001b[0m \u001b[0;34m=\u001b[0m \u001b[0m_syncAwaitQt\u001b[0m\u001b[0;34m(\u001b[0m\u001b[0mfuture\u001b[0m\u001b[0;34m)\u001b[0m\u001b[0;34m\u001b[0m\u001b[0m\n",
      "\u001b[0;32m~/anaconda3/envs/pysys/lib/python3.6/asyncio/base_events.py\u001b[0m in \u001b[0;36mrun_until_complete\u001b[0;34m(self, future)\u001b[0m\n\u001b[1;32m    465\u001b[0m             \u001b[0;32mraise\u001b[0m \u001b[0mRuntimeError\u001b[0m\u001b[0;34m(\u001b[0m\u001b[0;34m'Event loop stopped before Future completed.'\u001b[0m\u001b[0;34m)\u001b[0m\u001b[0;34m\u001b[0m\u001b[0m\n\u001b[1;32m    466\u001b[0m \u001b[0;34m\u001b[0m\u001b[0m\n\u001b[0;32m--> 467\u001b[0;31m         \u001b[0;32mreturn\u001b[0m \u001b[0mfuture\u001b[0m\u001b[0;34m.\u001b[0m\u001b[0mresult\u001b[0m\u001b[0;34m(\u001b[0m\u001b[0;34m)\u001b[0m\u001b[0;34m\u001b[0m\u001b[0m\n\u001b[0m\u001b[1;32m    468\u001b[0m \u001b[0;34m\u001b[0m\u001b[0m\n\u001b[1;32m    469\u001b[0m     \u001b[0;32mdef\u001b[0m \u001b[0mstop\u001b[0m\u001b[0;34m(\u001b[0m\u001b[0mself\u001b[0m\u001b[0;34m)\u001b[0m\u001b[0;34m:\u001b[0m\u001b[0;34m\u001b[0m\u001b[0m\n",
      "\u001b[0;32m~/anaconda3/envs/pysys/lib/python3.6/site-packages/ib_insync/ib.py\u001b[0m in \u001b[0;36mconnectAsync\u001b[0;34m(self, host, port, clientId, timeout)\u001b[0m\n\u001b[1;32m   1063\u001b[0m     \u001b[0;34masync\u001b[0m \u001b[0;32mdef\u001b[0m \u001b[0mconnectAsync\u001b[0m\u001b[0;34m(\u001b[0m\u001b[0mself\u001b[0m\u001b[0;34m,\u001b[0m \u001b[0mhost\u001b[0m\u001b[0;34m,\u001b[0m \u001b[0mport\u001b[0m\u001b[0;34m,\u001b[0m \u001b[0mclientId\u001b[0m\u001b[0;34m,\u001b[0m \u001b[0mtimeout\u001b[0m\u001b[0;34m=\u001b[0m\u001b[0;36m2\u001b[0m\u001b[0;34m)\u001b[0m\u001b[0;34m:\u001b[0m\u001b[0;34m\u001b[0m\u001b[0m\n\u001b[1;32m   1064\u001b[0m         \u001b[0mself\u001b[0m\u001b[0;34m.\u001b[0m\u001b[0mwrapper\u001b[0m\u001b[0;34m.\u001b[0m\u001b[0mclientId\u001b[0m \u001b[0;34m=\u001b[0m \u001b[0mclientId\u001b[0m\u001b[0;34m\u001b[0m\u001b[0m\n\u001b[0;32m-> 1065\u001b[0;31m         \u001b[0mawait\u001b[0m \u001b[0mself\u001b[0m\u001b[0;34m.\u001b[0m\u001b[0mclient\u001b[0m\u001b[0;34m.\u001b[0m\u001b[0mconnectAsync\u001b[0m\u001b[0;34m(\u001b[0m\u001b[0mhost\u001b[0m\u001b[0;34m,\u001b[0m \u001b[0mport\u001b[0m\u001b[0;34m,\u001b[0m \u001b[0mclientId\u001b[0m\u001b[0;34m,\u001b[0m \u001b[0mtimeout\u001b[0m\u001b[0;34m)\u001b[0m\u001b[0;34m\u001b[0m\u001b[0m\n\u001b[0m\u001b[1;32m   1066\u001b[0m         await asyncio.gather(\n\u001b[1;32m   1067\u001b[0m                 \u001b[0mself\u001b[0m\u001b[0;34m.\u001b[0m\u001b[0mreqAccountUpdatesAsync\u001b[0m\u001b[0;34m(\u001b[0m\u001b[0;34m)\u001b[0m\u001b[0;34m,\u001b[0m\u001b[0;34m\u001b[0m\u001b[0m\n",
      "\u001b[0;32m~/anaconda3/envs/pysys/lib/python3.6/site-packages/ib_insync/client.py\u001b[0m in \u001b[0;36mconnectAsync\u001b[0;34m(self, host, port, clientId, timeout)\u001b[0m\n\u001b[1;32m    159\u001b[0m         \u001b[0;32mtry\u001b[0m\u001b[0;34m:\u001b[0m\u001b[0;34m\u001b[0m\u001b[0m\n\u001b[1;32m    160\u001b[0m             await asyncio.wait_for(asyncio.gather(\n\u001b[0;32m--> 161\u001b[0;31m                     self.conn.connect(), self._readyEvent.wait()), timeout)\n\u001b[0m\u001b[1;32m    162\u001b[0m             \u001b[0mself\u001b[0m\u001b[0;34m.\u001b[0m\u001b[0m_logger\u001b[0m\u001b[0;34m.\u001b[0m\u001b[0minfo\u001b[0m\u001b[0;34m(\u001b[0m\u001b[0;34m'API connection ready'\u001b[0m\u001b[0;34m)\u001b[0m\u001b[0;34m\u001b[0m\u001b[0m\n\u001b[1;32m    163\u001b[0m             \u001b[0;32mif\u001b[0m \u001b[0mself\u001b[0m\u001b[0;34m.\u001b[0m\u001b[0mapiStart\u001b[0m\u001b[0;34m:\u001b[0m\u001b[0;34m\u001b[0m\u001b[0m\n",
      "\u001b[0;32m~/anaconda3/envs/pysys/lib/python3.6/asyncio/tasks.py\u001b[0m in \u001b[0;36mwait_for\u001b[0;34m(fut, timeout, loop)\u001b[0m\n\u001b[1;32m    360\u001b[0m             \u001b[0mfut\u001b[0m\u001b[0;34m.\u001b[0m\u001b[0mremove_done_callback\u001b[0m\u001b[0;34m(\u001b[0m\u001b[0mcb\u001b[0m\u001b[0;34m)\u001b[0m\u001b[0;34m\u001b[0m\u001b[0m\n\u001b[1;32m    361\u001b[0m             \u001b[0mfut\u001b[0m\u001b[0;34m.\u001b[0m\u001b[0mcancel\u001b[0m\u001b[0;34m(\u001b[0m\u001b[0;34m)\u001b[0m\u001b[0;34m\u001b[0m\u001b[0m\n\u001b[0;32m--> 362\u001b[0;31m             \u001b[0;32mraise\u001b[0m \u001b[0mfutures\u001b[0m\u001b[0;34m.\u001b[0m\u001b[0mTimeoutError\u001b[0m\u001b[0;34m(\u001b[0m\u001b[0;34m)\u001b[0m\u001b[0;34m\u001b[0m\u001b[0m\n\u001b[0m\u001b[1;32m    363\u001b[0m     \u001b[0;32mfinally\u001b[0m\u001b[0;34m:\u001b[0m\u001b[0;34m\u001b[0m\u001b[0m\n\u001b[1;32m    364\u001b[0m         \u001b[0mtimeout_handle\u001b[0m\u001b[0;34m.\u001b[0m\u001b[0mcancel\u001b[0m\u001b[0;34m(\u001b[0m\u001b[0;34m)\u001b[0m\u001b[0;34m\u001b[0m\u001b[0m\n",
      "\u001b[0;31mTimeoutError\u001b[0m: "
     ]
    }
   ],
   "source": [
    "import datetime\n",
    "from ib_insync import *\n",
    "\n",
    "ib = IB()\n",
    "ib.connect('127.0.0.1', 7497, clientId=2)\n",
    "\n",
    "contract = Stock('TSLA', 'SMART', 'USD')\n",
    "\n",
    "dt = ''\n",
    "barsList = []\n",
    "while True:\n",
    "    bars = ib.reqHistoricalData(\n",
    "            contract,\n",
    "            endDateTime=dt,\n",
    "            durationStr='10 D',\n",
    "            barSizeSetting='1 min',\n",
    "            whatToShow='MIDPOINT',\n",
    "            useRTH=True,\n",
    "            formatDate=1)\n",
    "    if not bars:\n",
    "        break\n",
    "    barsList.append(bars)\n",
    "    dt = bars[0].date\n",
    "    print(dt)\n",
    "\n",
    "allBars = [b for bars in reversed(barsList) for b in bars]\n",
    "df = util.df(allBars)\n",
    "df.to_csv(contract.symbol + '.csv')"
   ]
  },
  {
   "cell_type": "code",
   "execution_count": 10,
   "metadata": {},
   "outputs": [
    {
     "name": "stderr",
     "output_type": "stream",
     "text": [
      "ERROR:asyncio:_GatheringFuture exception was never retrieved\n",
      "future: <_GatheringFuture finished exception=CancelledError()>\n",
      "concurrent.futures._base.CancelledError\n"
     ]
    },
    {
     "ename": "ModuleNotFoundError",
     "evalue": "No module named 'quamash'",
     "output_type": "error",
     "traceback": [
      "\u001b[0;31m---------------------------------------------------------------------------\u001b[0m",
      "\u001b[0;31mModuleNotFoundError\u001b[0m                       Traceback (most recent call last)",
      "\u001b[0;32m<ipython-input-10-a22739f59a20>\u001b[0m in \u001b[0;36m<module>\u001b[0;34m()\u001b[0m\n\u001b[1;32m     91\u001b[0m \u001b[0;32mif\u001b[0m \u001b[0m__name__\u001b[0m \u001b[0;34m==\u001b[0m \u001b[0;34m'__main__'\u001b[0m\u001b[0;34m:\u001b[0m\u001b[0;34m\u001b[0m\u001b[0m\n\u001b[1;32m     92\u001b[0m     \u001b[0msys\u001b[0m\u001b[0;34m.\u001b[0m\u001b[0mexcepthook\u001b[0m \u001b[0;34m=\u001b[0m \u001b[0mtraceback\u001b[0m\u001b[0;34m.\u001b[0m\u001b[0mprint_exception\u001b[0m\u001b[0;34m\u001b[0m\u001b[0m\n\u001b[0;32m---> 93\u001b[0;31m     \u001b[0mutil\u001b[0m\u001b[0;34m.\u001b[0m\u001b[0museQt\u001b[0m\u001b[0;34m(\u001b[0m\u001b[0;34m)\u001b[0m\u001b[0;34m\u001b[0m\u001b[0m\n\u001b[0m\u001b[1;32m     94\u001b[0m     \u001b[0mutil\u001b[0m\u001b[0;34m.\u001b[0m\u001b[0mallowCtrlC\u001b[0m\u001b[0;34m(\u001b[0m\u001b[0;34m)\u001b[0m\u001b[0;34m\u001b[0m\u001b[0m\n\u001b[1;32m     95\u001b[0m     \u001b[0mwindow\u001b[0m \u001b[0;34m=\u001b[0m \u001b[0mWindow\u001b[0m\u001b[0;34m(\u001b[0m\u001b[0;34m'127.0.0.1'\u001b[0m\u001b[0;34m,\u001b[0m \u001b[0;36m7497\u001b[0m\u001b[0;34m,\u001b[0m \u001b[0;36m6\u001b[0m\u001b[0;34m)\u001b[0m\u001b[0;34m\u001b[0m\u001b[0m\n",
      "\u001b[0;32m~/anaconda3/envs/pysys/lib/python3.6/site-packages/ib_insync/util.py\u001b[0m in \u001b[0;36museQt\u001b[0;34m()\u001b[0m\n\u001b[1;32m    312\u001b[0m     \"\"\"\n\u001b[1;32m    313\u001b[0m     \u001b[0;32mimport\u001b[0m \u001b[0mPyQt5\u001b[0m\u001b[0;34m.\u001b[0m\u001b[0mQt\u001b[0m \u001b[0;32mas\u001b[0m \u001b[0mqt\u001b[0m\u001b[0;34m\u001b[0m\u001b[0m\n\u001b[0;32m--> 314\u001b[0;31m     \u001b[0;32mimport\u001b[0m \u001b[0mquamash\u001b[0m\u001b[0;34m\u001b[0m\u001b[0m\n\u001b[0m\u001b[1;32m    315\u001b[0m     \u001b[0;32mif\u001b[0m \u001b[0misinstance\u001b[0m\u001b[0;34m(\u001b[0m\u001b[0masyncio\u001b[0m\u001b[0;34m.\u001b[0m\u001b[0mget_event_loop\u001b[0m\u001b[0;34m(\u001b[0m\u001b[0;34m)\u001b[0m\u001b[0;34m,\u001b[0m \u001b[0mquamash\u001b[0m\u001b[0;34m.\u001b[0m\u001b[0mQEventLoop\u001b[0m\u001b[0;34m)\u001b[0m\u001b[0;34m:\u001b[0m\u001b[0;34m\u001b[0m\u001b[0m\n\u001b[1;32m    316\u001b[0m         \u001b[0;32mreturn\u001b[0m\u001b[0;34m\u001b[0m\u001b[0m\n",
      "\u001b[0;31mModuleNotFoundError\u001b[0m: No module named 'quamash'"
     ]
    }
   ],
   "source": [
    "import sys\n",
    "import traceback\n",
    "import PyQt5.Qt as qt\n",
    "from ib_insync import *\n",
    "\n",
    "\n",
    "class TickerTable(qt.QTableWidget):\n",
    "\n",
    "    headers = ['symbol', 'bidSize', 'bid', 'ask', 'askSize',\n",
    "            'last', 'lastSize', 'close']\n",
    "\n",
    "    def __init__(self, parent=None):\n",
    "        qt.QTableWidget.__init__(self, parent)\n",
    "        self.conId2Row = {}\n",
    "        self.setColumnCount(len(self.headers))\n",
    "        self.setHorizontalHeaderLabels(self.headers)\n",
    "        self.setAlternatingRowColors(True)\n",
    "\n",
    "    def __contains__(self, contract):\n",
    "        assert contract.conId\n",
    "        return contract.conId in self.conId2Row\n",
    "\n",
    "    def addTicker(self, ticker):\n",
    "        row = self.rowCount()\n",
    "        self.insertRow(row)\n",
    "        self.conId2Row[ticker.contract.conId] = row\n",
    "        for col in range(len(self.headers)):\n",
    "            item = qt.QTableWidgetItem('-')\n",
    "            self.setItem(row, col, item)\n",
    "        item = self.item(row, 0)\n",
    "        item.setText(ticker.contract.symbol + (ticker.contract.currency\n",
    "                if ticker.contract.secType == 'CASH' else ''))\n",
    "        self.resizeColumnsToContents()\n",
    "\n",
    "    def clearTickers(self):\n",
    "        self.setRowCount(0)\n",
    "        self.conId2Row.clear()\n",
    "\n",
    "    def onPendingTickers(self, tickers):\n",
    "        for ticker in tickers:\n",
    "            row = self.conId2Row[ticker.contract.conId]\n",
    "            for col, header in enumerate(self.headers):\n",
    "                if col == 0:\n",
    "                    continue\n",
    "                item = self.item(row, col)\n",
    "                val = getattr(ticker, header)\n",
    "                item.setText(str(val))\n",
    "\n",
    "\n",
    "class Window(qt.QWidget):\n",
    "\n",
    "    def __init__(self, host, port, clientId):\n",
    "        qt.QWidget.__init__(self)\n",
    "        self.edit = qt.QLineEdit('', self)\n",
    "        self.edit.editingFinished.connect(self.add)\n",
    "        self.table = TickerTable()\n",
    "        self.connectButton = qt.QPushButton('Connect')\n",
    "        self.connectButton.clicked.connect(self.onConnectButtonClicked)\n",
    "        layout = qt.QVBoxLayout(self)\n",
    "        layout.addWidget(self.edit)\n",
    "        layout.addWidget(self.table)\n",
    "        layout.addWidget(self.connectButton)\n",
    "\n",
    "        self.connectInfo = (host, port, clientId)\n",
    "        self.ib = IB()\n",
    "        self.ib.setCallback('pendingTickers', self.table.onPendingTickers)\n",
    "\n",
    "    def add(self, text=''):\n",
    "        text = text or self.edit.text()\n",
    "        if text:\n",
    "            contract = eval(text)\n",
    "            if (contract and self.ib.qualifyContracts(contract)\n",
    "                    and contract not in self.table):\n",
    "                ticker = self.ib.reqMktData(contract, '', False, False, None)\n",
    "                self.table.addTicker(ticker)\n",
    "            self.edit.setText(text)\n",
    "\n",
    "    def onConnectButtonClicked(self, _):\n",
    "        if self.ib.isConnected():\n",
    "            self.ib.disconnect()\n",
    "            self.table.clearTickers()\n",
    "            self.connectButton.setText('Connect')\n",
    "        else:\n",
    "            self.ib.connect(*self.connectInfo)\n",
    "            self.connectButton.setText('Disonnect')\n",
    "            for symbol in 'EURUSD USDJPY EURGBP USDCAD EURCHF AUDUSD NZDUSD'.split():\n",
    "                self.add(f\"Forex('{symbol}')\")\n",
    "            self.add(\"Stock('TSLA', 'SMART', 'USD')\")\n",
    "\n",
    "\n",
    "if __name__ == '__main__':\n",
    "    sys.excepthook = traceback.print_exception\n",
    "    util.useQt()\n",
    "    util.allowCtrlC()\n",
    "    window = Window('127.0.0.1', 7497, 6)\n",
    "    window.resize(600, 400)\n",
    "    window.show()\n",
    "    IB.run()"
   ]
  },
  {
   "cell_type": "code",
   "execution_count": 11,
   "metadata": {},
   "outputs": [
    {
     "name": "stdout",
     "output_type": "stream",
     "text": [
      "['util', 'Object', 'ContractDetails', 'ContractDescription', 'ComboLeg', 'UnderComp', 'OrderComboLeg', 'OrderState', 'ScannerSubscription', 'SoftDollarTier', 'Execution', 'CommissionReport', 'ExecutionFilter', 'BarList', 'BarDataList', 'RealTimeBarList', 'BarData', 'RealTimeBar', 'HistogramData', 'TickAttrib', 'NewsProvider', 'DepthMktDataDescription', 'AccountValue', 'RealTimeBar', 'TickData', 'TickByTickAllLast', 'TickByTickBidAsk', 'TickByTickMidPoint', 'HistoricalTick', 'HistoricalTickBidAsk', 'HistoricalTickLast', 'MktDepthData', 'DOMLevel', 'BracketOrder', 'TradeLogEntry', 'ScanData', 'TagValue', 'PortfolioItem', 'Position', 'Fill', 'OptionComputation', 'OptionChain', 'Dividends', 'NewsArticle', 'HistoricalNews', 'NewsTick', 'NewsBulletin', 'ConnectionStats', 'OrderCondition', 'ExecutionCondition', 'OperatorCondition', 'MarginCondition', 'ContractCondition', 'TimeCondition', 'PriceCondition', 'PercentChangeCondition', 'VolumeCondition', 'Contract', 'Stock', 'Option', 'Future', 'Forex', 'Index', 'CFD', 'Commodity', 'Bond', 'FuturesOption', 'MutualFund', 'Warrant', 'Trade', 'OrderStatus', 'Order', 'LimitOrder', 'MarketOrder', 'StopOrder', 'StopLimitOrder', 'Ticker', 'IB', 'Client', 'Wrapper', 'FlexReport', 'FlexError', 'IBController', 'Watchdog']\n"
     ]
    }
   ],
   "source": [
    "import ib_insync\n",
    "print(ib_insync.__all__)"
   ]
  },
  {
   "cell_type": "code",
   "execution_count": 12,
   "metadata": {},
   "outputs": [
    {
     "name": "stderr",
     "output_type": "stream",
     "text": [
      "ERROR:ib_insync.wrapper:Error 1100, reqId -1: Connectivity between IB and Trader Workstation has been lost.\n",
      "ERROR:ib_insync.wrapper:Error 1100, reqId -1: Connectivity between IB and Trader Workstation has been lost.\n",
      "ERROR:ib_insync.wrapper:Error 1100, reqId -1: Connectivity between IB and Trader Workstation has been lost.\n",
      "ERROR:ib_insync.wrapper:Error 1102, reqId -1: Connectivity between IB and Trader Workstation has been restored - data maintained.\n",
      "ERROR:ib_insync.wrapper:Error 1100, reqId -1: Connectivity between IB and Trader Workstation has been lost.\n",
      "ERROR:ib_insync.wrapper:Error 1100, reqId -1: Connectivity between IB and Trader Workstation has been lost.\n",
      "ERROR:ib_insync.wrapper:Error 1100, reqId -1: Connectivity between IB and Trader Workstation has been lost.\n",
      "ERROR:ib_insync.wrapper:Error 1100, reqId -1: Connectivity between IB and Trader Workstation has been lost.\n",
      "ERROR:ib_insync.wrapper:Error 1100, reqId -1: Connectivity between IB and Trader Workstation has been lost.\n",
      "ERROR:ib_insync.wrapper:Error 1100, reqId -1: Connectivity between IB and Trader Workstation has been lost.\n",
      "ERROR:ib_insync.wrapper:Error 1100, reqId -1: Connectivity between IB and Trader Workstation has been lost.\n",
      "ERROR:ib_insync.wrapper:Error 1102, reqId -1: Connectivity between IB and Trader Workstation has been restored - data maintained.\n",
      "ERROR:ib_insync.wrapper:Error 1100, reqId -1: Connectivity between IB and Trader Workstation has been lost.\n",
      "ERROR:ib_insync.wrapper:Error 1100, reqId -1: Connectivity between IB and Trader Workstation has been lost.\n",
      "ERROR:ib_insync.wrapper:Error 1100, reqId -1: Connectivity between IB and Trader Workstation has been lost.\n",
      "ERROR:ib_insync.wrapper:Error 1102, reqId -1: Connectivity between IB and Trader Workstation has been restored - data maintained.\n",
      "ERROR:ib_insync.wrapper:Error 1100, reqId -1: Connectivity between IB and Trader Workstation has been lost.\n",
      "ERROR:ib_insync.wrapper:Error 1100, reqId -1: Connectivity between IB and Trader Workstation has been lost.\n",
      "ERROR:ib_insync.wrapper:Error 1100, reqId -1: Connectivity between IB and Trader Workstation has been lost.\n",
      "ERROR:ib_insync.wrapper:Error 1100, reqId -1: Connectivity between IB and Trader Workstation has been lost.\n",
      "ERROR:ib_insync.wrapper:Error 1100, reqId -1: Connectivity between IB and Trader Workstation has been lost.\n",
      "ERROR:ib_insync.wrapper:Error 1100, reqId -1: Connectivity between IB and Trader Workstation has been lost.\n",
      "ERROR:ib_insync.wrapper:Error 1100, reqId -1: Connectivity between IB and Trader Workstation has been lost.\n",
      "ERROR:ib_insync.wrapper:Error 1102, reqId -1: Connectivity between IB and Trader Workstation has been restored - data maintained.\n"
     ]
    }
   ],
   "source": [
    "from ib_insync import *\n",
    "util.startLoop()"
   ]
  },
  {
   "cell_type": "code",
   "execution_count": 13,
   "metadata": {},
   "outputs": [
    {
     "data": {
      "text/plain": [
       "<IB connected to 127.0.0.1:7497 clientId=10>"
      ]
     },
     "execution_count": 13,
     "metadata": {},
     "output_type": "execute_result"
    }
   ],
   "source": [
    "\n",
    "\n",
    "ib = IB()\n",
    "ib.connect('127.0.0.1', 7497, clientId=10)\n",
    "\n"
   ]
  },
  {
   "cell_type": "code",
   "execution_count": 14,
   "metadata": {},
   "outputs": [
    {
     "data": {
      "text/plain": [
       "[AccountValue(account='DU182104', tag='NetLiquidationByCurrency', value='1088981', currency='BASE', modelCode='')]"
      ]
     },
     "execution_count": 14,
     "metadata": {},
     "output_type": "execute_result"
    }
   ],
   "source": [
    "\n",
    "\n",
    "[v for v in ib.accountValues() if v.tag == 'NetLiquidationByCurrency' and v.currency == 'BASE']\n",
    "\n"
   ]
  },
  {
   "cell_type": "code",
   "execution_count": 15,
   "metadata": {},
   "outputs": [
    {
     "data": {
      "text/plain": [
       "28"
      ]
     },
     "execution_count": 15,
     "metadata": {},
     "output_type": "execute_result"
    }
   ],
   "source": [
    "Future('ES', '20180921', 'GLOBEX')\n",
    "\n",
    "cds = ib.reqContractDetails(amd)\n",
    "\n",
    "len(cds)"
   ]
  },
  {
   "cell_type": "code",
   "execution_count": 16,
   "metadata": {},
   "outputs": [
    {
     "data": {
      "text/plain": [
       "[ContractDetails(summary=Contract(secType='STK', conId=4391, symbol='AMD', exchange='SMART', primaryExchange='NASDAQ', currency='USD', localSymbol='AMD', tradingClass='SCM'), marketName='SCM', minTick=0.01, orderTypes='ACTIVETIM,ADJUST,ALERT,ALGO,ALLOC,AON,AVGCOST,BASKET,COND,CONDORDER,DARKONLY,DARKPOLL,DAY,DEACT,DEACTDIS,DEACTEOD,DIS,GAT,GTC,GTD,GTT,HID,IBKRATS,ICE,IMB,IOC,LIT,LMT,LOC,MIT,MKT,MOC,MTL,NGCOMB,NODARK,NONALGO,OCA,OPG,OPGREROUT,PEGBENCH,POSTONLY,PREOPGRTH,REL,RPI,RTH,SCALE,SCALEODD,SCALERST,SNAPMID,SNAPMKT,SNAPREL,STP,STPLMT,SWEEP,TRAIL,TRAILLIT,TRAILLMT,TRAILMIT,WHATIF', validExchanges='SMART,AMEX,CBOE,ISE,CHX,ARCA,ISLAND,VWAP,DRCTEDGE,NSX,BEX,BATS,EDGEA,CSFBALGO,JEFFALGO,BYX,IEX,PSX', priceMagnifier=1, longName='ADVANCED MICRO DEVICES', industry='Technology', category='Semiconductors', subcategory='Electronic Compo-Semicon', timeZoneId='EST5EDT', tradingHours='20180303:CLOSED;20180304:CLOSED;20180305:0400-2000;20180306:0400-2000;20180307:0400-2000;20180308:0400-2000;20180309:0400-2000;20180310:CLOSED;20180311:CLOSED;20180312:0400-2000;20180313:0400-2000;20180314:0400-2000;20180315:0400-2000;20180316:0400-2000;20180317:CLOSED;20180318:CLOSED;20180319:0400-2000;20180320:0400-2000;20180321:0400-2000;20180322:0400-2000;20180323:0400-2000;20180324:CLOSED;20180325:CLOSED;20180326:0400-2000;20180327:0400-2000;20180328:0400-2000;20180329:0400-2000;20180330:0400-2000;20180331:CLOSED;20180401:CLOSED;20180402:0400-2000;20180403:0400-2000;20180404:0400-2000;20180405:0400-2000;20180406:0400-2000', liquidHours='20180303:CLOSED;20180304:CLOSED;20180305:0930-1600;20180306:0930-1600;20180307:0930-1600;20180308:0930-1600;20180309:0930-1600;20180310:CLOSED;20180311:CLOSED;20180312:0930-1600;20180313:0930-1600;20180314:0930-1600;20180315:0930-1600;20180316:0930-1600;20180317:CLOSED;20180318:CLOSED;20180319:0930-1600;20180320:0930-1600;20180321:0930-1600;20180322:0930-1600;20180323:0930-1600;20180324:CLOSED;20180325:CLOSED;20180326:0930-1600;20180327:0930-1600;20180328:0930-1600;20180329:0930-1600;20180330:0930-1600;20180331:CLOSED;20180401:CLOSED;20180402:0930-1600;20180403:0930-1600;20180404:0930-1600;20180405:0930-1600;20180406:0930-1600', mdSizeMultiplier=100, aggGroup=1, marketRuleIds='26,26,26,26,26,26,26,26,26,26,26,26,26,26,26,26,26,26'),\n",
       " ContractDetails(summary=Contract(secType='STK', conId=32596680, symbol='AMD', exchange='SMART', primaryExchange='IBIS', currency='EUR', localSymbol='AMD', tradingClass='USSTARS'), marketName='USSTARS', minTick=0.0001, orderTypes='ACTIVETIM,ADJUST,ALERT,ALGOLTH,ALLOC,AVGCOST,BASKET,COND,CONDORDER,CONSCOST,DAY,DEACT,DEACTDIS,DEACTEOD,GAT,GTC,GTD,GTT,HID,IOC,LIT,LMT,LOC,LTH,MIT,MKT,MOC,MTL,NGCOMB,NONALGO,OCA,OPG,PEGBENCH,REL,SNAPMID,SNAPMKT,SNAPREL,STP,STPLMT,TRAIL,TRAILLIT,TRAILLMT,TRAILMIT,WHATIF', validExchanges='SMART,FWB,IBIS,BVME,SWB,TGATE', priceMagnifier=1, longName='ADVANCED MICRO DEVICES', industry='Technology', category='Semiconductors', subcategory='Electronic Compo-Semicon', timeZoneId='MET', tradingHours='20180304:CLOSED;20180305:0800-2200;20180306:0800-2200;20180307:0800-2200;20180308:0800-2200;20180309:0800-2200;20180310:CLOSED;20180311:CLOSED;20180312:0800-2200;20180313:0800-2200;20180314:0800-2200;20180315:0800-2200;20180316:0800-2200;20180317:CLOSED;20180318:CLOSED;20180319:0800-2200;20180320:0800-2200;20180321:0800-2200;20180322:0800-2200;20180323:0800-2200;20180324:CLOSED;20180325:CLOSED;20180326:0800-2200;20180327:0800-2200;20180328:0800-2200;20180329:0800-2200;20180330:0800-2200;20180331:CLOSED;20180401:CLOSED;20180402:0800-2200;20180403:0800-2200;20180404:0800-2200;20180405:0800-2200;20180406:0800-2200;20180407:CLOSED', liquidHours='20180304:CLOSED;20180305:0900-1730;20180306:0900-1730;20180307:0900-1730;20180308:0900-1730;20180309:0900-1730;20180310:CLOSED;20180311:CLOSED;20180312:0900-1730;20180313:0900-1730;20180314:0900-1730;20180315:0900-1730;20180316:0900-1730;20180317:CLOSED;20180318:CLOSED;20180319:0900-1730;20180320:0900-1730;20180321:0900-1730;20180322:0900-1730;20180323:0900-1730;20180324:CLOSED;20180325:CLOSED;20180326:0900-1730;20180327:0900-1730;20180328:0900-1730;20180329:0900-1730;20180330:0900-1730;20180331:CLOSED;20180401:CLOSED;20180402:0900-1730;20180403:0900-1730;20180404:0900-1730;20180405:0900-1730;20180406:0900-1730;20180407:CLOSED', mdSizeMultiplier=1, aggGroup=6, marketRuleIds='1871,576,576,1871,1871,576', secIdList=[TagValue(tag='ISIN', value='US0079031078')]),\n",
       " ContractDetails(summary=Contract(secType='STK', conId=4391, symbol='AMD', exchange='AMEX', primaryExchange='NASDAQ', currency='USD', localSymbol='AMD', tradingClass='SCM'), marketName='SCM', minTick=0.01, orderTypes='ACTIVETIM,ADJUST,ALERT,ALLOC,AVGCOST,BASKET,COND,CONDORDER,DAY,DEACT,DEACTDIS,DEACTEOD,GAT,GTC,GTD,GTT,HID,LIT,LMT,MIT,MKT,MTL,NGCOMB,NONALGO,OCA,PEGBENCH,SCALE,SCALERST,SNAPMID,SNAPMKT,SNAPREL,STP,STPLMT,TRAIL,TRAILLIT,TRAILLMT,TRAILMIT,WHATIF', validExchanges='SMART,AMEX,CBOE,ISE,CHX,ARCA,ISLAND,VWAP,DRCTEDGE,NSX,BEX,BATS,EDGEA,CSFBALGO,JEFFALGO,BYX,IEX,PSX', priceMagnifier=1, longName='ADVANCED MICRO DEVICES', industry='Technology', category='Semiconductors', subcategory='Electronic Compo-Semicon', timeZoneId='EST5EDT', tradingHours='20180303:CLOSED;20180304:CLOSED;20180305:0700-2000;20180306:0700-2000;20180307:0700-2000;20180308:0700-2000;20180309:0700-2000;20180310:CLOSED;20180311:CLOSED;20180312:0700-2000;20180313:0700-2000;20180314:0700-2000;20180315:0700-2000;20180316:0700-2000;20180317:CLOSED;20180318:CLOSED;20180319:0700-2000;20180320:0700-2000;20180321:0700-2000;20180322:0700-2000;20180323:0700-2000;20180324:CLOSED;20180325:CLOSED;20180326:0700-2000;20180327:0700-2000;20180328:0700-2000;20180329:0700-2000;20180330:0700-2000;20180331:CLOSED;20180401:CLOSED;20180402:0700-2000;20180403:0700-2000;20180404:0700-2000;20180405:0700-2000;20180406:0700-2000', liquidHours='20180303:CLOSED;20180304:CLOSED;20180305:0700-2000;20180306:0700-2000;20180307:0700-2000;20180308:0700-2000;20180309:0700-2000;20180310:CLOSED;20180311:CLOSED;20180312:0700-2000;20180313:0700-2000;20180314:0700-2000;20180315:0700-2000;20180316:0700-2000;20180317:CLOSED;20180318:CLOSED;20180319:0700-2000;20180320:0700-2000;20180321:0700-2000;20180322:0700-2000;20180323:0700-2000;20180324:CLOSED;20180325:CLOSED;20180326:0700-2000;20180327:0700-2000;20180328:0700-2000;20180329:0700-2000;20180330:0700-2000;20180331:CLOSED;20180401:CLOSED;20180402:0700-2000;20180403:0700-2000;20180404:0700-2000;20180405:0700-2000;20180406:0700-2000', mdSizeMultiplier=100, aggGroup=1, marketRuleIds='26,26,26,26,26,26,26,26,26,26,26,26,26,26,26,26,26,26'),\n",
       " ContractDetails(summary=Contract(secType='STK', conId=4391, symbol='AMD', exchange='CBOE', primaryExchange='NASDAQ', currency='USD', localSymbol='AMD', tradingClass='SCM'), marketName='SCM', minTick=0.01, orderTypes='ACTIVETIM,ADJUST,ALERT,ALLOC,AVGCOST,BASKET,COND,CONDORDER,DAY,DEACT,DEACTDIS,DEACTEOD,GAT,GTC,GTD,GTT,HID,LIT,LMT,MIT,MKT,MTL,NGCOMB,NONALGO,OCA,PEGBENCH,SCALE,SCALERST,SNAPMID,SNAPMKT,SNAPREL,STP,STPLMT,TRAIL,TRAILLIT,TRAILLMT,TRAILMIT,WHATIF', validExchanges='SMART,AMEX,CBOE,ISE,CHX,ARCA,ISLAND,VWAP,DRCTEDGE,NSX,BEX,BATS,EDGEA,CSFBALGO,JEFFALGO,BYX,IEX,PSX', priceMagnifier=1, longName='ADVANCED MICRO DEVICES', industry='Technology', category='Semiconductors', subcategory='Electronic Compo-Semicon', timeZoneId='CST', tradingHours='20180303:CLOSED;20180304:CLOSED;20180305:0830-1500;20180306:0830-1500;20180307:0830-1500;20180308:0830-1500;20180309:0830-1500;20180310:CLOSED;20180311:CLOSED;20180312:0830-1500;20180313:0830-1500;20180314:0830-1500;20180315:0830-1500;20180316:0830-1500;20180317:CLOSED;20180318:CLOSED;20180319:0830-1500;20180320:0830-1500;20180321:0830-1500;20180322:0830-1500;20180323:0830-1500;20180324:CLOSED;20180325:CLOSED;20180326:0830-1500;20180327:0830-1500;20180328:0830-1500;20180329:0830-1500;20180330:0830-1500;20180331:CLOSED;20180401:CLOSED;20180402:0830-1500;20180403:0830-1500;20180404:0830-1500;20180405:0830-1500;20180406:0830-1500', liquidHours='20180303:CLOSED;20180304:CLOSED;20180305:0830-1500;20180306:0830-1500;20180307:0830-1500;20180308:0830-1500;20180309:0830-1500;20180310:CLOSED;20180311:CLOSED;20180312:0830-1500;20180313:0830-1500;20180314:0830-1500;20180315:0830-1500;20180316:0830-1500;20180317:CLOSED;20180318:CLOSED;20180319:0830-1500;20180320:0830-1500;20180321:0830-1500;20180322:0830-1500;20180323:0830-1500;20180324:CLOSED;20180325:CLOSED;20180326:0830-1500;20180327:0830-1500;20180328:0830-1500;20180329:0830-1500;20180330:0830-1500;20180331:CLOSED;20180401:CLOSED;20180402:0830-1500;20180403:0830-1500;20180404:0830-1500;20180405:0830-1500;20180406:0830-1500', mdSizeMultiplier=100, aggGroup=2147483647, marketRuleIds='26,26,26,26,26,26,26,26,26,26,26,26,26,26,26,26,26,26'),\n",
       " ContractDetails(summary=Contract(secType='STK', conId=4391, symbol='AMD', exchange='ISE', primaryExchange='NASDAQ', currency='USD', localSymbol='AMD', tradingClass='SCM'), marketName='SCM', minTick=0.01, orderTypes='ACTIVETIM,ALERT,ALLOC,AVGCOST,BASKET,COND,CONDORDER,DAY,DEACT,DEACTDIS,DEACTEOD,GAT,GTC,GTD,GTT,IOC,LIT,LMT,MIT,MKT,NGCOMB,NONALGO,OCA,PEGBENCH,RTH,SCALE,SCALERST,SNAPMID,SNAPMKT,SNAPREL,STP,STPLMT,TRAIL,TRAILLIT,TRAILLMT,TRAILMIT,WHATIF', validExchanges='SMART,AMEX,CBOE,ISE,CHX,ARCA,ISLAND,VWAP,DRCTEDGE,NSX,BEX,BATS,EDGEA,CSFBALGO,JEFFALGO,BYX,IEX,PSX', priceMagnifier=1, longName='ADVANCED MICRO DEVICES', industry='Technology', category='Semiconductors', subcategory='Electronic Compo-Semicon', timeZoneId='EST5EDT', tradingHours='20180303:CLOSED;20180304:CLOSED;20180305:0800-2000;20180306:0800-2000;20180307:0800-2000;20180308:0800-2000;20180309:0800-2000;20180310:CLOSED;20180311:CLOSED;20180312:0800-2000;20180313:0800-2000;20180314:0800-2000;20180315:0800-2000;20180316:0800-2000;20180317:CLOSED;20180318:CLOSED;20180319:0800-2000;20180320:0800-2000;20180321:0800-2000;20180322:0800-2000;20180323:0800-2000;20180324:CLOSED;20180325:CLOSED;20180326:0800-2000;20180327:0800-2000;20180328:0800-2000;20180329:0800-2000;20180330:0800-2000;20180331:CLOSED;20180401:CLOSED;20180402:0800-2000;20180403:0800-2000;20180404:0800-2000;20180405:0800-2000;20180406:0800-2000', liquidHours='20180303:CLOSED;20180304:CLOSED;20180305:0930-1600;20180306:0930-1600;20180307:0930-1600;20180308:0930-1600;20180309:0930-1600;20180310:CLOSED;20180311:CLOSED;20180312:0930-1600;20180313:0930-1600;20180314:0930-1600;20180315:0930-1600;20180316:0930-1600;20180317:CLOSED;20180318:CLOSED;20180319:0930-1600;20180320:0930-1600;20180321:0930-1600;20180322:0930-1600;20180323:0930-1600;20180324:CLOSED;20180325:CLOSED;20180326:0930-1600;20180327:0930-1600;20180328:0930-1600;20180329:0930-1600;20180330:0930-1600;20180331:CLOSED;20180401:CLOSED;20180402:0930-1600;20180403:0930-1600;20180404:0930-1600;20180405:0930-1600;20180406:0930-1600', mdSizeMultiplier=100, aggGroup=1, marketRuleIds='26,26,26,26,26,26,26,26,26,26,26,26,26,26,26,26,26,26'),\n",
       " ContractDetails(summary=Contract(secType='STK', conId=4391, symbol='AMD', exchange='CHX', primaryExchange='NASDAQ', currency='USD', localSymbol='AMD', tradingClass='SCM'), marketName='SCM', minTick=0.01, orderTypes='ACTIVETIM,ADJUST,ALERT,ALLOC,AVGCOST,BASKET,COND,CONDORDER,DAY,DEACT,DEACTDIS,DEACTEOD,GAT,GTC,GTD,GTT,HID,LIT,LMT,MIT,MKT,MTL,NGCOMB,NONALGO,OCA,PEGBENCH,SCALE,SCALERST,SNAPMID,SNAPMKT,SNAPREL,STP,STPLMT,TRAIL,TRAILLIT,TRAILLMT,TRAILMIT,WHATIF', validExchanges='SMART,AMEX,CBOE,ISE,CHX,ARCA,ISLAND,VWAP,DRCTEDGE,NSX,BEX,BATS,EDGEA,CSFBALGO,JEFFALGO,BYX,IEX,PSX', priceMagnifier=1, longName='ADVANCED MICRO DEVICES', industry='Technology', category='Semiconductors', subcategory='Electronic Compo-Semicon', timeZoneId='CST', tradingHours='20180303:CLOSED;20180304:CLOSED;20180305:0830-1500;20180306:0830-1500;20180307:0830-1500;20180308:0830-1500;20180309:0830-1500;20180310:CLOSED;20180311:CLOSED;20180312:0830-1500;20180313:0830-1500;20180314:0830-1500;20180315:0830-1500;20180316:0830-1500;20180317:CLOSED;20180318:CLOSED;20180319:0830-1500;20180320:0830-1500;20180321:0830-1500;20180322:0830-1500;20180323:0830-1500;20180324:CLOSED;20180325:CLOSED;20180326:0830-1500;20180327:0830-1500;20180328:0830-1500;20180329:0830-1500;20180330:0830-1500;20180331:CLOSED;20180401:CLOSED;20180402:0830-1500;20180403:0830-1500;20180404:0830-1500;20180405:0830-1500;20180406:0830-1500', liquidHours='20180303:CLOSED;20180304:CLOSED;20180305:0830-1500;20180306:0830-1500;20180307:0830-1500;20180308:0830-1500;20180309:0830-1500;20180310:CLOSED;20180311:CLOSED;20180312:0830-1500;20180313:0830-1500;20180314:0830-1500;20180315:0830-1500;20180316:0830-1500;20180317:CLOSED;20180318:CLOSED;20180319:0830-1500;20180320:0830-1500;20180321:0830-1500;20180322:0830-1500;20180323:0830-1500;20180324:CLOSED;20180325:CLOSED;20180326:0830-1500;20180327:0830-1500;20180328:0830-1500;20180329:0830-1500;20180330:0830-1500;20180331:CLOSED;20180401:CLOSED;20180402:0830-1500;20180403:0830-1500;20180404:0830-1500;20180405:0830-1500;20180406:0830-1500', mdSizeMultiplier=100, aggGroup=1, marketRuleIds='26,26,26,26,26,26,26,26,26,26,26,26,26,26,26,26,26,26'),\n",
       " ContractDetails(summary=Contract(secType='STK', conId=4391, symbol='AMD', exchange='ARCA', primaryExchange='NASDAQ', currency='USD', localSymbol='AMD', tradingClass='SCM'), marketName='SCM', minTick=0.01, orderTypes='ACTIVETIM,ADJUST,ALERT,ALLOC,AVGCOST,BASKET,COND,CONDORDER,DAY,DEACT,DEACTDIS,DEACTEOD,DIS,GAT,GTC,GTD,GTT,HID,IOC,LIT,LMT,LOC,MIT,MKT,MOC,MTL,NGCOMB,NONALGO,OCA,OPG,PEGBENCH,REL,RTH,SCALE,SCALERST,SNAPMID,SNAPMKT,SNAPREL,STP,STPLMT,TRAIL,TRAILLIT,TRAILLMT,TRAILMIT,WHATIF', validExchanges='SMART,AMEX,CBOE,ISE,CHX,ARCA,ISLAND,VWAP,DRCTEDGE,NSX,BEX,BATS,EDGEA,CSFBALGO,JEFFALGO,BYX,IEX,PSX', priceMagnifier=1, longName='ADVANCED MICRO DEVICES', industry='Technology', category='Semiconductors', subcategory='Electronic Compo-Semicon', timeZoneId='EST5EDT', tradingHours='20180303:CLOSED;20180304:CLOSED;20180305:0400-2000;20180306:0400-2000;20180307:0400-2000;20180308:0400-2000;20180309:0400-2000;20180310:CLOSED;20180311:CLOSED;20180312:0400-2000;20180313:0400-2000;20180314:0400-2000;20180315:0400-2000;20180316:0400-2000;20180317:CLOSED;20180318:CLOSED;20180319:0400-2000;20180320:0400-2000;20180321:0400-2000;20180322:0400-2000;20180323:0400-2000;20180324:CLOSED;20180325:CLOSED;20180326:0400-2000;20180327:0400-2000;20180328:0400-2000;20180329:0400-2000;20180330:0400-2000;20180331:CLOSED;20180401:CLOSED;20180402:0400-2000;20180403:0400-2000;20180404:0400-2000;20180405:0400-2000;20180406:0400-2000', liquidHours='20180303:CLOSED;20180304:CLOSED;20180305:0930-1600;20180306:0930-1600;20180307:0930-1600;20180308:0930-1600;20180309:0930-1600;20180310:CLOSED;20180311:CLOSED;20180312:0930-1600;20180313:0930-1600;20180314:0930-1600;20180315:0930-1600;20180316:0930-1600;20180317:CLOSED;20180318:CLOSED;20180319:0930-1600;20180320:0930-1600;20180321:0930-1600;20180322:0930-1600;20180323:0930-1600;20180324:CLOSED;20180325:CLOSED;20180326:0930-1600;20180327:0930-1600;20180328:0930-1600;20180329:0930-1600;20180330:0930-1600;20180331:CLOSED;20180401:CLOSED;20180402:0930-1600;20180403:0930-1600;20180404:0930-1600;20180405:0930-1600;20180406:0930-1600', mdSizeMultiplier=100, aggGroup=1, marketRuleIds='26,26,26,26,26,26,26,26,26,26,26,26,26,26,26,26,26,26'),\n",
       " ContractDetails(summary=Contract(secType='STK', conId=4391, symbol='AMD', exchange='ISLAND', primaryExchange='NASDAQ', currency='USD', localSymbol='AMD', tradingClass='SCM'), marketName='SCM', minTick=0.01, orderTypes='ACTIVETIM,ADJUST,ALERT,ALLOC,AVGCOST,BASKET,COND,CONDORDER,DAY,DEACT,DEACTDIS,DEACTEOD,DIS,GAT,GTC,GTD,GTT,HID,IOC,LIT,LMT,LOC,MIT,MKT,MOC,MTL,NGCOMB,NONALGO,OCA,OPG,PEGBENCH,RTH,SCALE,SCALERST,SNAPMID,SNAPMKT,SNAPREL,STP,STPLMT,TRAIL,TRAILLIT,TRAILLMT,TRAILMIT,WHATIF', validExchanges='SMART,AMEX,CBOE,ISE,CHX,ARCA,ISLAND,VWAP,DRCTEDGE,NSX,BEX,BATS,EDGEA,CSFBALGO,JEFFALGO,BYX,IEX,PSX', priceMagnifier=1, longName='ADVANCED MICRO DEVICES', industry='Technology', category='Semiconductors', subcategory='Electronic Compo-Semicon', timeZoneId='EST5EDT', tradingHours='20180303:CLOSED;20180304:CLOSED;20180305:0400-2000;20180306:0400-2000;20180307:0400-2000;20180308:0400-2000;20180309:0400-2000;20180310:CLOSED;20180311:CLOSED;20180312:0400-2000;20180313:0400-2000;20180314:0400-2000;20180315:0400-2000;20180316:0400-2000;20180317:CLOSED;20180318:CLOSED;20180319:0400-2000;20180320:0400-2000;20180321:0400-2000;20180322:0400-2000;20180323:0400-2000;20180324:CLOSED;20180325:CLOSED;20180326:0400-2000;20180327:0400-2000;20180328:0400-2000;20180329:0400-2000;20180330:0400-2000;20180331:CLOSED;20180401:CLOSED;20180402:0400-2000;20180403:0400-2000;20180404:0400-2000;20180405:0400-2000;20180406:0400-2000', liquidHours='20180303:CLOSED;20180304:CLOSED;20180305:0930-1600;20180306:0930-1600;20180307:0930-1600;20180308:0930-1600;20180309:0930-1600;20180310:CLOSED;20180311:CLOSED;20180312:0930-1600;20180313:0930-1600;20180314:0930-1600;20180315:0930-1600;20180316:0930-1600;20180317:CLOSED;20180318:CLOSED;20180319:0930-1600;20180320:0930-1600;20180321:0930-1600;20180322:0930-1600;20180323:0930-1600;20180324:CLOSED;20180325:CLOSED;20180326:0930-1600;20180327:0930-1600;20180328:0930-1600;20180329:0930-1600;20180330:0930-1600;20180331:CLOSED;20180401:CLOSED;20180402:0930-1600;20180403:0930-1600;20180404:0930-1600;20180405:0930-1600;20180406:0930-1600', mdSizeMultiplier=100, aggGroup=1, marketRuleIds='26,26,26,26,26,26,26,26,26,26,26,26,26,26,26,26,26,26'),\n",
       " ContractDetails(summary=Contract(secType='STK', conId=4391, symbol='AMD', exchange='DRCTEDGE', primaryExchange='NASDAQ', currency='USD', localSymbol='AMD', tradingClass='SCM'), marketName='SCM', minTick=0.01, orderTypes='ACTIVETIM,ADJUST,ALERT,ALLOC,AVGCOST,BASKET,COND,CONDORDER,DAY,DEACT,DEACTDIS,DEACTEOD,GAT,GTC,GTD,GTT,HID,LIT,LMT,MIT,MKT,MTL,NGCOMB,NONALGO,OCA,PEGBENCH,RTH,SCALE,SCALERST,SNAPMID,SNAPMKT,SNAPREL,STP,STPLMT,TRAIL,TRAILLIT,TRAILLMT,TRAILMIT,WHATIF', validExchanges='SMART,AMEX,CBOE,ISE,CHX,ARCA,ISLAND,VWAP,DRCTEDGE,NSX,BEX,BATS,EDGEA,CSFBALGO,JEFFALGO,BYX,IEX,PSX', priceMagnifier=1, longName='ADVANCED MICRO DEVICES', industry='Technology', category='Semiconductors', subcategory='Electronic Compo-Semicon', timeZoneId='EST5EDT', tradingHours='20180303:CLOSED;20180304:CLOSED;20180305:0700-2000;20180306:0700-2000;20180307:0700-2000;20180308:0700-2000;20180309:0700-2000;20180310:CLOSED;20180311:CLOSED;20180312:0700-2000;20180313:0700-2000;20180314:0700-2000;20180315:0700-2000;20180316:0700-2000;20180317:CLOSED;20180318:CLOSED;20180319:0700-2000;20180320:0700-2000;20180321:0700-2000;20180322:0700-2000;20180323:0700-2000;20180324:CLOSED;20180325:CLOSED;20180326:0700-2000;20180327:0700-2000;20180328:0700-2000;20180329:0700-2000;20180330:0700-2000;20180331:CLOSED;20180401:CLOSED;20180402:0700-2000;20180403:0700-2000;20180404:0700-2000;20180405:0700-2000;20180406:0700-2000', liquidHours='20180303:CLOSED;20180304:CLOSED;20180305:0930-1600;20180306:0930-1600;20180307:0930-1600;20180308:0930-1600;20180309:0930-1600;20180310:CLOSED;20180311:CLOSED;20180312:0930-1600;20180313:0930-1600;20180314:0930-1600;20180315:0930-1600;20180316:0930-1600;20180317:CLOSED;20180318:CLOSED;20180319:0930-1600;20180320:0930-1600;20180321:0930-1600;20180322:0930-1600;20180323:0930-1600;20180324:CLOSED;20180325:CLOSED;20180326:0930-1600;20180327:0930-1600;20180328:0930-1600;20180329:0930-1600;20180330:0930-1600;20180331:CLOSED;20180401:CLOSED;20180402:0930-1600;20180403:0930-1600;20180404:0930-1600;20180405:0930-1600;20180406:0930-1600', mdSizeMultiplier=100, aggGroup=1, marketRuleIds='26,26,26,26,26,26,26,26,26,26,26,26,26,26,26,26,26,26'),\n",
       " ContractDetails(summary=Contract(secType='STK', conId=4391, symbol='AMD', exchange='NSX', primaryExchange='NASDAQ', currency='USD', localSymbol='AMD', tradingClass='SCM'), marketName='SCM', minTick=0.01, orderTypes='ACTIVETIM,ADJUST,ALERT,ALLOC,AVGCOST,BASKET,COND,CONDORDER,DAY,DEACT,DEACTDIS,DEACTEOD,GAT,GTC,GTD,GTT,HID,LIT,LMT,MIT,MKT,MTL,NGCOMB,NONALGO,OCA,PEGBENCH,RTH,SCALE,SCALERST,SNAPMID,SNAPMKT,SNAPREL,STP,STPLMT,TRAIL,TRAILLIT,TRAILLMT,TRAILMIT,WHATIF', validExchanges='SMART,AMEX,CBOE,ISE,CHX,ARCA,ISLAND,VWAP,DRCTEDGE,NSX,BEX,BATS,EDGEA,CSFBALGO,JEFFALGO,BYX,IEX,PSX', priceMagnifier=1, longName='ADVANCED MICRO DEVICES', industry='Technology', category='Semiconductors', subcategory='Electronic Compo-Semicon', timeZoneId='CST', tradingHours='20180303:CLOSED;20180304:CLOSED;20180305:0700-1600;20180306:0700-1600;20180307:0700-1600;20180308:0700-1600;20180309:0700-1600;20180310:CLOSED;20180311:CLOSED;20180312:0700-1600;20180313:0700-1600;20180314:0700-1600;20180315:0700-1600;20180316:0700-1600;20180317:CLOSED;20180318:CLOSED;20180319:0700-1600;20180320:0700-1600;20180321:0700-1600;20180322:0700-1600;20180323:0700-1600;20180324:CLOSED;20180325:CLOSED;20180326:0700-1600;20180327:0700-1600;20180328:0700-1600;20180329:0700-1600;20180330:0700-1600;20180331:CLOSED;20180401:CLOSED;20180402:0700-1600;20180403:0700-1600;20180404:0700-1600;20180405:0700-1600;20180406:0700-1600', liquidHours='20180303:CLOSED;20180304:CLOSED;20180305:0830-1500;20180306:0830-1500;20180307:0830-1500;20180308:0830-1500;20180309:0830-1500;20180310:CLOSED;20180311:CLOSED;20180312:0830-1500;20180313:0830-1500;20180314:0830-1500;20180315:0830-1500;20180316:0830-1500;20180317:CLOSED;20180318:CLOSED;20180319:0830-1500;20180320:0830-1500;20180321:0830-1500;20180322:0830-1500;20180323:0830-1500;20180324:CLOSED;20180325:CLOSED;20180326:0830-1500;20180327:0830-1500;20180328:0830-1500;20180329:0830-1500;20180330:0830-1500;20180331:CLOSED;20180401:CLOSED;20180402:0830-1500;20180403:0830-1500;20180404:0830-1500;20180405:0830-1500;20180406:0830-1500', mdSizeMultiplier=100, aggGroup=1, marketRuleIds='26,26,26,26,26,26,26,26,26,26,26,26,26,26,26,26,26,26'),\n",
       " ContractDetails(summary=Contract(secType='STK', conId=4391, symbol='AMD', exchange='BEX', primaryExchange='NASDAQ', currency='USD', localSymbol='AMD', tradingClass='SCM'), marketName='SCM', minTick=0.01, orderTypes='ACTIVETIM,ADJUST,ALERT,ALLOC,AVGCOST,BASKET,COND,CONDORDER,DAY,DEACT,DEACTDIS,DEACTEOD,GAT,GTC,GTD,GTT,HID,LIT,LMT,MIT,MKT,MTL,NGCOMB,NONALGO,OCA,PEGBENCH,RTH,SCALE,SCALERST,SNAPMID,SNAPMKT,SNAPREL,STP,STPLMT,TRAIL,TRAILLIT,TRAILLMT,TRAILMIT,WHATIF', validExchanges='SMART,AMEX,CBOE,ISE,CHX,ARCA,ISLAND,VWAP,DRCTEDGE,NSX,BEX,BATS,EDGEA,CSFBALGO,JEFFALGO,BYX,IEX,PSX', priceMagnifier=1, longName='ADVANCED MICRO DEVICES', industry='Technology', category='Semiconductors', subcategory='Electronic Compo-Semicon', timeZoneId='EST5EDT', tradingHours='20180303:CLOSED;20180304:CLOSED;20180305:0700-1900;20180306:0700-1900;20180307:0700-1900;20180308:0700-1900;20180309:0700-1900;20180310:CLOSED;20180311:CLOSED;20180312:0700-1900;20180313:0700-1900;20180314:0700-1900;20180315:0700-1900;20180316:0700-1900;20180317:CLOSED;20180318:CLOSED;20180319:0700-1900;20180320:0700-1900;20180321:0700-1900;20180322:0700-1900;20180323:0700-1900;20180324:CLOSED;20180325:CLOSED;20180326:0700-1900;20180327:0700-1900;20180328:0700-1900;20180329:0700-1900;20180330:0700-1900;20180331:CLOSED;20180401:CLOSED;20180402:0700-1900;20180403:0700-1900;20180404:0700-1900;20180405:0700-1900;20180406:0700-1900', liquidHours='20180303:CLOSED;20180304:CLOSED;20180305:0930-1600;20180306:0930-1600;20180307:0930-1600;20180308:0930-1600;20180309:0930-1600;20180310:CLOSED;20180311:CLOSED;20180312:0930-1600;20180313:0930-1600;20180314:0930-1600;20180315:0930-1600;20180316:0930-1600;20180317:CLOSED;20180318:CLOSED;20180319:0930-1600;20180320:0930-1600;20180321:0930-1600;20180322:0930-1600;20180323:0930-1600;20180324:CLOSED;20180325:CLOSED;20180326:0930-1600;20180327:0930-1600;20180328:0930-1600;20180329:0930-1600;20180330:0930-1600;20180331:CLOSED;20180401:CLOSED;20180402:0930-1600;20180403:0930-1600;20180404:0930-1600;20180405:0930-1600;20180406:0930-1600', mdSizeMultiplier=100, aggGroup=1, marketRuleIds='26,26,26,26,26,26,26,26,26,26,26,26,26,26,26,26,26,26'),\n",
       " ContractDetails(summary=Contract(secType='STK', conId=4391, symbol='AMD', exchange='BATS', primaryExchange='NASDAQ', currency='USD', localSymbol='AMD', tradingClass='SCM'), marketName='SCM', minTick=0.01, orderTypes='ACTIVETIM,ADJUST,ALERT,ALLOC,AVGCOST,BASKET,COND,CONDORDER,DAY,DEACT,DEACTDIS,DEACTEOD,DIS,GAT,GTC,GTD,GTT,HID,IOC,LIT,LMT,MIT,MKT,MTL,NGCOMB,NONALGO,OCA,PEGBENCH,PREOPGRTH,REL,RTH,SCALE,SCALERST,SNAPMID,SNAPMKT,SNAPREL,STP,STPLMT,TRAIL,TRAILLIT,TRAILLMT,TRAILMIT,WHATIF', validExchanges='SMART,AMEX,CBOE,ISE,CHX,ARCA,ISLAND,VWAP,DRCTEDGE,NSX,BEX,BATS,EDGEA,CSFBALGO,JEFFALGO,BYX,IEX,PSX', priceMagnifier=1, longName='ADVANCED MICRO DEVICES', industry='Technology', category='Semiconductors', subcategory='Electronic Compo-Semicon', timeZoneId='EST5EDT', tradingHours='20180303:CLOSED;20180304:CLOSED;20180305:0700-1700;20180306:0700-1700;20180307:0700-1700;20180308:0700-1700;20180309:0700-1700;20180310:CLOSED;20180311:CLOSED;20180312:0700-1700;20180313:0700-1700;20180314:0700-1700;20180315:0700-1700;20180316:0700-1700;20180317:CLOSED;20180318:CLOSED;20180319:0700-1700;20180320:0700-1700;20180321:0700-1700;20180322:0700-1700;20180323:0700-1700;20180324:CLOSED;20180325:CLOSED;20180326:0700-1700;20180327:0700-1700;20180328:0700-1700;20180329:0700-1700;20180330:0700-1700;20180331:CLOSED;20180401:CLOSED;20180402:0700-1700;20180403:0700-1700;20180404:0700-1700;20180405:0700-1700;20180406:0700-1700', liquidHours='20180303:CLOSED;20180304:CLOSED;20180305:0930-1600;20180306:0930-1600;20180307:0930-1600;20180308:0930-1600;20180309:0930-1600;20180310:CLOSED;20180311:CLOSED;20180312:0930-1600;20180313:0930-1600;20180314:0930-1600;20180315:0930-1600;20180316:0930-1600;20180317:CLOSED;20180318:CLOSED;20180319:0930-1600;20180320:0930-1600;20180321:0930-1600;20180322:0930-1600;20180323:0930-1600;20180324:CLOSED;20180325:CLOSED;20180326:0930-1600;20180327:0930-1600;20180328:0930-1600;20180329:0930-1600;20180330:0930-1600;20180331:CLOSED;20180401:CLOSED;20180402:0930-1600;20180403:0930-1600;20180404:0930-1600;20180405:0930-1600;20180406:0930-1600', mdSizeMultiplier=100, aggGroup=1, marketRuleIds='26,26,26,26,26,26,26,26,26,26,26,26,26,26,26,26,26,26'),\n",
       " ContractDetails(summary=Contract(secType='STK', conId=4391, symbol='AMD', exchange='EDGEA', primaryExchange='NASDAQ', currency='USD', localSymbol='AMD', tradingClass='SCM'), marketName='SCM', minTick=0.01, orderTypes='ACTIVETIM,ADJUST,ALERT,ALLOC,AVGCOST,BASKET,COND,CONDORDER,DAY,DEACT,DEACTDIS,DEACTEOD,GAT,GTC,GTD,GTT,HID,LIT,LMT,MIT,MKT,MTL,NGCOMB,NONALGO,OCA,PEGBENCH,RTH,SCALE,SCALERST,SNAPMID,SNAPMKT,SNAPREL,STP,STPLMT,TRAIL,TRAILLIT,TRAILLMT,TRAILMIT,WHATIF', validExchanges='SMART,AMEX,CBOE,ISE,CHX,ARCA,ISLAND,VWAP,DRCTEDGE,NSX,BEX,BATS,EDGEA,CSFBALGO,JEFFALGO,BYX,IEX,PSX', priceMagnifier=1, longName='ADVANCED MICRO DEVICES', industry='Technology', category='Semiconductors', subcategory='Electronic Compo-Semicon', timeZoneId='EST5EDT', tradingHours='20180303:CLOSED;20180304:CLOSED;20180305:0700-2000;20180306:0700-2000;20180307:0700-2000;20180308:0700-2000;20180309:0700-2000;20180310:CLOSED;20180311:CLOSED;20180312:0700-2000;20180313:0700-2000;20180314:0700-2000;20180315:0700-2000;20180316:0700-2000;20180317:CLOSED;20180318:CLOSED;20180319:0700-2000;20180320:0700-2000;20180321:0700-2000;20180322:0700-2000;20180323:0700-2000;20180324:CLOSED;20180325:CLOSED;20180326:0700-2000;20180327:0700-2000;20180328:0700-2000;20180329:0700-2000;20180330:0700-2000;20180331:CLOSED;20180401:CLOSED;20180402:0700-2000;20180403:0700-2000;20180404:0700-2000;20180405:0700-2000;20180406:0700-2000', liquidHours='20180303:CLOSED;20180304:CLOSED;20180305:0930-1600;20180306:0930-1600;20180307:0930-1600;20180308:0930-1600;20180309:0930-1600;20180310:CLOSED;20180311:CLOSED;20180312:0930-1600;20180313:0930-1600;20180314:0930-1600;20180315:0930-1600;20180316:0930-1600;20180317:CLOSED;20180318:CLOSED;20180319:0930-1600;20180320:0930-1600;20180321:0930-1600;20180322:0930-1600;20180323:0930-1600;20180324:CLOSED;20180325:CLOSED;20180326:0930-1600;20180327:0930-1600;20180328:0930-1600;20180329:0930-1600;20180330:0930-1600;20180331:CLOSED;20180401:CLOSED;20180402:0930-1600;20180403:0930-1600;20180404:0930-1600;20180405:0930-1600;20180406:0930-1600', mdSizeMultiplier=100, aggGroup=1, marketRuleIds='26,26,26,26,26,26,26,26,26,26,26,26,26,26,26,26,26,26'),\n",
       " ContractDetails(summary=Contract(secType='STK', conId=4391, symbol='AMD', exchange='CSFBALGO', primaryExchange='NASDAQ', currency='USD', localSymbol='AMD', tradingClass='SCM'), marketName='SCM', minTick=0.01, orderTypes='ALERT,ALLOC,AVGCOST,BASKET,DAY,DEACT,DEACTDIS,HID,LMT,MKT,NGCOMB,PEGBENCH,WHATIF', validExchanges='SMART,AMEX,CBOE,ISE,CHX,ARCA,ISLAND,VWAP,DRCTEDGE,NSX,BEX,BATS,EDGEA,CSFBALGO,JEFFALGO,BYX,IEX,PSX', priceMagnifier=1, longName='ADVANCED MICRO DEVICES', industry='Technology', category='Semiconductors', subcategory='Electronic Compo-Semicon', timeZoneId='EST5EDT', tradingHours='20180303:CLOSED;20180304:CLOSED;20180305:0930-1600;20180306:0930-1600;20180307:0930-1600;20180308:0930-1600;20180309:0930-1600;20180310:CLOSED;20180311:CLOSED;20180312:0930-1600;20180313:0930-1600;20180314:0930-1600;20180315:0930-1600;20180316:0930-1600;20180317:CLOSED;20180318:CLOSED;20180319:0930-1600;20180320:0930-1600;20180321:0930-1600;20180322:0930-1600;20180323:0930-1600;20180324:CLOSED;20180325:CLOSED;20180326:0930-1600;20180327:0930-1600;20180328:0930-1600;20180329:0930-1600;20180330:0930-1600;20180331:CLOSED;20180401:CLOSED;20180402:0930-1600;20180403:0930-1600;20180404:0930-1600;20180405:0930-1600;20180406:0930-1600', liquidHours='20180303:CLOSED;20180304:CLOSED;20180305:0930-1600;20180306:0930-1600;20180307:0930-1600;20180308:0930-1600;20180309:0930-1600;20180310:CLOSED;20180311:CLOSED;20180312:0930-1600;20180313:0930-1600;20180314:0930-1600;20180315:0930-1600;20180316:0930-1600;20180317:CLOSED;20180318:CLOSED;20180319:0930-1600;20180320:0930-1600;20180321:0930-1600;20180322:0930-1600;20180323:0930-1600;20180324:CLOSED;20180325:CLOSED;20180326:0930-1600;20180327:0930-1600;20180328:0930-1600;20180329:0930-1600;20180330:0930-1600;20180331:CLOSED;20180401:CLOSED;20180402:0930-1600;20180403:0930-1600;20180404:0930-1600;20180405:0930-1600;20180406:0930-1600', mdSizeMultiplier=100, aggGroup=2147483647, marketRuleIds='26,26,26,26,26,26,26,26,26,26,26,26,26,26,26,26,26,26'),\n",
       " ContractDetails(summary=Contract(secType='STK', conId=4391, symbol='AMD', exchange='JEFFALGO', primaryExchange='NASDAQ', currency='USD', localSymbol='AMD', tradingClass='SCM'), marketName='SCM', minTick=0.01, orderTypes='ALERT,ALLOC,AVGCOST,BASKET,DAY,DEACT,DEACTDIS,HID,LMT,MKT,NGCOMB,PEGBENCH,WHATIF', validExchanges='SMART,AMEX,CBOE,ISE,CHX,ARCA,ISLAND,VWAP,DRCTEDGE,NSX,BEX,BATS,EDGEA,CSFBALGO,JEFFALGO,BYX,IEX,PSX', priceMagnifier=1, longName='ADVANCED MICRO DEVICES', industry='Technology', category='Semiconductors', subcategory='Electronic Compo-Semicon', timeZoneId='EST5EDT', tradingHours='20180303:CLOSED;20180304:CLOSED;20180305:0930-1600;20180306:0930-1600;20180307:0930-1600;20180308:0930-1600;20180309:0930-1600;20180310:CLOSED;20180311:CLOSED;20180312:0930-1600;20180313:0930-1600;20180314:0930-1600;20180315:0930-1600;20180316:0930-1600;20180317:CLOSED;20180318:CLOSED;20180319:0930-1600;20180320:0930-1600;20180321:0930-1600;20180322:0930-1600;20180323:0930-1600;20180324:CLOSED;20180325:CLOSED;20180326:0930-1600;20180327:0930-1600;20180328:0930-1600;20180329:0930-1600;20180330:0930-1600;20180331:CLOSED;20180401:CLOSED;20180402:0930-1600;20180403:0930-1600;20180404:0930-1600;20180405:0930-1600;20180406:0930-1600', liquidHours='20180303:CLOSED;20180304:CLOSED;20180305:0930-1600;20180306:0930-1600;20180307:0930-1600;20180308:0930-1600;20180309:0930-1600;20180310:CLOSED;20180311:CLOSED;20180312:0930-1600;20180313:0930-1600;20180314:0930-1600;20180315:0930-1600;20180316:0930-1600;20180317:CLOSED;20180318:CLOSED;20180319:0930-1600;20180320:0930-1600;20180321:0930-1600;20180322:0930-1600;20180323:0930-1600;20180324:CLOSED;20180325:CLOSED;20180326:0930-1600;20180327:0930-1600;20180328:0930-1600;20180329:0930-1600;20180330:0930-1600;20180331:CLOSED;20180401:CLOSED;20180402:0930-1600;20180403:0930-1600;20180404:0930-1600;20180405:0930-1600;20180406:0930-1600', mdSizeMultiplier=100, aggGroup=2147483647, marketRuleIds='26,26,26,26,26,26,26,26,26,26,26,26,26,26,26,26,26,26'),\n",
       " ContractDetails(summary=Contract(secType='STK', conId=4391, symbol='AMD', exchange='BYX', primaryExchange='NASDAQ', currency='USD', localSymbol='AMD', tradingClass='SCM'), marketName='SCM', minTick=0.01, orderTypes='ACTIVETIM,ADJUST,ALERT,ALLOC,AVGCOST,BASKET,COND,CONDORDER,DAY,DEACT,DEACTDIS,DEACTEOD,GAT,GTC,GTD,GTT,HID,IOC,LIT,LMT,MIT,MKT,MTL,NGCOMB,NONALGO,OCA,PEGBENCH,RTH,SCALE,SCALERST,SNAPMID,SNAPMKT,SNAPREL,STP,STPLMT,TRAIL,TRAILLIT,TRAILLMT,TRAILMIT,WHATIF', validExchanges='SMART,AMEX,CBOE,ISE,CHX,ARCA,ISLAND,VWAP,DRCTEDGE,NSX,BEX,BATS,EDGEA,CSFBALGO,JEFFALGO,BYX,IEX,PSX', priceMagnifier=1, longName='ADVANCED MICRO DEVICES', industry='Technology', category='Semiconductors', subcategory='Electronic Compo-Semicon', timeZoneId='EST5EDT', tradingHours='20180303:CLOSED;20180304:CLOSED;20180305:0700-1700;20180306:0700-1700;20180307:0700-1700;20180308:0700-1700;20180309:0700-1700;20180310:CLOSED;20180311:CLOSED;20180312:0700-1700;20180313:0700-1700;20180314:0700-1700;20180315:0700-1700;20180316:0700-1700;20180317:CLOSED;20180318:CLOSED;20180319:0700-1700;20180320:0700-1700;20180321:0700-1700;20180322:0700-1700;20180323:0700-1700;20180324:CLOSED;20180325:CLOSED;20180326:0700-1700;20180327:0700-1700;20180328:0700-1700;20180329:0700-1700;20180330:0700-1700;20180331:CLOSED;20180401:CLOSED;20180402:0700-1700;20180403:0700-1700;20180404:0700-1700;20180405:0700-1700;20180406:0700-1700', liquidHours='20180303:CLOSED;20180304:CLOSED;20180305:0930-1600;20180306:0930-1600;20180307:0930-1600;20180308:0930-1600;20180309:0930-1600;20180310:CLOSED;20180311:CLOSED;20180312:0930-1600;20180313:0930-1600;20180314:0930-1600;20180315:0930-1600;20180316:0930-1600;20180317:CLOSED;20180318:CLOSED;20180319:0930-1600;20180320:0930-1600;20180321:0930-1600;20180322:0930-1600;20180323:0930-1600;20180324:CLOSED;20180325:CLOSED;20180326:0930-1600;20180327:0930-1600;20180328:0930-1600;20180329:0930-1600;20180330:0930-1600;20180331:CLOSED;20180401:CLOSED;20180402:0930-1600;20180403:0930-1600;20180404:0930-1600;20180405:0930-1600;20180406:0930-1600', mdSizeMultiplier=100, aggGroup=1, marketRuleIds='26,26,26,26,26,26,26,26,26,26,26,26,26,26,26,26,26,26'),\n",
       " ContractDetails(summary=Contract(secType='STK', conId=4391, symbol='AMD', exchange='IEX', primaryExchange='NASDAQ', currency='USD', localSymbol='AMD', tradingClass='SCM'), marketName='SCM', minTick=0.01, orderTypes='ACTIVETIM,ADJUST,ALLOC,AVGCOST,BASKET,CONDORDER,DAY,DEACT,DEACTDIS,DEACTEOD,GAT,GTC,GTD,GTT,HID,IOC,LIT,LMT,MIT,MKT,MTL,NGCOMB,NONALGO,OCA,PEGBENCH,SCALE,SCALERST,SNAPMID,SNAPMKT,SNAPREL,STP,STPLMT,TRAIL,TRAILLIT,TRAILLMT,TRAILMIT,WHATIF', validExchanges='SMART,AMEX,CBOE,ISE,CHX,ARCA,ISLAND,VWAP,DRCTEDGE,NSX,BEX,BATS,EDGEA,CSFBALGO,JEFFALGO,BYX,IEX,PSX', priceMagnifier=1, longName='ADVANCED MICRO DEVICES', industry='Technology', category='Semiconductors', subcategory='Electronic Compo-Semicon', timeZoneId='EST5EDT', tradingHours='20180303:CLOSED;20180304:CLOSED;20180305:0800-1700;20180306:0800-1700;20180307:0800-1700;20180308:0800-1700;20180309:0800-1700;20180310:CLOSED;20180311:CLOSED;20180312:0800-1700;20180313:0800-1700;20180314:0800-1700;20180315:0800-1700;20180316:0800-1700;20180317:CLOSED;20180318:CLOSED;20180319:0800-1700;20180320:0800-1700;20180321:0800-1700;20180322:0800-1700;20180323:0800-1700;20180324:CLOSED;20180325:CLOSED;20180326:0800-1700;20180327:0800-1700;20180328:0800-1700;20180329:0800-1700;20180330:0800-1700;20180331:CLOSED;20180401:CLOSED;20180402:0800-1700;20180403:0800-1700;20180404:0800-1700;20180405:0800-1700;20180406:0800-1700', liquidHours='20180303:CLOSED;20180304:CLOSED;20180305:0800-1700;20180306:0800-1700;20180307:0800-1700;20180308:0800-1700;20180309:0800-1700;20180310:CLOSED;20180311:CLOSED;20180312:0800-1700;20180313:0800-1700;20180314:0800-1700;20180315:0800-1700;20180316:0800-1700;20180317:CLOSED;20180318:CLOSED;20180319:0800-1700;20180320:0800-1700;20180321:0800-1700;20180322:0800-1700;20180323:0800-1700;20180324:CLOSED;20180325:CLOSED;20180326:0800-1700;20180327:0800-1700;20180328:0800-1700;20180329:0800-1700;20180330:0800-1700;20180331:CLOSED;20180401:CLOSED;20180402:0800-1700;20180403:0800-1700;20180404:0800-1700;20180405:0800-1700;20180406:0800-1700', mdSizeMultiplier=100, aggGroup=1, marketRuleIds='26,26,26,26,26,26,26,26,26,26,26,26,26,26,26,26,26,26'),\n",
       " ContractDetails(summary=Contract(secType='STK', conId=4391, symbol='AMD', exchange='PSX', primaryExchange='NASDAQ', currency='USD', localSymbol='AMD', tradingClass='SCM'), marketName='SCM', minTick=0.01, orderTypes='ACTIVETIM,ADJUST,ALERT,ALLOC,AVGCOST,BASKET,COND,CONDORDER,DAY,DEACT,DEACTDIS,DEACTEOD,GAT,GTC,GTD,GTT,HID,LIT,LMT,MIT,MKT,MTL,NGCOMB,NONALGO,OCA,PEGBENCH,RTH,SCALE,SCALERST,SNAPMID,SNAPMKT,SNAPREL,STP,STPLMT,TRAIL,TRAILLIT,TRAILLMT,TRAILMIT,WHATIF', validExchanges='SMART,AMEX,CBOE,ISE,CHX,ARCA,ISLAND,VWAP,DRCTEDGE,NSX,BEX,BATS,EDGEA,CSFBALGO,JEFFALGO,BYX,IEX,PSX', priceMagnifier=1, longName='ADVANCED MICRO DEVICES', industry='Technology', category='Semiconductors', subcategory='Electronic Compo-Semicon', timeZoneId='EST5EDT', tradingHours='20180303:CLOSED;20180304:CLOSED;20180305:0800-1700;20180306:0800-1700;20180307:0800-1700;20180308:0800-1700;20180309:0800-1700;20180310:CLOSED;20180311:CLOSED;20180312:0800-1700;20180313:0800-1700;20180314:0800-1700;20180315:0800-1700;20180316:0800-1700;20180317:CLOSED;20180318:CLOSED;20180319:0800-1700;20180320:0800-1700;20180321:0800-1700;20180322:0800-1700;20180323:0800-1700;20180324:CLOSED;20180325:CLOSED;20180326:0800-1700;20180327:0800-1700;20180328:0800-1700;20180329:0800-1700;20180330:0800-1700;20180331:CLOSED;20180401:CLOSED;20180402:0800-1700;20180403:0800-1700;20180404:0800-1700;20180405:0800-1700;20180406:0800-1700', liquidHours='20180303:CLOSED;20180304:CLOSED;20180305:0930-1600;20180306:0930-1600;20180307:0930-1600;20180308:0930-1600;20180309:0930-1600;20180310:CLOSED;20180311:CLOSED;20180312:0930-1600;20180313:0930-1600;20180314:0930-1600;20180315:0930-1600;20180316:0930-1600;20180317:CLOSED;20180318:CLOSED;20180319:0930-1600;20180320:0930-1600;20180321:0930-1600;20180322:0930-1600;20180323:0930-1600;20180324:CLOSED;20180325:CLOSED;20180326:0930-1600;20180327:0930-1600;20180328:0930-1600;20180329:0930-1600;20180330:0930-1600;20180331:CLOSED;20180401:CLOSED;20180402:0930-1600;20180403:0930-1600;20180404:0930-1600;20180405:0930-1600;20180406:0930-1600', mdSizeMultiplier=100, aggGroup=1, marketRuleIds='26,26,26,26,26,26,26,26,26,26,26,26,26,26,26,26,26,26'),\n",
       " ContractDetails(summary=Contract(secType='STK', conId=32596680, symbol='AMD', exchange='FWB', primaryExchange='IBIS', currency='EUR', localSymbol='AMD', tradingClass='USSTARS'), marketName='USSTARS', minTick=0.001, orderTypes='ACTIVETIM,ADJUST,ALERT,ALLOC,AVGCOST,BASKET,COND,CONDORDER,DAY,DEACT,DEACTDIS,DEACTEOD,GAT,GTC,GTD,GTT,HID,LIT,LMT,LTH,MIT,MKT,MTL,NGCOMB,NONALGO,OCA,PEGBENCH,SCALE,SCALERST,SNAPMID,SNAPMKT,SNAPREL,STP,STPLMT,TRAIL,TRAILLIT,TRAILLMT,TRAILMIT,WHATIF', validExchanges='SMART,FWB,IBIS,BVME,SWB,TGATE', priceMagnifier=1, longName='ADVANCED MICRO DEVICES', industry='Technology', category='Semiconductors', subcategory='Electronic Compo-Semicon', timeZoneId='MET', tradingHours='20180304:CLOSED;20180305:0800-2000;20180306:0800-2000;20180307:0800-2000;20180308:0800-2000;20180309:0800-2000;20180310:CLOSED;20180311:CLOSED;20180312:0800-2000;20180313:0800-2000;20180314:0800-2000;20180315:0800-2000;20180316:0800-2000;20180317:CLOSED;20180318:CLOSED;20180319:0800-2000;20180320:0800-2000;20180321:0800-2000;20180322:0800-2000;20180323:0800-2000;20180324:CLOSED;20180325:CLOSED;20180326:0800-2000;20180327:0800-2000;20180328:0800-2000;20180329:0800-2000;20180330:0800-2000;20180331:CLOSED;20180401:CLOSED;20180402:0800-2000;20180403:0800-2000;20180404:0800-2000;20180405:0800-2000;20180406:0800-2000;20180407:CLOSED', liquidHours='20180304:CLOSED;20180305:0900-1730;20180306:0900-1730;20180307:0900-1730;20180308:0900-1730;20180309:0900-1730;20180310:CLOSED;20180311:CLOSED;20180312:0900-1730;20180313:0900-1730;20180314:0900-1730;20180315:0900-1730;20180316:0900-1730;20180317:CLOSED;20180318:CLOSED;20180319:0900-1730;20180320:0900-1730;20180321:0900-1730;20180322:0900-1730;20180323:0900-1730;20180324:CLOSED;20180325:CLOSED;20180326:0900-1730;20180327:0900-1730;20180328:0900-1730;20180329:0900-1730;20180330:0900-1730;20180331:CLOSED;20180401:CLOSED;20180402:0900-1730;20180403:0900-1730;20180404:0900-1730;20180405:0900-1730;20180406:0900-1730;20180407:CLOSED', mdSizeMultiplier=1, aggGroup=6, marketRuleIds='1871,576,576,1871,1871,576', secIdList=[TagValue(tag='ISIN', value='US0079031078')]),\n",
       " ContractDetails(summary=Contract(secType='STK', conId=32596680, symbol='AMD', exchange='IBIS', primaryExchange='IBIS', currency='EUR', localSymbol='AMD', tradingClass='USSTARS'), marketName='USSTARS', minTick=0.001, orderTypes='ACTIVETIM,ADJUST,ALERT,ALLOC,AVGCOST,BASKET,COND,CONDORDER,DAY,DEACT,DEACTDIS,DEACTEOD,GAT,GTC,GTD,GTT,HID,LIT,LMT,LTH,MIT,MKT,MTL,NGCOMB,NONALGO,OCA,PEGBENCH,SCALE,SCALERST,SNAPMID,SNAPMKT,SNAPREL,STP,STPLMT,TRAIL,TRAILLIT,TRAILLMT,TRAILMIT,WHATIF', validExchanges='SMART,FWB,IBIS,BVME,SWB,TGATE', priceMagnifier=1, longName='ADVANCED MICRO DEVICES', industry='Technology', category='Semiconductors', subcategory='Electronic Compo-Semicon', timeZoneId='MET', tradingHours='20180304:CLOSED;20180305:0900-1740;20180306:0900-1740;20180307:0900-1740;20180308:0900-1740;20180309:0900-1740;20180310:CLOSED;20180311:CLOSED;20180312:0900-1740;20180313:0900-1740;20180314:0900-1740;20180315:0900-1740;20180316:0900-1740;20180317:CLOSED;20180318:CLOSED;20180319:0900-1740;20180320:0900-1740;20180321:0900-1740;20180322:0900-1740;20180323:0900-1740;20180324:CLOSED;20180325:CLOSED;20180326:0900-1740;20180327:0900-1740;20180328:0900-1740;20180329:0900-1740;20180330:0900-1740;20180331:CLOSED;20180401:CLOSED;20180402:0900-1740;20180403:0900-1740;20180404:0900-1740;20180405:0900-1740;20180406:0900-1740;20180407:CLOSED', liquidHours='20180304:CLOSED;20180305:0900-1730;20180306:0900-1730;20180307:0900-1730;20180308:0900-1730;20180309:0900-1730;20180310:CLOSED;20180311:CLOSED;20180312:0900-1730;20180313:0900-1730;20180314:0900-1730;20180315:0900-1730;20180316:0900-1730;20180317:CLOSED;20180318:CLOSED;20180319:0900-1730;20180320:0900-1730;20180321:0900-1730;20180322:0900-1730;20180323:0900-1730;20180324:CLOSED;20180325:CLOSED;20180326:0900-1730;20180327:0900-1730;20180328:0900-1730;20180329:0900-1730;20180330:0900-1730;20180331:CLOSED;20180401:CLOSED;20180402:0900-1730;20180403:0900-1730;20180404:0900-1730;20180405:0900-1730;20180406:0900-1730;20180407:CLOSED', mdSizeMultiplier=1, aggGroup=6, marketRuleIds='1871,576,576,1871,1871,576', secIdList=[TagValue(tag='ISIN', value='US0079031078')]),\n",
       " ContractDetails(summary=Contract(secType='STK', conId=32596680, symbol='AMD', exchange='BVME', primaryExchange='IBIS', currency='EUR', localSymbol='AMD', tradingClass='AMD'), marketName='AMD', minTick=0.0001, orderTypes='ACTIVETIM,ADJUST,ALERT,ALLOC,AVGCOST,BASKET,COND,CONDORDER,DAY,DEACT,DEACTDIS,DEACTEOD,GAT,GTC,GTD,GTT,HID,IOC,LIT,LMT,LTH,MIT,MKT,MTL,NGCOMB,NONALGO,OCA,PEGBENCH,SCALE,SCALERST,SNAPMID,SNAPMKT,SNAPREL,STP,STPLMT,TRAIL,TRAILLIT,TRAILLMT,TRAILMIT,WHATIF', validExchanges='SMART,FWB,IBIS,BVME,SWB,TGATE', priceMagnifier=1, longName='ADVANCED MICRO DEVICES', industry='Technology', category='Semiconductors', subcategory='Electronic Compo-Semicon', timeZoneId='MET', tradingHours='20180304:CLOSED;20180305:0900-1742;20180306:0900-1742;20180307:0900-1742;20180308:0900-1742;20180309:0900-1742;20180310:CLOSED;20180311:CLOSED;20180312:0900-1742;20180313:0900-1742;20180314:0900-1742;20180315:0900-1742;20180316:0900-1742;20180317:CLOSED;20180318:CLOSED;20180319:0900-1742;20180320:0900-1742;20180321:0900-1742;20180322:0900-1742;20180323:0900-1742;20180324:CLOSED;20180325:CLOSED;20180326:0900-1742;20180327:0900-1742;20180328:0900-1742;20180329:0900-1742;20180330:0900-1742;20180331:CLOSED;20180401:CLOSED;20180402:0900-1742;20180403:0900-1742;20180404:0900-1742;20180405:0900-1742;20180406:0900-1742;20180407:CLOSED', liquidHours='20180304:CLOSED;20180305:0900-1730;20180306:0900-1730;20180307:0900-1730;20180308:0900-1730;20180309:0900-1730;20180310:CLOSED;20180311:CLOSED;20180312:0900-1730;20180313:0900-1730;20180314:0900-1730;20180315:0900-1730;20180316:0900-1730;20180317:CLOSED;20180318:CLOSED;20180319:0900-1730;20180320:0900-1730;20180321:0900-1730;20180322:0900-1730;20180323:0900-1730;20180324:CLOSED;20180325:CLOSED;20180326:0900-1730;20180327:0900-1730;20180328:0900-1730;20180329:0900-1730;20180330:0900-1730;20180331:CLOSED;20180401:CLOSED;20180402:0900-1730;20180403:0900-1730;20180404:0900-1730;20180405:0900-1730;20180406:0900-1730;20180407:CLOSED', mdSizeMultiplier=1, aggGroup=2147483647, marketRuleIds='1871,576,576,1871,1871,576', secIdList=[TagValue(tag='ISIN', value='US0079031078')]),\n",
       " ContractDetails(summary=Contract(secType='STK', conId=32596680, symbol='AMD', exchange='SWB', primaryExchange='IBIS', currency='EUR', localSymbol='AMD', tradingClass='XETRA'), marketName='XETRA', minTick=0.0001, orderTypes='ACTIVETIM,ADJUST,ALERT,ALLOC,AVGCOST,BASKET,COND,CONDORDER,DAY,DEACT,DEACTDIS,DEACTEOD,GAT,GTC,GTD,GTT,HID,LIT,LMT,LTH,MIT,MKT,MTL,NGCOMB,NONALGO,OCA,PEGBENCH,SCALE,SCALERST,SNAPMID,SNAPMKT,SNAPREL,STP,STPLMT,TRAIL,TRAILLIT,TRAILLMT,TRAILMIT,WHATIF', validExchanges='SMART,FWB,IBIS,BVME,SWB,TGATE', priceMagnifier=1, longName='ADVANCED MICRO DEVICES', industry='Technology', category='Semiconductors', subcategory='Electronic Compo-Semicon', timeZoneId='MET', tradingHours='20180304:CLOSED;20180305:0800-2200;20180306:0800-2200;20180307:0800-2200;20180308:0800-2200;20180309:0800-2200;20180310:CLOSED;20180311:CLOSED;20180312:0800-2200;20180313:0800-2200;20180314:0800-2200;20180315:0800-2200;20180316:0800-2200;20180317:CLOSED;20180318:CLOSED;20180319:0800-2200;20180320:0800-2200;20180321:0800-2200;20180322:0800-2200;20180323:0800-2200;20180324:CLOSED;20180325:CLOSED;20180326:0800-2200;20180327:0800-2200;20180328:0800-2200;20180329:0800-2200;20180330:0800-2200;20180331:CLOSED;20180401:CLOSED;20180402:0800-2200;20180403:0800-2200;20180404:0800-2200;20180405:0800-2200;20180406:0800-2200;20180407:CLOSED', liquidHours='20180304:CLOSED;20180305:0900-1730;20180306:0900-1730;20180307:0900-1730;20180308:0900-1730;20180309:0900-1730;20180310:CLOSED;20180311:CLOSED;20180312:0900-1730;20180313:0900-1730;20180314:0900-1730;20180315:0900-1730;20180316:0900-1730;20180317:CLOSED;20180318:CLOSED;20180319:0900-1730;20180320:0900-1730;20180321:0900-1730;20180322:0900-1730;20180323:0900-1730;20180324:CLOSED;20180325:CLOSED;20180326:0900-1730;20180327:0900-1730;20180328:0900-1730;20180329:0900-1730;20180330:0900-1730;20180331:CLOSED;20180401:CLOSED;20180402:0900-1730;20180403:0900-1730;20180404:0900-1730;20180405:0900-1730;20180406:0900-1730;20180407:CLOSED', mdSizeMultiplier=1, aggGroup=6, marketRuleIds='1871,576,576,1871,1871,576', secIdList=[TagValue(tag='ISIN', value='US0079031078')]),\n",
       " ContractDetails(summary=Contract(secType='STK', conId=32596680, symbol='AMD', exchange='TGATE', primaryExchange='IBIS', currency='EUR', localSymbol='AMD', tradingClass='AMD'), marketName='AMD', minTick=0.001, orderTypes='ACTIVETIM,ADJUST,ALERT,ALLOC,AVGCOST,BASKET,COND,CONDORDER,DAY,DEACT,DEACTDIS,DEACTEOD,GAT,GTC,GTD,GTT,HID,LIT,LMT,MIT,MKT,MTL,NGCOMB,NONALGO,OCA,PEGBENCH,SCALE,SCALERST,SNAPMID,SNAPMKT,SNAPREL,STP,STPLMT,TRAIL,TRAILLIT,TRAILLMT,TRAILMIT,WHATIF', validExchanges='SMART,FWB,IBIS,BVME,SWB,TGATE', priceMagnifier=1, longName='ADVANCED MICRO DEVICES', industry='Technology', category='Semiconductors', subcategory='Electronic Compo-Semicon', timeZoneId='MET', tradingHours='20180304:CLOSED;20180305:0900-2000;20180306:0900-2000;20180307:0900-2000;20180308:0900-2000;20180309:0900-2000;20180310:CLOSED;20180311:CLOSED;20180312:0900-2000;20180313:0900-2000;20180314:0900-2000;20180315:0900-2000;20180316:0900-2000;20180317:CLOSED;20180318:CLOSED;20180319:0900-2000;20180320:0900-2000;20180321:0900-2000;20180322:0900-2000;20180323:0900-2000;20180324:CLOSED;20180325:CLOSED;20180326:0900-2000;20180327:0900-2000;20180328:0900-2000;20180329:0900-2000;20180330:0900-2000;20180331:CLOSED;20180401:CLOSED;20180402:0900-2000;20180403:0900-2000;20180404:0900-2000;20180405:0900-2000;20180406:0900-2000;20180407:CLOSED', liquidHours='20180304:CLOSED;20180305:0900-2000;20180306:0900-2000;20180307:0900-2000;20180308:0900-2000;20180309:0900-2000;20180310:CLOSED;20180311:CLOSED;20180312:0900-2000;20180313:0900-2000;20180314:0900-2000;20180315:0900-2000;20180316:0900-2000;20180317:CLOSED;20180318:CLOSED;20180319:0900-2000;20180320:0900-2000;20180321:0900-2000;20180322:0900-2000;20180323:0900-2000;20180324:CLOSED;20180325:CLOSED;20180326:0900-2000;20180327:0900-2000;20180328:0900-2000;20180329:0900-2000;20180330:0900-2000;20180331:CLOSED;20180401:CLOSED;20180402:0900-2000;20180403:0900-2000;20180404:0900-2000;20180405:0900-2000;20180406:0900-2000;20180407:CLOSED', mdSizeMultiplier=1, aggGroup=6, marketRuleIds='1871,576,576,1871,1871,576', secIdList=[TagValue(tag='ISIN', value='US0079031078')]),\n",
       " ContractDetails(summary=Contract(secType='STK', conId=48818298, symbol='AMD', exchange='MEXI', primaryExchange='MEXI', currency='MXN', localSymbol='AMD', tradingClass='AMD'), marketName='AMD', minTick=0.01, orderTypes='ACTIVETIM,ADJUST,ALERT,ALLOC,AVGCOST,BASKET,COND,CONDORDER,DAY,DEACT,DEACTDIS,DEACTEOD,GAT,GTC,GTD,GTT,HID,LIT,LMT,MIT,MKT,MTL,NGCOMB,NONALGO,OCA,PEGBENCH,SCALE,SCALERST,SNAPMID,SNAPMKT,SNAPREL,STP,STPLMT,TRAIL,TRAILLIT,TRAILLMT,TRAILMIT,WHATIF', validExchanges='MEXI', priceMagnifier=1, longName='ADVANCED MICRO DEVICES', industry='Technology', category='Semiconductors', subcategory='Electronic Compo-Semicon', timeZoneId='CST', tradingHours='20180303:CLOSED;20180304:CLOSED;20180305:0830-1500;20180306:0830-1500;20180307:0830-1500;20180308:0830-1500;20180309:0830-1500;20180310:CLOSED;20180311:CLOSED;20180312:0830-1500;20180313:0830-1500;20180314:0830-1500;20180315:0830-1500;20180316:0830-1500;20180317:CLOSED;20180318:CLOSED;20180319:0830-1500;20180320:0830-1500;20180321:0830-1500;20180322:0830-1500;20180323:0830-1500;20180324:CLOSED;20180325:CLOSED;20180326:0830-1500;20180327:0830-1500;20180328:0830-1500;20180329:0830-1500;20180330:0830-1500;20180331:CLOSED;20180401:CLOSED;20180402:0830-1500;20180403:0830-1500;20180404:0830-1500;20180405:0830-1500;20180406:0830-1500', liquidHours='20180303:CLOSED;20180304:CLOSED;20180305:0830-1500;20180306:0830-1500;20180307:0830-1500;20180308:0830-1500;20180309:0830-1500;20180310:CLOSED;20180311:CLOSED;20180312:0830-1500;20180313:0830-1500;20180314:0830-1500;20180315:0830-1500;20180316:0830-1500;20180317:CLOSED;20180318:CLOSED;20180319:0830-1500;20180320:0830-1500;20180321:0830-1500;20180322:0830-1500;20180323:0830-1500;20180324:CLOSED;20180325:CLOSED;20180326:0830-1500;20180327:0830-1500;20180328:0830-1500;20180329:0830-1500;20180330:0830-1500;20180331:CLOSED;20180401:CLOSED;20180402:0830-1500;20180403:0830-1500;20180404:0830-1500;20180405:0830-1500;20180406:0830-1500', mdSizeMultiplier=1, aggGroup=2147483647, marketRuleIds='26', secIdList=[TagValue(tag='ISIN', value='US0079031078')]),\n",
       " ContractDetails(summary=Contract(secType='STK', conId=172603743, symbol='AMD', exchange='EBS', primaryExchange='EBS', currency='CHF', localSymbol='AMD', tradingClass='AMD'), marketName='AMD', minTick=0.0005, orderTypes='ACTIVETIM,ADJUST,ALERT,ALLOC,AVGCOST,BASKET,COND,CONDORDER,DAY,DEACT,DEACTDIS,DEACTEOD,GAT,GTC,GTD,GTT,HID,IOC,LIT,LMT,LTH,MIT,MKT,MTL,NGCOMB,NONALGO,OCA,PEGBENCH,SCALE,SCALERST,SNAPMID,SNAPMKT,SNAPREL,STP,STPLMT,TRAIL,TRAILLIT,TRAILLMT,TRAILMIT,WHATIF', validExchanges='SMART,EBS', priceMagnifier=1, longName='ADVANCED MICRO DEVICES', industry='Technology', category='Semiconductors', subcategory='Electronic Compo-Semicon', timeZoneId='MET', tradingHours='20180304:CLOSED;20180305:0900-1732;20180306:0900-1732;20180307:0900-1732;20180308:0900-1732;20180309:0900-1732;20180310:CLOSED;20180311:CLOSED;20180312:0900-1732;20180313:0900-1732;20180314:0900-1732;20180315:0900-1732;20180316:0900-1732;20180317:CLOSED;20180318:CLOSED;20180319:0900-1732;20180320:0900-1732;20180321:0900-1732;20180322:0900-1732;20180323:0900-1732;20180324:CLOSED;20180325:CLOSED;20180326:0900-1732;20180327:0900-1732;20180328:0900-1732;20180329:0900-1732;20180330:0900-1732;20180331:CLOSED;20180401:CLOSED;20180402:0900-1732;20180403:0900-1732;20180404:0900-1732;20180405:0900-1732;20180406:0900-1732;20180407:CLOSED', liquidHours='20180304:CLOSED;20180305:0900-1730;20180306:0900-1730;20180307:0900-1730;20180308:0900-1730;20180309:0900-1730;20180310:CLOSED;20180311:CLOSED;20180312:0900-1730;20180313:0900-1730;20180314:0900-1730;20180315:0900-1730;20180316:0900-1730;20180317:CLOSED;20180318:CLOSED;20180319:0900-1730;20180320:0900-1730;20180321:0900-1730;20180322:0900-1730;20180323:0900-1730;20180324:CLOSED;20180325:CLOSED;20180326:0900-1730;20180327:0900-1730;20180328:0900-1730;20180329:0900-1730;20180330:0900-1730;20180331:CLOSED;20180401:CLOSED;20180402:0900-1730;20180403:0900-1730;20180404:0900-1730;20180405:0900-1730;20180406:0900-1730;20180407:CLOSED', mdSizeMultiplier=1, aggGroup=6, marketRuleIds='1869,1869', secIdList=[TagValue(tag='ISIN', value='US0079031078')]),\n",
       " ContractDetails(summary=Contract(secType='STK', conId=298633607, symbol='AMD', exchange='ASX', primaryExchange='ASX', currency='AUD', localSymbol='AMD', tradingClass='AMD'), marketName='AMD', minTick=0.001, orderTypes='ACTIVETIM,ADJUST,ALERT,ALLOC,AVGCOST,BASKET,COND,CONDORDER,DAY,DEACT,DEACTDIS,DEACTEOD,GAT,GTC,GTD,GTT,HID,IOC,LIT,LMT,MIT,MKT,MTL,NGCOMB,NONALGO,OCA,PEGBENCH,REL,SCALE,SCALERST,SNAPMID,SNAPMKT,SNAPREL,STP,STPLMT,TRAIL,TRAILLIT,TRAILLMT,TRAILMIT,WHATIF', validExchanges='SMART,ASX', priceMagnifier=1, longName='ARROW MINERALS LTD', industry='Basic Materials', category='Mining', subcategory='Metal-Diversified', timeZoneId='Australia/ACT', tradingHours='20180304:CLOSED;20180305:0959-1611;20180306:0959-1611;20180307:0959-1611;20180308:0959-1611;20180309:0959-1611;20180310:CLOSED;20180311:CLOSED;20180312:0959-1611;20180313:0959-1611;20180314:0959-1611;20180315:0959-1611;20180316:0959-1611;20180317:CLOSED;20180318:CLOSED;20180319:0959-1611;20180320:0959-1611;20180321:0959-1611;20180322:0959-1611;20180323:0959-1611;20180324:CLOSED;20180325:CLOSED;20180326:0959-1611;20180327:0959-1611;20180328:0959-1611;20180329:0959-1611;20180330:0959-1611;20180331:CLOSED;20180401:CLOSED;20180402:0959-1611;20180403:0959-1611;20180404:0959-1611;20180405:0959-1611;20180406:0959-1611;20180407:CLOSED', liquidHours='20180304:CLOSED;20180305:0959-1611;20180306:0959-1611;20180307:0959-1611;20180308:0959-1611;20180309:0959-1611;20180310:CLOSED;20180311:CLOSED;20180312:0959-1611;20180313:0959-1611;20180314:0959-1611;20180315:0959-1611;20180316:0959-1611;20180317:CLOSED;20180318:CLOSED;20180319:0959-1611;20180320:0959-1611;20180321:0959-1611;20180322:0959-1611;20180323:0959-1611;20180324:CLOSED;20180325:CLOSED;20180326:0959-1611;20180327:0959-1611;20180328:0959-1611;20180329:0959-1611;20180330:0959-1611;20180331:CLOSED;20180401:CLOSED;20180402:0959-1611;20180403:0959-1611;20180404:0959-1611;20180405:0959-1611;20180406:0959-1611;20180407:CLOSED', mdSizeMultiplier=1, aggGroup=17, marketRuleIds='614,614', secIdList=[TagValue(tag='ISIN', value='AU000000AMD2')]),\n",
       " ContractDetails(summary=Contract(secType='STK', conId=172603743, symbol='AMD', exchange='SMART', primaryExchange='EBS', currency='CHF', localSymbol='AMD', tradingClass='AMD'), marketName='AMD', minTick=0.0005, orderTypes='ACTIVETIM,ADJUST,ALERT,ALGOLTH,ALLOC,AVGCOST,BASKET,COND,CONDORDER,CONSCOST,DAY,DEACT,DEACTDIS,DEACTEOD,GAT,GTC,GTD,GTT,HID,IOC,LIT,LMT,LOC,LTH,MIT,MKT,MOC,MTL,NGCOMB,NONALGO,OCA,OPG,PEGBENCH,REL,SNAPMID,SNAPMKT,SNAPREL,STP,STPLMT,TRAIL,TRAILLIT,TRAILLMT,TRAILMIT,WHATIF', validExchanges='SMART,EBS', priceMagnifier=1, longName='ADVANCED MICRO DEVICES', industry='Technology', category='Semiconductors', subcategory='Electronic Compo-Semicon', timeZoneId='MET', tradingHours='20180304:CLOSED;20180305:0900-1732;20180306:0900-1732;20180307:0900-1732;20180308:0900-1732;20180309:0900-1732;20180310:CLOSED;20180311:CLOSED;20180312:0900-1732;20180313:0900-1732;20180314:0900-1732;20180315:0900-1732;20180316:0900-1732;20180317:CLOSED;20180318:CLOSED;20180319:0900-1732;20180320:0900-1732;20180321:0900-1732;20180322:0900-1732;20180323:0900-1732;20180324:CLOSED;20180325:CLOSED;20180326:0900-1732;20180327:0900-1732;20180328:0900-1732;20180329:0900-1732;20180330:0900-1732;20180331:CLOSED;20180401:CLOSED;20180402:0900-1732;20180403:0900-1732;20180404:0900-1732;20180405:0900-1732;20180406:0900-1732;20180407:CLOSED', liquidHours='20180304:CLOSED;20180305:0900-1730;20180306:0900-1730;20180307:0900-1730;20180308:0900-1730;20180309:0900-1730;20180310:CLOSED;20180311:CLOSED;20180312:0900-1730;20180313:0900-1730;20180314:0900-1730;20180315:0900-1730;20180316:0900-1730;20180317:CLOSED;20180318:CLOSED;20180319:0900-1730;20180320:0900-1730;20180321:0900-1730;20180322:0900-1730;20180323:0900-1730;20180324:CLOSED;20180325:CLOSED;20180326:0900-1730;20180327:0900-1730;20180328:0900-1730;20180329:0900-1730;20180330:0900-1730;20180331:CLOSED;20180401:CLOSED;20180402:0900-1730;20180403:0900-1730;20180404:0900-1730;20180405:0900-1730;20180406:0900-1730;20180407:CLOSED', mdSizeMultiplier=1, aggGroup=6, marketRuleIds='1869,1869', secIdList=[TagValue(tag='ISIN', value='US0079031078')]),\n",
       " ContractDetails(summary=Contract(secType='STK', conId=298633607, symbol='AMD', exchange='SMART', primaryExchange='ASX', currency='AUD', localSymbol='AMD', tradingClass='AMD'), marketName='AMD', minTick=0.001, orderTypes='ACTIVETIM,ADJUST,ALERT,ALGO,ALGOLTH,ALLOC,AVGCOST,BASKET,COND,CONDORDER,DAY,DEACT,DEACTDIS,DEACTEOD,GAT,GTC,GTD,GTT,HID,LIT,LMT,MIT,MKT,MTL,NGCOMB,NONALGO,OCA,PEGBENCH,REL,SCALE,SCALERST,SNAPMID,SNAPMKT,SNAPREL,STP,STPLMT,TRAIL,TRAILLIT,TRAILLMT,TRAILMIT,WHATIF', validExchanges='SMART,ASX', priceMagnifier=1, longName='ARROW MINERALS LTD', industry='Basic Materials', category='Mining', subcategory='Metal-Diversified', timeZoneId='Australia/ACT', tradingHours='20180304:CLOSED;20180305:0959-1611;20180306:0959-1611;20180307:0959-1611;20180308:0959-1611;20180309:0959-1611;20180310:CLOSED;20180311:CLOSED;20180312:0959-1611;20180313:0959-1611;20180314:0959-1611;20180315:0959-1611;20180316:0959-1611;20180317:CLOSED;20180318:CLOSED;20180319:0959-1611;20180320:0959-1611;20180321:0959-1611;20180322:0959-1611;20180323:0959-1611;20180324:CLOSED;20180325:CLOSED;20180326:0959-1611;20180327:0959-1611;20180328:0959-1611;20180329:0959-1611;20180330:0959-1611;20180331:CLOSED;20180401:CLOSED;20180402:0959-1611;20180403:0959-1611;20180404:0959-1611;20180405:0959-1611;20180406:0959-1611;20180407:CLOSED', liquidHours='20180304:CLOSED;20180305:0959-1611;20180306:0959-1611;20180307:0959-1611;20180308:0959-1611;20180309:0959-1611;20180310:CLOSED;20180311:CLOSED;20180312:0959-1611;20180313:0959-1611;20180314:0959-1611;20180315:0959-1611;20180316:0959-1611;20180317:CLOSED;20180318:CLOSED;20180319:0959-1611;20180320:0959-1611;20180321:0959-1611;20180322:0959-1611;20180323:0959-1611;20180324:CLOSED;20180325:CLOSED;20180326:0959-1611;20180327:0959-1611;20180328:0959-1611;20180329:0959-1611;20180330:0959-1611;20180331:CLOSED;20180401:CLOSED;20180402:0959-1611;20180403:0959-1611;20180404:0959-1611;20180405:0959-1611;20180406:0959-1611;20180407:CLOSED', mdSizeMultiplier=1, aggGroup=17, marketRuleIds='614,614', secIdList=[TagValue(tag='ISIN', value='AU000000AMD2')])]"
      ]
     },
     "execution_count": 16,
     "metadata": {},
     "output_type": "execute_result"
    }
   ],
   "source": [
    "cds"
   ]
  },
  {
   "cell_type": "code",
   "execution_count": 17,
   "metadata": {},
   "outputs": [
    {
     "data": {
      "text/plain": [
       "Contract(secType='STK', conId=4391, symbol='AMD', exchange='SMART', primaryExchange='NASDAQ', currency='USD', localSymbol='AMD', tradingClass='SCM')"
      ]
     },
     "execution_count": 17,
     "metadata": {},
     "output_type": "execute_result"
    }
   ],
   "source": [
    "\n",
    "\n",
    "contracts = [cd.summary for cd in cds]\n",
    "\n",
    "contracts[0]"
   ]
  },
  {
   "cell_type": "code",
   "execution_count": 18,
   "metadata": {},
   "outputs": [
    {
     "data": {
      "text/html": [
       "<div>\n",
       "<table border=\"1\" class=\"dataframe\">\n",
       "  <thead>\n",
       "    <tr style=\"text-align: right;\">\n",
       "      <th></th>\n",
       "      <th>secType</th>\n",
       "      <th>conId</th>\n",
       "      <th>symbol</th>\n",
       "      <th>lastTradeDateOrContractMonth</th>\n",
       "      <th>strike</th>\n",
       "      <th>right</th>\n",
       "      <th>multiplier</th>\n",
       "      <th>exchange</th>\n",
       "      <th>primaryExchange</th>\n",
       "      <th>currency</th>\n",
       "      <th>localSymbol</th>\n",
       "      <th>tradingClass</th>\n",
       "      <th>includeExpired</th>\n",
       "      <th>secIdType</th>\n",
       "      <th>secId</th>\n",
       "      <th>comboLegsDescrip</th>\n",
       "      <th>comboLegs</th>\n",
       "      <th>underComp</th>\n",
       "    </tr>\n",
       "  </thead>\n",
       "  <tbody>\n",
       "    <tr>\n",
       "      <th>0</th>\n",
       "      <td>STK</td>\n",
       "      <td>4391</td>\n",
       "      <td>AMD</td>\n",
       "      <td></td>\n",
       "      <td>0.0</td>\n",
       "      <td></td>\n",
       "      <td></td>\n",
       "      <td>SMART</td>\n",
       "      <td>NASDAQ</td>\n",
       "      <td>USD</td>\n",
       "      <td>AMD</td>\n",
       "      <td>SCM</td>\n",
       "      <td>False</td>\n",
       "      <td></td>\n",
       "      <td></td>\n",
       "      <td></td>\n",
       "      <td>None</td>\n",
       "      <td>None</td>\n",
       "    </tr>\n",
       "    <tr>\n",
       "      <th>1</th>\n",
       "      <td>STK</td>\n",
       "      <td>32596680</td>\n",
       "      <td>AMD</td>\n",
       "      <td></td>\n",
       "      <td>0.0</td>\n",
       "      <td></td>\n",
       "      <td></td>\n",
       "      <td>SMART</td>\n",
       "      <td>IBIS</td>\n",
       "      <td>EUR</td>\n",
       "      <td>AMD</td>\n",
       "      <td>USSTARS</td>\n",
       "      <td>False</td>\n",
       "      <td></td>\n",
       "      <td></td>\n",
       "      <td></td>\n",
       "      <td>None</td>\n",
       "      <td>None</td>\n",
       "    </tr>\n",
       "    <tr>\n",
       "      <th>2</th>\n",
       "      <td>STK</td>\n",
       "      <td>4391</td>\n",
       "      <td>AMD</td>\n",
       "      <td></td>\n",
       "      <td>0.0</td>\n",
       "      <td></td>\n",
       "      <td></td>\n",
       "      <td>AMEX</td>\n",
       "      <td>NASDAQ</td>\n",
       "      <td>USD</td>\n",
       "      <td>AMD</td>\n",
       "      <td>SCM</td>\n",
       "      <td>False</td>\n",
       "      <td></td>\n",
       "      <td></td>\n",
       "      <td></td>\n",
       "      <td>None</td>\n",
       "      <td>None</td>\n",
       "    </tr>\n",
       "    <tr>\n",
       "      <th>3</th>\n",
       "      <td>STK</td>\n",
       "      <td>4391</td>\n",
       "      <td>AMD</td>\n",
       "      <td></td>\n",
       "      <td>0.0</td>\n",
       "      <td></td>\n",
       "      <td></td>\n",
       "      <td>CBOE</td>\n",
       "      <td>NASDAQ</td>\n",
       "      <td>USD</td>\n",
       "      <td>AMD</td>\n",
       "      <td>SCM</td>\n",
       "      <td>False</td>\n",
       "      <td></td>\n",
       "      <td></td>\n",
       "      <td></td>\n",
       "      <td>None</td>\n",
       "      <td>None</td>\n",
       "    </tr>\n",
       "    <tr>\n",
       "      <th>4</th>\n",
       "      <td>STK</td>\n",
       "      <td>4391</td>\n",
       "      <td>AMD</td>\n",
       "      <td></td>\n",
       "      <td>0.0</td>\n",
       "      <td></td>\n",
       "      <td></td>\n",
       "      <td>ISE</td>\n",
       "      <td>NASDAQ</td>\n",
       "      <td>USD</td>\n",
       "      <td>AMD</td>\n",
       "      <td>SCM</td>\n",
       "      <td>False</td>\n",
       "      <td></td>\n",
       "      <td></td>\n",
       "      <td></td>\n",
       "      <td>None</td>\n",
       "      <td>None</td>\n",
       "    </tr>\n",
       "    <tr>\n",
       "      <th>5</th>\n",
       "      <td>STK</td>\n",
       "      <td>4391</td>\n",
       "      <td>AMD</td>\n",
       "      <td></td>\n",
       "      <td>0.0</td>\n",
       "      <td></td>\n",
       "      <td></td>\n",
       "      <td>CHX</td>\n",
       "      <td>NASDAQ</td>\n",
       "      <td>USD</td>\n",
       "      <td>AMD</td>\n",
       "      <td>SCM</td>\n",
       "      <td>False</td>\n",
       "      <td></td>\n",
       "      <td></td>\n",
       "      <td></td>\n",
       "      <td>None</td>\n",
       "      <td>None</td>\n",
       "    </tr>\n",
       "    <tr>\n",
       "      <th>6</th>\n",
       "      <td>STK</td>\n",
       "      <td>4391</td>\n",
       "      <td>AMD</td>\n",
       "      <td></td>\n",
       "      <td>0.0</td>\n",
       "      <td></td>\n",
       "      <td></td>\n",
       "      <td>ARCA</td>\n",
       "      <td>NASDAQ</td>\n",
       "      <td>USD</td>\n",
       "      <td>AMD</td>\n",
       "      <td>SCM</td>\n",
       "      <td>False</td>\n",
       "      <td></td>\n",
       "      <td></td>\n",
       "      <td></td>\n",
       "      <td>None</td>\n",
       "      <td>None</td>\n",
       "    </tr>\n",
       "    <tr>\n",
       "      <th>7</th>\n",
       "      <td>STK</td>\n",
       "      <td>4391</td>\n",
       "      <td>AMD</td>\n",
       "      <td></td>\n",
       "      <td>0.0</td>\n",
       "      <td></td>\n",
       "      <td></td>\n",
       "      <td>ISLAND</td>\n",
       "      <td>NASDAQ</td>\n",
       "      <td>USD</td>\n",
       "      <td>AMD</td>\n",
       "      <td>SCM</td>\n",
       "      <td>False</td>\n",
       "      <td></td>\n",
       "      <td></td>\n",
       "      <td></td>\n",
       "      <td>None</td>\n",
       "      <td>None</td>\n",
       "    </tr>\n",
       "    <tr>\n",
       "      <th>8</th>\n",
       "      <td>STK</td>\n",
       "      <td>4391</td>\n",
       "      <td>AMD</td>\n",
       "      <td></td>\n",
       "      <td>0.0</td>\n",
       "      <td></td>\n",
       "      <td></td>\n",
       "      <td>DRCTEDGE</td>\n",
       "      <td>NASDAQ</td>\n",
       "      <td>USD</td>\n",
       "      <td>AMD</td>\n",
       "      <td>SCM</td>\n",
       "      <td>False</td>\n",
       "      <td></td>\n",
       "      <td></td>\n",
       "      <td></td>\n",
       "      <td>None</td>\n",
       "      <td>None</td>\n",
       "    </tr>\n",
       "    <tr>\n",
       "      <th>9</th>\n",
       "      <td>STK</td>\n",
       "      <td>4391</td>\n",
       "      <td>AMD</td>\n",
       "      <td></td>\n",
       "      <td>0.0</td>\n",
       "      <td></td>\n",
       "      <td></td>\n",
       "      <td>NSX</td>\n",
       "      <td>NASDAQ</td>\n",
       "      <td>USD</td>\n",
       "      <td>AMD</td>\n",
       "      <td>SCM</td>\n",
       "      <td>False</td>\n",
       "      <td></td>\n",
       "      <td></td>\n",
       "      <td></td>\n",
       "      <td>None</td>\n",
       "      <td>None</td>\n",
       "    </tr>\n",
       "    <tr>\n",
       "      <th>10</th>\n",
       "      <td>STK</td>\n",
       "      <td>4391</td>\n",
       "      <td>AMD</td>\n",
       "      <td></td>\n",
       "      <td>0.0</td>\n",
       "      <td></td>\n",
       "      <td></td>\n",
       "      <td>BEX</td>\n",
       "      <td>NASDAQ</td>\n",
       "      <td>USD</td>\n",
       "      <td>AMD</td>\n",
       "      <td>SCM</td>\n",
       "      <td>False</td>\n",
       "      <td></td>\n",
       "      <td></td>\n",
       "      <td></td>\n",
       "      <td>None</td>\n",
       "      <td>None</td>\n",
       "    </tr>\n",
       "    <tr>\n",
       "      <th>11</th>\n",
       "      <td>STK</td>\n",
       "      <td>4391</td>\n",
       "      <td>AMD</td>\n",
       "      <td></td>\n",
       "      <td>0.0</td>\n",
       "      <td></td>\n",
       "      <td></td>\n",
       "      <td>BATS</td>\n",
       "      <td>NASDAQ</td>\n",
       "      <td>USD</td>\n",
       "      <td>AMD</td>\n",
       "      <td>SCM</td>\n",
       "      <td>False</td>\n",
       "      <td></td>\n",
       "      <td></td>\n",
       "      <td></td>\n",
       "      <td>None</td>\n",
       "      <td>None</td>\n",
       "    </tr>\n",
       "    <tr>\n",
       "      <th>12</th>\n",
       "      <td>STK</td>\n",
       "      <td>4391</td>\n",
       "      <td>AMD</td>\n",
       "      <td></td>\n",
       "      <td>0.0</td>\n",
       "      <td></td>\n",
       "      <td></td>\n",
       "      <td>EDGEA</td>\n",
       "      <td>NASDAQ</td>\n",
       "      <td>USD</td>\n",
       "      <td>AMD</td>\n",
       "      <td>SCM</td>\n",
       "      <td>False</td>\n",
       "      <td></td>\n",
       "      <td></td>\n",
       "      <td></td>\n",
       "      <td>None</td>\n",
       "      <td>None</td>\n",
       "    </tr>\n",
       "    <tr>\n",
       "      <th>13</th>\n",
       "      <td>STK</td>\n",
       "      <td>4391</td>\n",
       "      <td>AMD</td>\n",
       "      <td></td>\n",
       "      <td>0.0</td>\n",
       "      <td></td>\n",
       "      <td></td>\n",
       "      <td>CSFBALGO</td>\n",
       "      <td>NASDAQ</td>\n",
       "      <td>USD</td>\n",
       "      <td>AMD</td>\n",
       "      <td>SCM</td>\n",
       "      <td>False</td>\n",
       "      <td></td>\n",
       "      <td></td>\n",
       "      <td></td>\n",
       "      <td>None</td>\n",
       "      <td>None</td>\n",
       "    </tr>\n",
       "    <tr>\n",
       "      <th>14</th>\n",
       "      <td>STK</td>\n",
       "      <td>4391</td>\n",
       "      <td>AMD</td>\n",
       "      <td></td>\n",
       "      <td>0.0</td>\n",
       "      <td></td>\n",
       "      <td></td>\n",
       "      <td>JEFFALGO</td>\n",
       "      <td>NASDAQ</td>\n",
       "      <td>USD</td>\n",
       "      <td>AMD</td>\n",
       "      <td>SCM</td>\n",
       "      <td>False</td>\n",
       "      <td></td>\n",
       "      <td></td>\n",
       "      <td></td>\n",
       "      <td>None</td>\n",
       "      <td>None</td>\n",
       "    </tr>\n",
       "    <tr>\n",
       "      <th>15</th>\n",
       "      <td>STK</td>\n",
       "      <td>4391</td>\n",
       "      <td>AMD</td>\n",
       "      <td></td>\n",
       "      <td>0.0</td>\n",
       "      <td></td>\n",
       "      <td></td>\n",
       "      <td>BYX</td>\n",
       "      <td>NASDAQ</td>\n",
       "      <td>USD</td>\n",
       "      <td>AMD</td>\n",
       "      <td>SCM</td>\n",
       "      <td>False</td>\n",
       "      <td></td>\n",
       "      <td></td>\n",
       "      <td></td>\n",
       "      <td>None</td>\n",
       "      <td>None</td>\n",
       "    </tr>\n",
       "    <tr>\n",
       "      <th>16</th>\n",
       "      <td>STK</td>\n",
       "      <td>4391</td>\n",
       "      <td>AMD</td>\n",
       "      <td></td>\n",
       "      <td>0.0</td>\n",
       "      <td></td>\n",
       "      <td></td>\n",
       "      <td>IEX</td>\n",
       "      <td>NASDAQ</td>\n",
       "      <td>USD</td>\n",
       "      <td>AMD</td>\n",
       "      <td>SCM</td>\n",
       "      <td>False</td>\n",
       "      <td></td>\n",
       "      <td></td>\n",
       "      <td></td>\n",
       "      <td>None</td>\n",
       "      <td>None</td>\n",
       "    </tr>\n",
       "    <tr>\n",
       "      <th>17</th>\n",
       "      <td>STK</td>\n",
       "      <td>4391</td>\n",
       "      <td>AMD</td>\n",
       "      <td></td>\n",
       "      <td>0.0</td>\n",
       "      <td></td>\n",
       "      <td></td>\n",
       "      <td>PSX</td>\n",
       "      <td>NASDAQ</td>\n",
       "      <td>USD</td>\n",
       "      <td>AMD</td>\n",
       "      <td>SCM</td>\n",
       "      <td>False</td>\n",
       "      <td></td>\n",
       "      <td></td>\n",
       "      <td></td>\n",
       "      <td>None</td>\n",
       "      <td>None</td>\n",
       "    </tr>\n",
       "    <tr>\n",
       "      <th>18</th>\n",
       "      <td>STK</td>\n",
       "      <td>32596680</td>\n",
       "      <td>AMD</td>\n",
       "      <td></td>\n",
       "      <td>0.0</td>\n",
       "      <td></td>\n",
       "      <td></td>\n",
       "      <td>FWB</td>\n",
       "      <td>IBIS</td>\n",
       "      <td>EUR</td>\n",
       "      <td>AMD</td>\n",
       "      <td>USSTARS</td>\n",
       "      <td>False</td>\n",
       "      <td></td>\n",
       "      <td></td>\n",
       "      <td></td>\n",
       "      <td>None</td>\n",
       "      <td>None</td>\n",
       "    </tr>\n",
       "    <tr>\n",
       "      <th>19</th>\n",
       "      <td>STK</td>\n",
       "      <td>32596680</td>\n",
       "      <td>AMD</td>\n",
       "      <td></td>\n",
       "      <td>0.0</td>\n",
       "      <td></td>\n",
       "      <td></td>\n",
       "      <td>IBIS</td>\n",
       "      <td>IBIS</td>\n",
       "      <td>EUR</td>\n",
       "      <td>AMD</td>\n",
       "      <td>USSTARS</td>\n",
       "      <td>False</td>\n",
       "      <td></td>\n",
       "      <td></td>\n",
       "      <td></td>\n",
       "      <td>None</td>\n",
       "      <td>None</td>\n",
       "    </tr>\n",
       "    <tr>\n",
       "      <th>20</th>\n",
       "      <td>STK</td>\n",
       "      <td>32596680</td>\n",
       "      <td>AMD</td>\n",
       "      <td></td>\n",
       "      <td>0.0</td>\n",
       "      <td></td>\n",
       "      <td></td>\n",
       "      <td>BVME</td>\n",
       "      <td>IBIS</td>\n",
       "      <td>EUR</td>\n",
       "      <td>AMD</td>\n",
       "      <td>AMD</td>\n",
       "      <td>False</td>\n",
       "      <td></td>\n",
       "      <td></td>\n",
       "      <td></td>\n",
       "      <td>None</td>\n",
       "      <td>None</td>\n",
       "    </tr>\n",
       "    <tr>\n",
       "      <th>21</th>\n",
       "      <td>STK</td>\n",
       "      <td>32596680</td>\n",
       "      <td>AMD</td>\n",
       "      <td></td>\n",
       "      <td>0.0</td>\n",
       "      <td></td>\n",
       "      <td></td>\n",
       "      <td>SWB</td>\n",
       "      <td>IBIS</td>\n",
       "      <td>EUR</td>\n",
       "      <td>AMD</td>\n",
       "      <td>XETRA</td>\n",
       "      <td>False</td>\n",
       "      <td></td>\n",
       "      <td></td>\n",
       "      <td></td>\n",
       "      <td>None</td>\n",
       "      <td>None</td>\n",
       "    </tr>\n",
       "    <tr>\n",
       "      <th>22</th>\n",
       "      <td>STK</td>\n",
       "      <td>32596680</td>\n",
       "      <td>AMD</td>\n",
       "      <td></td>\n",
       "      <td>0.0</td>\n",
       "      <td></td>\n",
       "      <td></td>\n",
       "      <td>TGATE</td>\n",
       "      <td>IBIS</td>\n",
       "      <td>EUR</td>\n",
       "      <td>AMD</td>\n",
       "      <td>AMD</td>\n",
       "      <td>False</td>\n",
       "      <td></td>\n",
       "      <td></td>\n",
       "      <td></td>\n",
       "      <td>None</td>\n",
       "      <td>None</td>\n",
       "    </tr>\n",
       "    <tr>\n",
       "      <th>23</th>\n",
       "      <td>STK</td>\n",
       "      <td>48818298</td>\n",
       "      <td>AMD</td>\n",
       "      <td></td>\n",
       "      <td>0.0</td>\n",
       "      <td></td>\n",
       "      <td></td>\n",
       "      <td>MEXI</td>\n",
       "      <td>MEXI</td>\n",
       "      <td>MXN</td>\n",
       "      <td>AMD</td>\n",
       "      <td>AMD</td>\n",
       "      <td>False</td>\n",
       "      <td></td>\n",
       "      <td></td>\n",
       "      <td></td>\n",
       "      <td>None</td>\n",
       "      <td>None</td>\n",
       "    </tr>\n",
       "    <tr>\n",
       "      <th>24</th>\n",
       "      <td>STK</td>\n",
       "      <td>172603743</td>\n",
       "      <td>AMD</td>\n",
       "      <td></td>\n",
       "      <td>0.0</td>\n",
       "      <td></td>\n",
       "      <td></td>\n",
       "      <td>EBS</td>\n",
       "      <td>EBS</td>\n",
       "      <td>CHF</td>\n",
       "      <td>AMD</td>\n",
       "      <td>AMD</td>\n",
       "      <td>False</td>\n",
       "      <td></td>\n",
       "      <td></td>\n",
       "      <td></td>\n",
       "      <td>None</td>\n",
       "      <td>None</td>\n",
       "    </tr>\n",
       "    <tr>\n",
       "      <th>25</th>\n",
       "      <td>STK</td>\n",
       "      <td>298633607</td>\n",
       "      <td>AMD</td>\n",
       "      <td></td>\n",
       "      <td>0.0</td>\n",
       "      <td></td>\n",
       "      <td></td>\n",
       "      <td>ASX</td>\n",
       "      <td>ASX</td>\n",
       "      <td>AUD</td>\n",
       "      <td>AMD</td>\n",
       "      <td>AMD</td>\n",
       "      <td>False</td>\n",
       "      <td></td>\n",
       "      <td></td>\n",
       "      <td></td>\n",
       "      <td>None</td>\n",
       "      <td>None</td>\n",
       "    </tr>\n",
       "    <tr>\n",
       "      <th>26</th>\n",
       "      <td>STK</td>\n",
       "      <td>172603743</td>\n",
       "      <td>AMD</td>\n",
       "      <td></td>\n",
       "      <td>0.0</td>\n",
       "      <td></td>\n",
       "      <td></td>\n",
       "      <td>SMART</td>\n",
       "      <td>EBS</td>\n",
       "      <td>CHF</td>\n",
       "      <td>AMD</td>\n",
       "      <td>AMD</td>\n",
       "      <td>False</td>\n",
       "      <td></td>\n",
       "      <td></td>\n",
       "      <td></td>\n",
       "      <td>None</td>\n",
       "      <td>None</td>\n",
       "    </tr>\n",
       "    <tr>\n",
       "      <th>27</th>\n",
       "      <td>STK</td>\n",
       "      <td>298633607</td>\n",
       "      <td>AMD</td>\n",
       "      <td></td>\n",
       "      <td>0.0</td>\n",
       "      <td></td>\n",
       "      <td></td>\n",
       "      <td>SMART</td>\n",
       "      <td>ASX</td>\n",
       "      <td>AUD</td>\n",
       "      <td>AMD</td>\n",
       "      <td>AMD</td>\n",
       "      <td>False</td>\n",
       "      <td></td>\n",
       "      <td></td>\n",
       "      <td></td>\n",
       "      <td>None</td>\n",
       "      <td>None</td>\n",
       "    </tr>\n",
       "  </tbody>\n",
       "</table>\n",
       "</div>"
      ],
      "text/plain": [
       "   secType      conId symbol lastTradeDateOrContractMonth  strike right  \\\n",
       "0      STK       4391    AMD                                  0.0         \n",
       "1      STK   32596680    AMD                                  0.0         \n",
       "2      STK       4391    AMD                                  0.0         \n",
       "3      STK       4391    AMD                                  0.0         \n",
       "4      STK       4391    AMD                                  0.0         \n",
       "5      STK       4391    AMD                                  0.0         \n",
       "6      STK       4391    AMD                                  0.0         \n",
       "7      STK       4391    AMD                                  0.0         \n",
       "8      STK       4391    AMD                                  0.0         \n",
       "9      STK       4391    AMD                                  0.0         \n",
       "10     STK       4391    AMD                                  0.0         \n",
       "11     STK       4391    AMD                                  0.0         \n",
       "12     STK       4391    AMD                                  0.0         \n",
       "13     STK       4391    AMD                                  0.0         \n",
       "14     STK       4391    AMD                                  0.0         \n",
       "15     STK       4391    AMD                                  0.0         \n",
       "16     STK       4391    AMD                                  0.0         \n",
       "17     STK       4391    AMD                                  0.0         \n",
       "18     STK   32596680    AMD                                  0.0         \n",
       "19     STK   32596680    AMD                                  0.0         \n",
       "20     STK   32596680    AMD                                  0.0         \n",
       "21     STK   32596680    AMD                                  0.0         \n",
       "22     STK   32596680    AMD                                  0.0         \n",
       "23     STK   48818298    AMD                                  0.0         \n",
       "24     STK  172603743    AMD                                  0.0         \n",
       "25     STK  298633607    AMD                                  0.0         \n",
       "26     STK  172603743    AMD                                  0.0         \n",
       "27     STK  298633607    AMD                                  0.0         \n",
       "\n",
       "   multiplier  exchange primaryExchange currency localSymbol tradingClass  \\\n",
       "0                 SMART          NASDAQ      USD         AMD          SCM   \n",
       "1                 SMART            IBIS      EUR         AMD      USSTARS   \n",
       "2                  AMEX          NASDAQ      USD         AMD          SCM   \n",
       "3                  CBOE          NASDAQ      USD         AMD          SCM   \n",
       "4                   ISE          NASDAQ      USD         AMD          SCM   \n",
       "5                   CHX          NASDAQ      USD         AMD          SCM   \n",
       "6                  ARCA          NASDAQ      USD         AMD          SCM   \n",
       "7                ISLAND          NASDAQ      USD         AMD          SCM   \n",
       "8              DRCTEDGE          NASDAQ      USD         AMD          SCM   \n",
       "9                   NSX          NASDAQ      USD         AMD          SCM   \n",
       "10                  BEX          NASDAQ      USD         AMD          SCM   \n",
       "11                 BATS          NASDAQ      USD         AMD          SCM   \n",
       "12                EDGEA          NASDAQ      USD         AMD          SCM   \n",
       "13             CSFBALGO          NASDAQ      USD         AMD          SCM   \n",
       "14             JEFFALGO          NASDAQ      USD         AMD          SCM   \n",
       "15                  BYX          NASDAQ      USD         AMD          SCM   \n",
       "16                  IEX          NASDAQ      USD         AMD          SCM   \n",
       "17                  PSX          NASDAQ      USD         AMD          SCM   \n",
       "18                  FWB            IBIS      EUR         AMD      USSTARS   \n",
       "19                 IBIS            IBIS      EUR         AMD      USSTARS   \n",
       "20                 BVME            IBIS      EUR         AMD          AMD   \n",
       "21                  SWB            IBIS      EUR         AMD        XETRA   \n",
       "22                TGATE            IBIS      EUR         AMD          AMD   \n",
       "23                 MEXI            MEXI      MXN         AMD          AMD   \n",
       "24                  EBS             EBS      CHF         AMD          AMD   \n",
       "25                  ASX             ASX      AUD         AMD          AMD   \n",
       "26                SMART             EBS      CHF         AMD          AMD   \n",
       "27                SMART             ASX      AUD         AMD          AMD   \n",
       "\n",
       "   includeExpired secIdType secId comboLegsDescrip comboLegs underComp  \n",
       "0           False                                       None      None  \n",
       "1           False                                       None      None  \n",
       "2           False                                       None      None  \n",
       "3           False                                       None      None  \n",
       "4           False                                       None      None  \n",
       "5           False                                       None      None  \n",
       "6           False                                       None      None  \n",
       "7           False                                       None      None  \n",
       "8           False                                       None      None  \n",
       "9           False                                       None      None  \n",
       "10          False                                       None      None  \n",
       "11          False                                       None      None  \n",
       "12          False                                       None      None  \n",
       "13          False                                       None      None  \n",
       "14          False                                       None      None  \n",
       "15          False                                       None      None  \n",
       "16          False                                       None      None  \n",
       "17          False                                       None      None  \n",
       "18          False                                       None      None  \n",
       "19          False                                       None      None  \n",
       "20          False                                       None      None  \n",
       "21          False                                       None      None  \n",
       "22          False                                       None      None  \n",
       "23          False                                       None      None  \n",
       "24          False                                       None      None  \n",
       "25          False                                       None      None  \n",
       "26          False                                       None      None  \n",
       "27          False                                       None      None  "
      ]
     },
     "execution_count": 18,
     "metadata": {},
     "output_type": "execute_result"
    }
   ],
   "source": [
    "util.df(contracts)"
   ]
  },
  {
   "cell_type": "code",
   "execution_count": 19,
   "metadata": {},
   "outputs": [
    {
     "data": {
      "text/plain": [
       "1"
      ]
     },
     "execution_count": 19,
     "metadata": {},
     "output_type": "execute_result"
    }
   ],
   "source": [
    "ess = Future('ES', '20180921', 'GLOBEX')\n",
    "\n",
    "cds = ib.reqContractDetails(ess)\n",
    "\n",
    "len(cds)"
   ]
  },
  {
   "cell_type": "code",
   "execution_count": 20,
   "metadata": {},
   "outputs": [
    {
     "data": {
      "text/plain": [
       "[ContractDetails(summary=Contract(secType='FUT', conId=279396694, symbol='ES', lastTradeDateOrContractMonth='20180921 08:30 CST', multiplier='50', exchange='GLOBEX', currency='USD', localSymbol='ESU8', tradingClass='ES'), marketName='ES', minTick=0.25, orderTypes='ACTIVETIM,ADJUST,ALERT,ALGO,ALLOC,AVGCOST,BASKET,COND,CONDORDER,DAY,DEACT,DEACTDIS,DEACTEOD,GAT,GTC,GTD,GTT,HID,ICE,IOC,LIT,LMT,LTH,MIT,MKT,MTL,NGCOMB,NONALGO,OCA,PEGBENCH,SCALE,SCALERST,SNAPMID,SNAPMKT,SNAPREL,STP,STPLMT,TRAIL,TRAILLIT,TRAILLMT,TRAILMIT,WHATIF', validExchanges='GLOBEX', priceMagnifier=1, underConId=11004968, longName='E-mini S&P 500', contractMonth='201809', timeZoneId='CST', tradingHours='20180303:CLOSED;20180304:CLOSED;20180305:1700-1515,1530-1600;20180306:1700-1515,1530-1600;20180307:1700-1515,1530-1600;20180308:1700-1515,1530-1600;20180309:1700-1515,1530-1600;20180310:CLOSED;20180311:CLOSED;20180312:1700-1515,1530-1600;20180313:1700-1515,1530-1600;20180314:1700-1515,1530-1600;20180315:1700-1515,1530-1600;20180316:1700-1515,1530-1600;20180317:CLOSED;20180318:CLOSED;20180319:1700-1515,1530-1600;20180320:1700-1515,1530-1600;20180321:1700-1515,1530-1600;20180322:1700-1515,1530-1600;20180323:1700-1515,1530-1600;20180324:CLOSED;20180325:CLOSED;20180326:1700-1515,1530-1600;20180327:1700-1515,1530-1600;20180328:1700-1515,1530-1600;20180329:1700-1515,1530-1600;20180330:1700-1515,1530-1600;20180331:CLOSED;20180401:CLOSED;20180402:1700-1515,1530-1600;20180403:1700-1515,1530-1600;20180404:1700-1515,1530-1600;20180405:1700-1515,1530-1600;20180406:1700-1515,1530-1600', liquidHours='20180303:CLOSED;20180304:CLOSED;20180305:0830-1515,1530-1600;20180306:0830-1515,1530-1600;20180307:0830-1515,1530-1600;20180308:0830-1515,1530-1600;20180309:0830-1515,1530-1600;20180310:CLOSED;20180311:CLOSED;20180312:0830-1515,1530-1600;20180313:0830-1515,1530-1600;20180314:0830-1515,1530-1600;20180315:0830-1515,1530-1600;20180316:0830-1515,1530-1600;20180317:CLOSED;20180318:CLOSED;20180319:0830-1515,1530-1600;20180320:0830-1515,1530-1600;20180321:0830-1515,1530-1600;20180322:0830-1515,1530-1600;20180323:0830-1515,1530-1600;20180324:CLOSED;20180325:CLOSED;20180326:0830-1515,1530-1600;20180327:0830-1515,1530-1600;20180328:0830-1515,1530-1600;20180329:0830-1515,1530-1600;20180330:0830-1515,1530-1600;20180331:CLOSED;20180401:CLOSED;20180402:0830-1515,1530-1600;20180403:0830-1515,1530-1600;20180404:0830-1515,1530-1600;20180405:0830-1515,1530-1600;20180406:0830-1515,1530-1600', mdSizeMultiplier=1, aggGroup=2147483647, underSymbol='ES', underSecType='IND', marketRuleIds='67', realExpirationDate='20180921')]"
      ]
     },
     "execution_count": 20,
     "metadata": {},
     "output_type": "execute_result"
    }
   ],
   "source": [
    "cds"
   ]
  },
  {
   "cell_type": "code",
   "execution_count": null,
   "metadata": {},
   "outputs": [],
   "source": []
  }
 ],
 "metadata": {
  "kernelspec": {
   "display_name": "Python 3",
   "language": "python",
   "name": "python3"
  },
  "language_info": {
   "codemirror_mode": {
    "name": "ipython",
    "version": 3
   },
   "file_extension": ".py",
   "mimetype": "text/x-python",
   "name": "python",
   "nbconvert_exporter": "python",
   "pygments_lexer": "ipython3",
   "version": "3.6.4"
  }
 },
 "nbformat": 4,
 "nbformat_minor": 2
}
