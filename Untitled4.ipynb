{
 "cells": [
  {
   "cell_type": "code",
   "execution_count": 1,
   "metadata": {},
   "outputs": [
    {
     "data": {
      "text/plain": [
       "<IB connected to 127.0.0.1:7497 clientId=11>"
      ]
     },
     "execution_count": 1,
     "metadata": {},
     "output_type": "execute_result"
    }
   ],
   "source": [
    "from ib_insync import *\n",
    "util.startLoop()\n",
    "\n",
    "ib = IB()\n",
    "ib.connect('127.0.0.1', 7497, clientId=11)"
   ]
  },
  {
   "cell_type": "code",
   "execution_count": 2,
   "metadata": {},
   "outputs": [],
   "source": [
    "amd = Stock('AMD', 'SMART', 'USD')\n",
    "\n",
    "assert len(ib.reqContractDetails(amd)) == 1"
   ]
  },
  {
   "cell_type": "code",
   "execution_count": 3,
   "metadata": {},
   "outputs": [
    {
     "data": {
      "text/plain": [
       "Stock(symbol='AMD', exchange='SMART', currency='USD')"
      ]
     },
     "execution_count": 3,
     "metadata": {},
     "output_type": "execute_result"
    }
   ],
   "source": [
    "amd"
   ]
  },
  {
   "cell_type": "code",
   "execution_count": 4,
   "metadata": {},
   "outputs": [],
   "source": [
    "eurusd = Forex('EURUSD')\n",
    "\n",
    "assert len(ib.reqContractDetails(eurusd)) == 1"
   ]
  },
  {
   "cell_type": "code",
   "execution_count": 7,
   "metadata": {},
   "outputs": [
    {
     "data": {
      "text/plain": [
       "Contract(secType='CASH', conId=12087792, symbol='EUR', exchange='IDEALPRO', currency='USD', localSymbol='EUR.USD', tradingClass='EUR.USD')"
      ]
     },
     "execution_count": 7,
     "metadata": {},
     "output_type": "execute_result"
    }
   ],
   "source": [
    "ib.reqContractDetails(eurusd)[0].summary"
   ]
  },
  {
   "cell_type": "code",
   "execution_count": 8,
   "metadata": {},
   "outputs": [
    {
     "data": {
      "text/plain": [
       "Forex('EURUSD', exchange='IDEALPRO')"
      ]
     },
     "execution_count": 8,
     "metadata": {},
     "output_type": "execute_result"
    }
   ],
   "source": [
    "eurusd"
   ]
  },
  {
   "cell_type": "code",
   "execution_count": 9,
   "metadata": {},
   "outputs": [
    {
     "data": {
      "text/plain": [
       "[Forex('EURUSD', conId=12087792, exchange='IDEALPRO', localSymbol='EUR.USD', tradingClass='EUR.USD')]"
      ]
     },
     "execution_count": 9,
     "metadata": {},
     "output_type": "execute_result"
    },
    {
     "data": {
      "text/plain": [
       "Forex('EURUSD', conId=12087792, exchange='IDEALPRO', localSymbol='EUR.USD', tradingClass='EUR.USD')"
      ]
     },
     "execution_count": 9,
     "metadata": {},
     "output_type": "execute_result"
    }
   ],
   "source": [
    "ib.qualifyContracts(eurusd)\n",
    "eurusd"
   ]
  },
  {
   "cell_type": "code",
   "execution_count": 11,
   "metadata": {},
   "outputs": [
    {
     "ename": "TypeError",
     "evalue": "qualifyContracts() got an unexpected keyword argument 'conId'",
     "output_type": "error",
     "traceback": [
      "\u001b[0;31m---------------------------------------------------------------------------\u001b[0m",
      "\u001b[0;31mTypeError\u001b[0m                                 Traceback (most recent call last)",
      "\u001b[0;32m<ipython-input-11-8872c9b42a9d>\u001b[0m in \u001b[0;36m<module>\u001b[0;34m()\u001b[0m\n\u001b[0;32m----> 1\u001b[0;31m \u001b[0mib\u001b[0m\u001b[0;34m.\u001b[0m\u001b[0mqualifyContracts\u001b[0m\u001b[0;34m(\u001b[0m\u001b[0mconId\u001b[0m\u001b[0;34m=\u001b[0m\u001b[0;36m12087792\u001b[0m\u001b[0;34m)\u001b[0m \u001b[0;34m==\u001b[0m \u001b[0meurusd\u001b[0m\u001b[0;34m\u001b[0m\u001b[0m\n\u001b[0m",
      "\u001b[0;31mTypeError\u001b[0m: qualifyContracts() got an unexpected keyword argument 'conId'"
     ]
    }
   ],
   "source": [
    "ib.qualifyContracts(conId=12087792) == eurusd"
   ]
  },
  {
   "cell_type": "code",
   "execution_count": 12,
   "metadata": {},
   "outputs": [],
   "source": [
    "contract_12087792 = Contract(conId=12087792)"
   ]
  },
  {
   "cell_type": "code",
   "execution_count": 13,
   "metadata": {},
   "outputs": [
    {
     "data": {
      "text/plain": [
       "Contract(conId=12087792)"
      ]
     },
     "execution_count": 13,
     "metadata": {},
     "output_type": "execute_result"
    }
   ],
   "source": [
    "contract_12087792"
   ]
  },
  {
   "cell_type": "code",
   "execution_count": 15,
   "metadata": {},
   "outputs": [
    {
     "data": {
      "text/plain": [
       "True"
      ]
     },
     "execution_count": 15,
     "metadata": {},
     "output_type": "execute_result"
    }
   ],
   "source": [
    "ib.qualifyContracts(contract_12087792) == ib.qualifyContracts(eurusd)"
   ]
  },
  {
   "cell_type": "code",
   "execution_count": 22,
   "metadata": {},
   "outputs": [
    {
     "data": {
      "text/plain": [
       "[Contract(secType='STK', conId=259003414, symbol='601155', primaryExchange='SEHKNTL', currency='CNH'),\n",
       " Contract(secType='STK', conId=117898520, symbol='1030', primaryExchange='SEHK', currency='HKD'),\n",
       " Contract(secType='STK', conId=236774663, symbol='FRETAIL', primaryExchange='NSE', currency='INR'),\n",
       " Contract(secType='STK', conId=257311242, symbol='002168', primaryExchange='SEHKSZSE', currency='CNH'),\n",
       " Contract(secType='STK', conId=130760477, symbol='FCONSUMER', primaryExchange='NSE', currency='INR'),\n",
       " Contract(secType='STK', conId=130831764, symbol='FLFL', primaryExchange='NSE', currency='INR'),\n",
       " Contract(secType='STK', conId=257313423, symbol='002631', primaryExchange='SEHKSZSE', currency='CNH'),\n",
       " Contract(secType='STK', conId=85469731, symbol='4722', primaryExchange='TSEJ', currency='JPY'),\n",
       " Contract(secType='STK', conId=257306466, symbol='3FF', primaryExchange='SWB2', currency='EUR'),\n",
       " Contract(secType='STK', conId=52298132, symbol='FF', primaryExchange='NYSE', currency='USD'),\n",
       " Contract(secType='STK', conId=299612200, symbol='FSC', primaryExchange='NSE', currency='INR'),\n",
       " Contract(secType='STK', conId=110700404, symbol='FTRN', primaryExchange='SBF', currency='EUR'),\n",
       " Contract(secType='STK', conId=163715323, symbol='FGX', primaryExchange='ASX', currency='AUD'),\n",
       " Contract(secType='STK', conId=257344938, symbol='572', primaryExchange='SEHK', currency='HKD'),\n",
       " Contract(secType='STK', conId=56986733, symbol='FEL', primaryExchange='NSE', currency='INR')]"
      ]
     },
     "execution_count": 22,
     "metadata": {},
     "output_type": "execute_result"
    }
   ],
   "source": [
    "matches = ib.reqMatchingSymbols(Future('ES', '20180921', 'GLOBEX'))\n",
    "matchContracts = [m.contract for m in matches]\n",
    "\n",
    "matchContracts"
   ]
  },
  {
   "cell_type": "code",
   "execution_count": 23,
   "metadata": {},
   "outputs": [
    {
     "data": {
      "text/plain": [
       "datetime.datetime(2017, 7, 12, 22, 0)"
      ]
     },
     "execution_count": 23,
     "metadata": {},
     "output_type": "execute_result"
    }
   ],
   "source": [
    "contract = Future('ES', '20180921', 'GLOBEX')\n",
    "ib.reqHeadTimeStamp(contract, whatToShow='TRADES', useRTH=True)"
   ]
  },
  {
   "cell_type": "code",
   "execution_count": 29,
   "metadata": {},
   "outputs": [
    {
     "name": "stdout",
     "output_type": "stream",
     "text": [
      "Help on class Future in module ib_insync.contract:\n",
      "\n",
      "class Future(Contract)\n",
      " |  ``Contract(**kwargs)`` can create any contract using keyword\n",
      " |  arguments. To simplify working with contracts, there are also more\n",
      " |  specialized contracts that take optional positional arguments.\n",
      " |  Some examples::\n",
      " |  \n",
      " |      Contract(conId=270639)\n",
      " |      Stock('AMD', 'SMART', 'USD')\n",
      " |      Stock('INTC', 'SMART', 'USD', primaryExchange='NASDAQ')\n",
      " |      Forex('EURUSD')\n",
      " |      CFD('IBUS30')\n",
      " |      Future('ES', '20180921', 'GLOBEX')\n",
      " |      Option('SPY', '20170721', 240, 'C', 'SMART')\n",
      " |      Bond(secIdType='ISIN', secId='US03076KAA60')\n",
      " |  \n",
      " |  Method resolution order:\n",
      " |      Future\n",
      " |      Contract\n",
      " |      ib_insync.objects.Object\n",
      " |      builtins.object\n",
      " |  \n",
      " |  Methods defined here:\n",
      " |  \n",
      " |  __init__(self, symbol='', lastTradeDateOrContractMonth='', exchange='', localSymbol='', multiplier='', currency='', **kwargs)\n",
      " |      Attribute values can be given positionally or as keyword.\n",
      " |      If an attribute is not given it will take its value from the\n",
      " |      'defaults' class member. If an attribute is given both positionally\n",
      " |      and as keyword, the keyword wins.\n",
      " |  \n",
      " |  ----------------------------------------------------------------------\n",
      " |  Methods inherited from Contract:\n",
      " |  \n",
      " |  __eq__(self, other)\n",
      " |      Return self==value.\n",
      " |  \n",
      " |  __hash__(self)\n",
      " |      Return hash(self).\n",
      " |  \n",
      " |  __repr__(self)\n",
      " |      Return repr(self).\n",
      " |  \n",
      " |  __str__ = __repr__(self)\n",
      " |      Return repr(self).\n",
      " |  \n",
      " |  ----------------------------------------------------------------------\n",
      " |  Static methods inherited from Contract:\n",
      " |  \n",
      " |  create(**kwargs)\n",
      " |      Create and a return a specialized contract based on the given secType,\n",
      " |      or a general Contract if secType is not given.\n",
      " |  \n",
      " |  ----------------------------------------------------------------------\n",
      " |  Data descriptors inherited from Contract:\n",
      " |  \n",
      " |  comboLegs\n",
      " |  \n",
      " |  comboLegsCount\n",
      " |  \n",
      " |  comboLegsDescrip\n",
      " |  \n",
      " |  conId\n",
      " |  \n",
      " |  currency\n",
      " |  \n",
      " |  exchange\n",
      " |  \n",
      " |  includeExpired\n",
      " |  \n",
      " |  lastTradeDateOrContractMonth\n",
      " |  \n",
      " |  localSymbol\n",
      " |  \n",
      " |  multiplier\n",
      " |  \n",
      " |  primaryExchange\n",
      " |  \n",
      " |  right\n",
      " |  \n",
      " |  secId\n",
      " |  \n",
      " |  secIdListCount\n",
      " |  \n",
      " |  secIdType\n",
      " |  \n",
      " |  secType\n",
      " |  \n",
      " |  strike\n",
      " |  \n",
      " |  symbol\n",
      " |  \n",
      " |  tradingClass\n",
      " |  \n",
      " |  underComp\n",
      " |  \n",
      " |  underCompPresent\n",
      " |  \n",
      " |  ----------------------------------------------------------------------\n",
      " |  Data and other attributes inherited from Contract:\n",
      " |  \n",
      " |  defaults = {'comboLegs': None, 'comboLegsDescrip': '', 'conId': 0, 'cu...\n",
      " |  \n",
      " |  ----------------------------------------------------------------------\n",
      " |  Methods inherited from ib_insync.objects.Object:\n",
      " |  \n",
      " |  dict(self)\n",
      " |      Return key-value pairs as a dictionary.\n",
      " |  \n",
      " |  diff(self, other)\n",
      " |      Return differences between self and other as dictionary of 2-tuples.\n",
      " |  \n",
      " |  nonDefaults(self)\n",
      " |      Get a dictionary of all attributes that differ from the default.\n",
      " |  \n",
      " |  tuple(self)\n",
      " |      Return values as a tuple.\n",
      " |  \n",
      " |  update(self, **kwargs)\n",
      " |      Update key values.\n",
      "\n"
     ]
    }
   ],
   "source": [
    "help(Future)"
   ]
  },
  {
   "cell_type": "code",
   "execution_count": 30,
   "metadata": {},
   "outputs": [],
   "source": [
    "contract2 = Future('ES',includeExpired=True)\n",
    "dtls = ib.reqContractDetails(contract2)\n",
    "\n"
   ]
  },
  {
   "cell_type": "code",
   "execution_count": 31,
   "metadata": {},
   "outputs": [
    {
     "data": {
      "text/plain": [
       "247"
      ]
     },
     "execution_count": 31,
     "metadata": {},
     "output_type": "execute_result"
    }
   ],
   "source": [
    "len(dtls)"
   ]
  },
  {
   "cell_type": "code",
   "execution_count": 32,
   "metadata": {},
   "outputs": [
    {
     "data": {
      "text/plain": [
       "Contract(secType='FUT', conId=258973438, symbol='ES', lastTradeDateOrContractMonth='20180316 08:30 CST', multiplier='50', exchange='GLOBEX', currency='USD', localSymbol='ESH8', tradingClass='ES')"
      ]
     },
     "execution_count": 32,
     "metadata": {},
     "output_type": "execute_result"
    }
   ],
   "source": [
    "contracts = [cd.summary for cd in dtls]\n",
    "contracts[0]"
   ]
  },
  {
   "cell_type": "code",
   "execution_count": 35,
   "metadata": {},
   "outputs": [
    {
     "data": {
      "text/html": [
       "<div>\n",
       "<table border=\"1\" class=\"dataframe\">\n",
       "  <thead>\n",
       "    <tr style=\"text-align: right;\">\n",
       "      <th></th>\n",
       "      <th>secType</th>\n",
       "      <th>conId</th>\n",
       "      <th>symbol</th>\n",
       "      <th>lastTradeDateOrContractMonth</th>\n",
       "      <th>strike</th>\n",
       "      <th>right</th>\n",
       "      <th>multiplier</th>\n",
       "      <th>exchange</th>\n",
       "      <th>primaryExchange</th>\n",
       "      <th>currency</th>\n",
       "      <th>localSymbol</th>\n",
       "      <th>tradingClass</th>\n",
       "      <th>includeExpired</th>\n",
       "      <th>secIdType</th>\n",
       "      <th>secId</th>\n",
       "      <th>comboLegsDescrip</th>\n",
       "      <th>comboLegs</th>\n",
       "      <th>underComp</th>\n",
       "    </tr>\n",
       "  </thead>\n",
       "  <tbody>\n",
       "    <tr>\n",
       "      <th>0</th>\n",
       "      <td>FUT</td>\n",
       "      <td>258973438</td>\n",
       "      <td>ES</td>\n",
       "      <td>20180316 08:30 CST</td>\n",
       "      <td>0.0</td>\n",
       "      <td></td>\n",
       "      <td>50</td>\n",
       "      <td>GLOBEX</td>\n",
       "      <td></td>\n",
       "      <td>USD</td>\n",
       "      <td>ESH8</td>\n",
       "      <td>ES</td>\n",
       "      <td>False</td>\n",
       "      <td></td>\n",
       "      <td></td>\n",
       "      <td></td>\n",
       "      <td>None</td>\n",
       "      <td>None</td>\n",
       "    </tr>\n",
       "    <tr>\n",
       "      <th>1</th>\n",
       "      <td>FUT</td>\n",
       "      <td>269745169</td>\n",
       "      <td>ES</td>\n",
       "      <td>20180615 08:30 CST</td>\n",
       "      <td>0.0</td>\n",
       "      <td></td>\n",
       "      <td>50</td>\n",
       "      <td>GLOBEX</td>\n",
       "      <td></td>\n",
       "      <td>USD</td>\n",
       "      <td>ESM8</td>\n",
       "      <td>ES</td>\n",
       "      <td>False</td>\n",
       "      <td></td>\n",
       "      <td></td>\n",
       "      <td></td>\n",
       "      <td>None</td>\n",
       "      <td>None</td>\n",
       "    </tr>\n",
       "    <tr>\n",
       "      <th>2</th>\n",
       "      <td>FUT</td>\n",
       "      <td>279396694</td>\n",
       "      <td>ES</td>\n",
       "      <td>20180921 08:30 CST</td>\n",
       "      <td>0.0</td>\n",
       "      <td></td>\n",
       "      <td>50</td>\n",
       "      <td>GLOBEX</td>\n",
       "      <td></td>\n",
       "      <td>USD</td>\n",
       "      <td>ESU8</td>\n",
       "      <td>ES</td>\n",
       "      <td>False</td>\n",
       "      <td></td>\n",
       "      <td></td>\n",
       "      <td></td>\n",
       "      <td>None</td>\n",
       "      <td>None</td>\n",
       "    </tr>\n",
       "    <tr>\n",
       "      <th>4</th>\n",
       "      <td>FUT</td>\n",
       "      <td>289128563</td>\n",
       "      <td>ES</td>\n",
       "      <td>20181221 08:30 CST</td>\n",
       "      <td>0.0</td>\n",
       "      <td></td>\n",
       "      <td>50</td>\n",
       "      <td>GLOBEX</td>\n",
       "      <td></td>\n",
       "      <td>USD</td>\n",
       "      <td>ESZ8</td>\n",
       "      <td>ES</td>\n",
       "      <td>False</td>\n",
       "      <td></td>\n",
       "      <td></td>\n",
       "      <td></td>\n",
       "      <td>None</td>\n",
       "      <td>None</td>\n",
       "    </tr>\n",
       "    <tr>\n",
       "      <th>6</th>\n",
       "      <td>FUT</td>\n",
       "      <td>299552802</td>\n",
       "      <td>ES</td>\n",
       "      <td>20190315 08:30 CST</td>\n",
       "      <td>0.0</td>\n",
       "      <td></td>\n",
       "      <td>50</td>\n",
       "      <td>GLOBEX</td>\n",
       "      <td></td>\n",
       "      <td>USD</td>\n",
       "      <td>ESH9</td>\n",
       "      <td>ES</td>\n",
       "      <td>False</td>\n",
       "      <td></td>\n",
       "      <td></td>\n",
       "      <td></td>\n",
       "      <td>None</td>\n",
       "      <td>None</td>\n",
       "    </tr>\n",
       "    <tr>\n",
       "      <th>19</th>\n",
       "      <td>FUT</td>\n",
       "      <td>177525433</td>\n",
       "      <td>ES</td>\n",
       "      <td>20160318</td>\n",
       "      <td>0.0</td>\n",
       "      <td></td>\n",
       "      <td>50</td>\n",
       "      <td>GLOBEX</td>\n",
       "      <td></td>\n",
       "      <td>USD</td>\n",
       "      <td>ESH6</td>\n",
       "      <td>ES</td>\n",
       "      <td>False</td>\n",
       "      <td></td>\n",
       "      <td></td>\n",
       "      <td></td>\n",
       "      <td>None</td>\n",
       "      <td>None</td>\n",
       "    </tr>\n",
       "    <tr>\n",
       "      <th>20</th>\n",
       "      <td>FUT</td>\n",
       "      <td>187532577</td>\n",
       "      <td>ES</td>\n",
       "      <td>20160617</td>\n",
       "      <td>0.0</td>\n",
       "      <td></td>\n",
       "      <td>50</td>\n",
       "      <td>GLOBEX</td>\n",
       "      <td></td>\n",
       "      <td>USD</td>\n",
       "      <td>ESM6</td>\n",
       "      <td>ES</td>\n",
       "      <td>False</td>\n",
       "      <td></td>\n",
       "      <td></td>\n",
       "      <td></td>\n",
       "      <td>None</td>\n",
       "      <td>None</td>\n",
       "    </tr>\n",
       "    <tr>\n",
       "      <th>21</th>\n",
       "      <td>FUT</td>\n",
       "      <td>197307551</td>\n",
       "      <td>ES</td>\n",
       "      <td>20160916</td>\n",
       "      <td>0.0</td>\n",
       "      <td></td>\n",
       "      <td>50</td>\n",
       "      <td>GLOBEX</td>\n",
       "      <td></td>\n",
       "      <td>USD</td>\n",
       "      <td>ESU6</td>\n",
       "      <td>ES</td>\n",
       "      <td>False</td>\n",
       "      <td></td>\n",
       "      <td></td>\n",
       "      <td></td>\n",
       "      <td>None</td>\n",
       "      <td>None</td>\n",
       "    </tr>\n",
       "    <tr>\n",
       "      <th>23</th>\n",
       "      <td>FUT</td>\n",
       "      <td>206848474</td>\n",
       "      <td>ES</td>\n",
       "      <td>20161216</td>\n",
       "      <td>0.0</td>\n",
       "      <td></td>\n",
       "      <td>50</td>\n",
       "      <td>GLOBEX</td>\n",
       "      <td></td>\n",
       "      <td>USD</td>\n",
       "      <td>ESZ6</td>\n",
       "      <td>ES</td>\n",
       "      <td>False</td>\n",
       "      <td></td>\n",
       "      <td></td>\n",
       "      <td></td>\n",
       "      <td>None</td>\n",
       "      <td>None</td>\n",
       "    </tr>\n",
       "    <tr>\n",
       "      <th>25</th>\n",
       "      <td>FUT</td>\n",
       "      <td>215465490</td>\n",
       "      <td>ES</td>\n",
       "      <td>20170317</td>\n",
       "      <td>0.0</td>\n",
       "      <td></td>\n",
       "      <td>50</td>\n",
       "      <td>GLOBEX</td>\n",
       "      <td></td>\n",
       "      <td>USD</td>\n",
       "      <td>ESH7</td>\n",
       "      <td>ES</td>\n",
       "      <td>False</td>\n",
       "      <td></td>\n",
       "      <td></td>\n",
       "      <td></td>\n",
       "      <td>None</td>\n",
       "      <td>None</td>\n",
       "    </tr>\n",
       "    <tr>\n",
       "      <th>28</th>\n",
       "      <td>FUT</td>\n",
       "      <td>225652200</td>\n",
       "      <td>ES</td>\n",
       "      <td>20170616</td>\n",
       "      <td>0.0</td>\n",
       "      <td></td>\n",
       "      <td>50</td>\n",
       "      <td>GLOBEX</td>\n",
       "      <td></td>\n",
       "      <td>USD</td>\n",
       "      <td>ESM7</td>\n",
       "      <td>ES</td>\n",
       "      <td>False</td>\n",
       "      <td></td>\n",
       "      <td></td>\n",
       "      <td></td>\n",
       "      <td>None</td>\n",
       "      <td>None</td>\n",
       "    </tr>\n",
       "    <tr>\n",
       "      <th>32</th>\n",
       "      <td>FUT</td>\n",
       "      <td>236950077</td>\n",
       "      <td>ES</td>\n",
       "      <td>20170915</td>\n",
       "      <td>0.0</td>\n",
       "      <td></td>\n",
       "      <td>50</td>\n",
       "      <td>GLOBEX</td>\n",
       "      <td></td>\n",
       "      <td>USD</td>\n",
       "      <td>ESU7</td>\n",
       "      <td>ES</td>\n",
       "      <td>False</td>\n",
       "      <td></td>\n",
       "      <td></td>\n",
       "      <td></td>\n",
       "      <td>None</td>\n",
       "      <td>None</td>\n",
       "    </tr>\n",
       "    <tr>\n",
       "      <th>36</th>\n",
       "      <td>FUT</td>\n",
       "      <td>247950613</td>\n",
       "      <td>ES</td>\n",
       "      <td>20171215</td>\n",
       "      <td>0.0</td>\n",
       "      <td></td>\n",
       "      <td>50</td>\n",
       "      <td>GLOBEX</td>\n",
       "      <td></td>\n",
       "      <td>USD</td>\n",
       "      <td>ESZ7</td>\n",
       "      <td>ES</td>\n",
       "      <td>False</td>\n",
       "      <td></td>\n",
       "      <td></td>\n",
       "      <td></td>\n",
       "      <td>None</td>\n",
       "      <td>None</td>\n",
       "    </tr>\n",
       "  </tbody>\n",
       "</table>\n",
       "</div>"
      ],
      "text/plain": [
       "   secType      conId symbol lastTradeDateOrContractMonth  strike right  \\\n",
       "0      FUT  258973438     ES           20180316 08:30 CST     0.0         \n",
       "1      FUT  269745169     ES           20180615 08:30 CST     0.0         \n",
       "2      FUT  279396694     ES           20180921 08:30 CST     0.0         \n",
       "4      FUT  289128563     ES           20181221 08:30 CST     0.0         \n",
       "6      FUT  299552802     ES           20190315 08:30 CST     0.0         \n",
       "19     FUT  177525433     ES                     20160318     0.0         \n",
       "20     FUT  187532577     ES                     20160617     0.0         \n",
       "21     FUT  197307551     ES                     20160916     0.0         \n",
       "23     FUT  206848474     ES                     20161216     0.0         \n",
       "25     FUT  215465490     ES                     20170317     0.0         \n",
       "28     FUT  225652200     ES                     20170616     0.0         \n",
       "32     FUT  236950077     ES                     20170915     0.0         \n",
       "36     FUT  247950613     ES                     20171215     0.0         \n",
       "\n",
       "   multiplier exchange primaryExchange currency localSymbol tradingClass  \\\n",
       "0          50   GLOBEX                      USD        ESH8           ES   \n",
       "1          50   GLOBEX                      USD        ESM8           ES   \n",
       "2          50   GLOBEX                      USD        ESU8           ES   \n",
       "4          50   GLOBEX                      USD        ESZ8           ES   \n",
       "6          50   GLOBEX                      USD        ESH9           ES   \n",
       "19         50   GLOBEX                      USD        ESH6           ES   \n",
       "20         50   GLOBEX                      USD        ESM6           ES   \n",
       "21         50   GLOBEX                      USD        ESU6           ES   \n",
       "23         50   GLOBEX                      USD        ESZ6           ES   \n",
       "25         50   GLOBEX                      USD        ESH7           ES   \n",
       "28         50   GLOBEX                      USD        ESM7           ES   \n",
       "32         50   GLOBEX                      USD        ESU7           ES   \n",
       "36         50   GLOBEX                      USD        ESZ7           ES   \n",
       "\n",
       "   includeExpired secIdType secId comboLegsDescrip comboLegs underComp  \n",
       "0           False                                       None      None  \n",
       "1           False                                       None      None  \n",
       "2           False                                       None      None  \n",
       "4           False                                       None      None  \n",
       "6           False                                       None      None  \n",
       "19          False                                       None      None  \n",
       "20          False                                       None      None  \n",
       "21          False                                       None      None  \n",
       "23          False                                       None      None  \n",
       "25          False                                       None      None  \n",
       "28          False                                       None      None  \n",
       "32          False                                       None      None  \n",
       "36          False                                       None      None  "
      ]
     },
     "execution_count": 35,
     "metadata": {},
     "output_type": "execute_result"
    },
    {
     "data": {
      "text/plain": [
       "4446"
      ]
     },
     "execution_count": 35,
     "metadata": {},
     "output_type": "execute_result"
    }
   ],
   "source": [
    "dfes = util.df(contracts)\n",
    "dfes[dfes.exchange == 'GLOBEX']\n"
   ]
  },
  {
   "cell_type": "code",
   "execution_count": 38,
   "metadata": {},
   "outputs": [
    {
     "data": {
      "text/html": [
       "<div>\n",
       "<table border=\"1\" class=\"dataframe\">\n",
       "  <thead>\n",
       "    <tr style=\"text-align: right;\">\n",
       "      <th></th>\n",
       "      <th>secType</th>\n",
       "      <th>conId</th>\n",
       "      <th>symbol</th>\n",
       "      <th>lastTradeDateOrContractMonth</th>\n",
       "      <th>strike</th>\n",
       "      <th>right</th>\n",
       "      <th>multiplier</th>\n",
       "      <th>exchange</th>\n",
       "      <th>primaryExchange</th>\n",
       "      <th>currency</th>\n",
       "      <th>localSymbol</th>\n",
       "      <th>tradingClass</th>\n",
       "      <th>includeExpired</th>\n",
       "      <th>secIdType</th>\n",
       "      <th>secId</th>\n",
       "      <th>comboLegsDescrip</th>\n",
       "      <th>comboLegs</th>\n",
       "      <th>underComp</th>\n",
       "    </tr>\n",
       "  </thead>\n",
       "  <tbody>\n",
       "    <tr>\n",
       "      <th>0</th>\n",
       "      <td>FUT</td>\n",
       "      <td>258973438</td>\n",
       "      <td>ES</td>\n",
       "      <td>20180316 08:30 CST</td>\n",
       "      <td>0.0</td>\n",
       "      <td></td>\n",
       "      <td>50</td>\n",
       "      <td>GLOBEX</td>\n",
       "      <td></td>\n",
       "      <td>USD</td>\n",
       "      <td>ESH8</td>\n",
       "      <td>ES</td>\n",
       "      <td>False</td>\n",
       "      <td></td>\n",
       "      <td></td>\n",
       "      <td></td>\n",
       "      <td>None</td>\n",
       "      <td>None</td>\n",
       "    </tr>\n",
       "    <tr>\n",
       "      <th>1</th>\n",
       "      <td>FUT</td>\n",
       "      <td>269745169</td>\n",
       "      <td>ES</td>\n",
       "      <td>20180615 08:30 CST</td>\n",
       "      <td>0.0</td>\n",
       "      <td></td>\n",
       "      <td>50</td>\n",
       "      <td>GLOBEX</td>\n",
       "      <td></td>\n",
       "      <td>USD</td>\n",
       "      <td>ESM8</td>\n",
       "      <td>ES</td>\n",
       "      <td>False</td>\n",
       "      <td></td>\n",
       "      <td></td>\n",
       "      <td></td>\n",
       "      <td>None</td>\n",
       "      <td>None</td>\n",
       "    </tr>\n",
       "    <tr>\n",
       "      <th>2</th>\n",
       "      <td>FUT</td>\n",
       "      <td>279396694</td>\n",
       "      <td>ES</td>\n",
       "      <td>20180921 08:30 CST</td>\n",
       "      <td>0.0</td>\n",
       "      <td></td>\n",
       "      <td>50</td>\n",
       "      <td>GLOBEX</td>\n",
       "      <td></td>\n",
       "      <td>USD</td>\n",
       "      <td>ESU8</td>\n",
       "      <td>ES</td>\n",
       "      <td>False</td>\n",
       "      <td></td>\n",
       "      <td></td>\n",
       "      <td></td>\n",
       "      <td>None</td>\n",
       "      <td>None</td>\n",
       "    </tr>\n",
       "    <tr>\n",
       "      <th>4</th>\n",
       "      <td>FUT</td>\n",
       "      <td>289128563</td>\n",
       "      <td>ES</td>\n",
       "      <td>20181221 08:30 CST</td>\n",
       "      <td>0.0</td>\n",
       "      <td></td>\n",
       "      <td>50</td>\n",
       "      <td>GLOBEX</td>\n",
       "      <td></td>\n",
       "      <td>USD</td>\n",
       "      <td>ESZ8</td>\n",
       "      <td>ES</td>\n",
       "      <td>False</td>\n",
       "      <td></td>\n",
       "      <td></td>\n",
       "      <td></td>\n",
       "      <td>None</td>\n",
       "      <td>None</td>\n",
       "    </tr>\n",
       "    <tr>\n",
       "      <th>6</th>\n",
       "      <td>FUT</td>\n",
       "      <td>299552802</td>\n",
       "      <td>ES</td>\n",
       "      <td>20190315 08:30 CST</td>\n",
       "      <td>0.0</td>\n",
       "      <td></td>\n",
       "      <td>50</td>\n",
       "      <td>GLOBEX</td>\n",
       "      <td></td>\n",
       "      <td>USD</td>\n",
       "      <td>ESH9</td>\n",
       "      <td>ES</td>\n",
       "      <td>False</td>\n",
       "      <td></td>\n",
       "      <td></td>\n",
       "      <td></td>\n",
       "      <td>None</td>\n",
       "      <td>None</td>\n",
       "    </tr>\n",
       "    <tr>\n",
       "      <th>19</th>\n",
       "      <td>FUT</td>\n",
       "      <td>177525433</td>\n",
       "      <td>ES</td>\n",
       "      <td>20160318</td>\n",
       "      <td>0.0</td>\n",
       "      <td></td>\n",
       "      <td>50</td>\n",
       "      <td>GLOBEX</td>\n",
       "      <td></td>\n",
       "      <td>USD</td>\n",
       "      <td>ESH6</td>\n",
       "      <td>ES</td>\n",
       "      <td>False</td>\n",
       "      <td></td>\n",
       "      <td></td>\n",
       "      <td></td>\n",
       "      <td>None</td>\n",
       "      <td>None</td>\n",
       "    </tr>\n",
       "    <tr>\n",
       "      <th>20</th>\n",
       "      <td>FUT</td>\n",
       "      <td>187532577</td>\n",
       "      <td>ES</td>\n",
       "      <td>20160617</td>\n",
       "      <td>0.0</td>\n",
       "      <td></td>\n",
       "      <td>50</td>\n",
       "      <td>GLOBEX</td>\n",
       "      <td></td>\n",
       "      <td>USD</td>\n",
       "      <td>ESM6</td>\n",
       "      <td>ES</td>\n",
       "      <td>False</td>\n",
       "      <td></td>\n",
       "      <td></td>\n",
       "      <td></td>\n",
       "      <td>None</td>\n",
       "      <td>None</td>\n",
       "    </tr>\n",
       "    <tr>\n",
       "      <th>21</th>\n",
       "      <td>FUT</td>\n",
       "      <td>197307551</td>\n",
       "      <td>ES</td>\n",
       "      <td>20160916</td>\n",
       "      <td>0.0</td>\n",
       "      <td></td>\n",
       "      <td>50</td>\n",
       "      <td>GLOBEX</td>\n",
       "      <td></td>\n",
       "      <td>USD</td>\n",
       "      <td>ESU6</td>\n",
       "      <td>ES</td>\n",
       "      <td>False</td>\n",
       "      <td></td>\n",
       "      <td></td>\n",
       "      <td></td>\n",
       "      <td>None</td>\n",
       "      <td>None</td>\n",
       "    </tr>\n",
       "    <tr>\n",
       "      <th>23</th>\n",
       "      <td>FUT</td>\n",
       "      <td>206848474</td>\n",
       "      <td>ES</td>\n",
       "      <td>20161216</td>\n",
       "      <td>0.0</td>\n",
       "      <td></td>\n",
       "      <td>50</td>\n",
       "      <td>GLOBEX</td>\n",
       "      <td></td>\n",
       "      <td>USD</td>\n",
       "      <td>ESZ6</td>\n",
       "      <td>ES</td>\n",
       "      <td>False</td>\n",
       "      <td></td>\n",
       "      <td></td>\n",
       "      <td></td>\n",
       "      <td>None</td>\n",
       "      <td>None</td>\n",
       "    </tr>\n",
       "    <tr>\n",
       "      <th>25</th>\n",
       "      <td>FUT</td>\n",
       "      <td>215465490</td>\n",
       "      <td>ES</td>\n",
       "      <td>20170317</td>\n",
       "      <td>0.0</td>\n",
       "      <td></td>\n",
       "      <td>50</td>\n",
       "      <td>GLOBEX</td>\n",
       "      <td></td>\n",
       "      <td>USD</td>\n",
       "      <td>ESH7</td>\n",
       "      <td>ES</td>\n",
       "      <td>False</td>\n",
       "      <td></td>\n",
       "      <td></td>\n",
       "      <td></td>\n",
       "      <td>None</td>\n",
       "      <td>None</td>\n",
       "    </tr>\n",
       "    <tr>\n",
       "      <th>28</th>\n",
       "      <td>FUT</td>\n",
       "      <td>225652200</td>\n",
       "      <td>ES</td>\n",
       "      <td>20170616</td>\n",
       "      <td>0.0</td>\n",
       "      <td></td>\n",
       "      <td>50</td>\n",
       "      <td>GLOBEX</td>\n",
       "      <td></td>\n",
       "      <td>USD</td>\n",
       "      <td>ESM7</td>\n",
       "      <td>ES</td>\n",
       "      <td>False</td>\n",
       "      <td></td>\n",
       "      <td></td>\n",
       "      <td></td>\n",
       "      <td>None</td>\n",
       "      <td>None</td>\n",
       "    </tr>\n",
       "    <tr>\n",
       "      <th>32</th>\n",
       "      <td>FUT</td>\n",
       "      <td>236950077</td>\n",
       "      <td>ES</td>\n",
       "      <td>20170915</td>\n",
       "      <td>0.0</td>\n",
       "      <td></td>\n",
       "      <td>50</td>\n",
       "      <td>GLOBEX</td>\n",
       "      <td></td>\n",
       "      <td>USD</td>\n",
       "      <td>ESU7</td>\n",
       "      <td>ES</td>\n",
       "      <td>False</td>\n",
       "      <td></td>\n",
       "      <td></td>\n",
       "      <td></td>\n",
       "      <td>None</td>\n",
       "      <td>None</td>\n",
       "    </tr>\n",
       "    <tr>\n",
       "      <th>36</th>\n",
       "      <td>FUT</td>\n",
       "      <td>247950613</td>\n",
       "      <td>ES</td>\n",
       "      <td>20171215</td>\n",
       "      <td>0.0</td>\n",
       "      <td></td>\n",
       "      <td>50</td>\n",
       "      <td>GLOBEX</td>\n",
       "      <td></td>\n",
       "      <td>USD</td>\n",
       "      <td>ESZ7</td>\n",
       "      <td>ES</td>\n",
       "      <td>False</td>\n",
       "      <td></td>\n",
       "      <td></td>\n",
       "      <td></td>\n",
       "      <td>None</td>\n",
       "      <td>None</td>\n",
       "    </tr>\n",
       "  </tbody>\n",
       "</table>\n",
       "</div>"
      ],
      "text/plain": [
       "   secType      conId symbol lastTradeDateOrContractMonth  strike right  \\\n",
       "0      FUT  258973438     ES           20180316 08:30 CST     0.0         \n",
       "1      FUT  269745169     ES           20180615 08:30 CST     0.0         \n",
       "2      FUT  279396694     ES           20180921 08:30 CST     0.0         \n",
       "4      FUT  289128563     ES           20181221 08:30 CST     0.0         \n",
       "6      FUT  299552802     ES           20190315 08:30 CST     0.0         \n",
       "19     FUT  177525433     ES                     20160318     0.0         \n",
       "20     FUT  187532577     ES                     20160617     0.0         \n",
       "21     FUT  197307551     ES                     20160916     0.0         \n",
       "23     FUT  206848474     ES                     20161216     0.0         \n",
       "25     FUT  215465490     ES                     20170317     0.0         \n",
       "28     FUT  225652200     ES                     20170616     0.0         \n",
       "32     FUT  236950077     ES                     20170915     0.0         \n",
       "36     FUT  247950613     ES                     20171215     0.0         \n",
       "\n",
       "   multiplier exchange primaryExchange currency localSymbol tradingClass  \\\n",
       "0          50   GLOBEX                      USD        ESH8           ES   \n",
       "1          50   GLOBEX                      USD        ESM8           ES   \n",
       "2          50   GLOBEX                      USD        ESU8           ES   \n",
       "4          50   GLOBEX                      USD        ESZ8           ES   \n",
       "6          50   GLOBEX                      USD        ESH9           ES   \n",
       "19         50   GLOBEX                      USD        ESH6           ES   \n",
       "20         50   GLOBEX                      USD        ESM6           ES   \n",
       "21         50   GLOBEX                      USD        ESU6           ES   \n",
       "23         50   GLOBEX                      USD        ESZ6           ES   \n",
       "25         50   GLOBEX                      USD        ESH7           ES   \n",
       "28         50   GLOBEX                      USD        ESM7           ES   \n",
       "32         50   GLOBEX                      USD        ESU7           ES   \n",
       "36         50   GLOBEX                      USD        ESZ7           ES   \n",
       "\n",
       "   includeExpired secIdType secId comboLegsDescrip comboLegs underComp  \n",
       "0           False                                       None      None  \n",
       "1           False                                       None      None  \n",
       "2           False                                       None      None  \n",
       "4           False                                       None      None  \n",
       "6           False                                       None      None  \n",
       "19          False                                       None      None  \n",
       "20          False                                       None      None  \n",
       "21          False                                       None      None  \n",
       "23          False                                       None      None  \n",
       "25          False                                       None      None  \n",
       "28          False                                       None      None  \n",
       "32          False                                       None      None  \n",
       "36          False                                       None      None  "
      ]
     },
     "execution_count": 38,
     "metadata": {},
     "output_type": "execute_result"
    }
   ],
   "source": [
    "dfgl"
   ]
  },
  {
   "cell_type": "code",
   "execution_count": 36,
   "metadata": {},
   "outputs": [
    {
     "data": {
      "text/plain": [
       "247"
      ]
     },
     "execution_count": 36,
     "metadata": {},
     "output_type": "execute_result"
    }
   ],
   "source": [
    "len(dfes)"
   ]
  },
  {
   "cell_type": "code",
   "execution_count": 37,
   "metadata": {},
   "outputs": [
    {
     "data": {
      "text/plain": [
       "13"
      ]
     },
     "execution_count": 37,
     "metadata": {},
     "output_type": "execute_result"
    }
   ],
   "source": [
    "dfgl = dfes[dfes.exchange == 'GLOBEX']\n",
    "len(dfgl)"
   ]
  },
  {
   "cell_type": "code",
   "execution_count": 43,
   "metadata": {},
   "outputs": [
    {
     "name": "stderr",
     "output_type": "stream",
     "text": [
      "ERROR:ib_insync.wrapper:Error 200, reqId 26: No security definition has been found for the request, contract: Future(symbol='ES', lastTradeDateOrContractMonth='GLOBEX', localSymbol='ESU7')\n"
     ]
    },
    {
     "data": {
      "text/plain": [
       "[]"
      ]
     },
     "execution_count": 43,
     "metadata": {},
     "output_type": "execute_result"
    }
   ],
   "source": [
    "#contract = Future('ES', '20190315', 'GLOBEX')\n",
    "contract = Future('ES',  'GLOBEX', localSymbol='ESU7')\n",
    "dtl = ib.reqContractDetails(contract)\n",
    "dtl"
   ]
  },
  {
   "cell_type": "code",
   "execution_count": 44,
   "metadata": {},
   "outputs": [],
   "source": [
    "contract_247950613 = Contract(conId=247950613)\n"
   ]
  },
  {
   "cell_type": "code",
   "execution_count": 45,
   "metadata": {},
   "outputs": [
    {
     "data": {
      "text/plain": [
       "[Contract(secType='FUT', conId=247950613, symbol='ES', lastTradeDateOrContractMonth='20171215', multiplier='50', exchange='GLOBEX', currency='USD', localSymbol='ESZ7', tradingClass='ES')]"
      ]
     },
     "execution_count": 45,
     "metadata": {},
     "output_type": "execute_result"
    }
   ],
   "source": [
    "ib.qualifyContracts(contract_247950613) "
   ]
  },
  {
   "cell_type": "code",
   "execution_count": 46,
   "metadata": {},
   "outputs": [
    {
     "data": {
      "text/plain": [
       "[ContractDetails(summary=Contract(secType='FUT', conId=247950613, symbol='ES', lastTradeDateOrContractMonth='20171215', multiplier='50', exchange='GLOBEX', currency='USD', localSymbol='ESZ7', tradingClass='ES'), marketName='ES', minTick=0.25, orderTypes='LTH', validExchanges='GLOBEX', priceMagnifier=1, underConId=11004968, longName='E-mini S&P 500', contractMonth='201712', mdSizeMultiplier=1, aggGroup=2147483647, underSymbol='ES', underSecType='IND', marketRuleIds='67', realExpirationDate='20171215')]"
      ]
     },
     "execution_count": 46,
     "metadata": {},
     "output_type": "execute_result"
    }
   ],
   "source": [
    "dtl = ib.reqContractDetails(contract_247950613)\n",
    "dtl"
   ]
  },
  {
   "cell_type": "code",
   "execution_count": 53,
   "metadata": {},
   "outputs": [],
   "source": [
    "endDate = ib.reqHeadTimeStamp(contract_247950613, whatToShow='TRADES', useRTH=True)"
   ]
  },
  {
   "cell_type": "code",
   "execution_count": 57,
   "metadata": {},
   "outputs": [
    {
     "data": {
      "text/plain": [
       "'20161018'"
      ]
     },
     "execution_count": 57,
     "metadata": {},
     "output_type": "execute_result"
    }
   ],
   "source": [
    "endDate.strftime(\"%Y%m%d\")"
   ]
  },
  {
   "cell_type": "code",
   "execution_count": 59,
   "metadata": {},
   "outputs": [],
   "source": [
    "bars = ib.reqHistoricalData(\n",
    "        contract_247950613,\n",
    "        '', \n",
    "        durationStr='60 D',\n",
    "        barSizeSetting='1 hour',\n",
    "        whatToShow='TRADES',\n",
    "        useRTH=True,\n",
    "        formatDate=1)"
   ]
  },
  {
   "cell_type": "code",
   "execution_count": 49,
   "metadata": {},
   "outputs": [
    {
     "data": {
      "text/plain": [
       "BarData(date=datetime.datetime(2017, 12, 5, 15, 30), open=2641.0, high=2641.75, low=2638.25, close=2639.0, volume=124602, barCount=17058, average=2640.075)"
      ]
     },
     "execution_count": 49,
     "metadata": {},
     "output_type": "execute_result"
    }
   ],
   "source": [
    "bars[0]"
   ]
  },
  {
   "cell_type": "code",
   "execution_count": 50,
   "metadata": {},
   "outputs": [
    {
     "data": {
      "text/html": [
       "<div>\n",
       "<table border=\"1\" class=\"dataframe\">\n",
       "  <thead>\n",
       "    <tr style=\"text-align: right;\">\n",
       "      <th></th>\n",
       "      <th>date</th>\n",
       "      <th>open</th>\n",
       "      <th>high</th>\n",
       "      <th>low</th>\n",
       "      <th>close</th>\n",
       "      <th>volume</th>\n",
       "      <th>barCount</th>\n",
       "      <th>average</th>\n",
       "    </tr>\n",
       "  </thead>\n",
       "  <tbody>\n",
       "    <tr>\n",
       "      <th>0</th>\n",
       "      <td>2017-12-05 15:30:00</td>\n",
       "      <td>2641.00</td>\n",
       "      <td>2641.75</td>\n",
       "      <td>2638.25</td>\n",
       "      <td>2639.00</td>\n",
       "      <td>124602</td>\n",
       "      <td>17058</td>\n",
       "      <td>2640.075</td>\n",
       "    </tr>\n",
       "    <tr>\n",
       "      <th>1</th>\n",
       "      <td>2017-12-05 16:00:00</td>\n",
       "      <td>2639.25</td>\n",
       "      <td>2646.50</td>\n",
       "      <td>2638.75</td>\n",
       "      <td>2645.50</td>\n",
       "      <td>189522</td>\n",
       "      <td>22382</td>\n",
       "      <td>2642.250</td>\n",
       "    </tr>\n",
       "    <tr>\n",
       "      <th>2</th>\n",
       "      <td>2017-12-05 17:00:00</td>\n",
       "      <td>2645.50</td>\n",
       "      <td>2648.75</td>\n",
       "      <td>2642.75</td>\n",
       "      <td>2643.50</td>\n",
       "      <td>119881</td>\n",
       "      <td>13958</td>\n",
       "      <td>2646.875</td>\n",
       "    </tr>\n",
       "    <tr>\n",
       "      <th>3</th>\n",
       "      <td>2017-12-05 18:00:00</td>\n",
       "      <td>2643.50</td>\n",
       "      <td>2643.75</td>\n",
       "      <td>2638.75</td>\n",
       "      <td>2639.75</td>\n",
       "      <td>93959</td>\n",
       "      <td>10854</td>\n",
       "      <td>2641.225</td>\n",
       "    </tr>\n",
       "    <tr>\n",
       "      <th>4</th>\n",
       "      <td>2017-12-05 19:00:00</td>\n",
       "      <td>2639.75</td>\n",
       "      <td>2642.50</td>\n",
       "      <td>2638.25</td>\n",
       "      <td>2640.75</td>\n",
       "      <td>65186</td>\n",
       "      <td>8056</td>\n",
       "      <td>2640.325</td>\n",
       "    </tr>\n",
       "  </tbody>\n",
       "</table>\n",
       "</div>"
      ],
      "text/plain": [
       "                 date     open     high      low    close  volume  barCount  \\\n",
       "0 2017-12-05 15:30:00  2641.00  2641.75  2638.25  2639.00  124602     17058   \n",
       "1 2017-12-05 16:00:00  2639.25  2646.50  2638.75  2645.50  189522     22382   \n",
       "2 2017-12-05 17:00:00  2645.50  2648.75  2642.75  2643.50  119881     13958   \n",
       "3 2017-12-05 18:00:00  2643.50  2643.75  2638.75  2639.75   93959     10854   \n",
       "4 2017-12-05 19:00:00  2639.75  2642.50  2638.25  2640.75   65186      8056   \n",
       "\n",
       "    average  \n",
       "0  2640.075  \n",
       "1  2642.250  \n",
       "2  2646.875  \n",
       "3  2641.225  \n",
       "4  2640.325  "
      ]
     },
     "metadata": {},
     "output_type": "display_data"
    },
    {
     "data": {
      "text/html": [
       "<div>\n",
       "<table border=\"1\" class=\"dataframe\">\n",
       "  <thead>\n",
       "    <tr style=\"text-align: right;\">\n",
       "      <th></th>\n",
       "      <th>date</th>\n",
       "      <th>open</th>\n",
       "      <th>high</th>\n",
       "      <th>low</th>\n",
       "      <th>close</th>\n",
       "      <th>volume</th>\n",
       "      <th>barCount</th>\n",
       "      <th>average</th>\n",
       "    </tr>\n",
       "  </thead>\n",
       "  <tbody>\n",
       "    <tr>\n",
       "      <th>76</th>\n",
       "      <td>2017-12-15 19:00:00</td>\n",
       "      <td>2666.75</td>\n",
       "      <td>2666.75</td>\n",
       "      <td>2666.75</td>\n",
       "      <td>2666.75</td>\n",
       "      <td>0</td>\n",
       "      <td>0</td>\n",
       "      <td>2666.75</td>\n",
       "    </tr>\n",
       "    <tr>\n",
       "      <th>77</th>\n",
       "      <td>2017-12-15 20:00:00</td>\n",
       "      <td>2666.75</td>\n",
       "      <td>2666.75</td>\n",
       "      <td>2666.75</td>\n",
       "      <td>2666.75</td>\n",
       "      <td>0</td>\n",
       "      <td>0</td>\n",
       "      <td>2666.75</td>\n",
       "    </tr>\n",
       "    <tr>\n",
       "      <th>78</th>\n",
       "      <td>2017-12-15 21:00:00</td>\n",
       "      <td>2666.75</td>\n",
       "      <td>2666.75</td>\n",
       "      <td>2666.75</td>\n",
       "      <td>2666.75</td>\n",
       "      <td>0</td>\n",
       "      <td>0</td>\n",
       "      <td>2666.75</td>\n",
       "    </tr>\n",
       "    <tr>\n",
       "      <th>79</th>\n",
       "      <td>2017-12-15 22:00:00</td>\n",
       "      <td>2666.75</td>\n",
       "      <td>2666.75</td>\n",
       "      <td>2666.75</td>\n",
       "      <td>2666.75</td>\n",
       "      <td>0</td>\n",
       "      <td>0</td>\n",
       "      <td>2666.75</td>\n",
       "    </tr>\n",
       "    <tr>\n",
       "      <th>80</th>\n",
       "      <td>2017-12-15 22:30:00</td>\n",
       "      <td>2666.75</td>\n",
       "      <td>2666.75</td>\n",
       "      <td>2666.75</td>\n",
       "      <td>2666.75</td>\n",
       "      <td>0</td>\n",
       "      <td>0</td>\n",
       "      <td>2666.75</td>\n",
       "    </tr>\n",
       "  </tbody>\n",
       "</table>\n",
       "</div>"
      ],
      "text/plain": [
       "                  date     open     high      low    close  volume  barCount  \\\n",
       "76 2017-12-15 19:00:00  2666.75  2666.75  2666.75  2666.75       0         0   \n",
       "77 2017-12-15 20:00:00  2666.75  2666.75  2666.75  2666.75       0         0   \n",
       "78 2017-12-15 21:00:00  2666.75  2666.75  2666.75  2666.75       0         0   \n",
       "79 2017-12-15 22:00:00  2666.75  2666.75  2666.75  2666.75       0         0   \n",
       "80 2017-12-15 22:30:00  2666.75  2666.75  2666.75  2666.75       0         0   \n",
       "\n",
       "    average  \n",
       "76  2666.75  \n",
       "77  2666.75  \n",
       "78  2666.75  \n",
       "79  2666.75  \n",
       "80  2666.75  "
      ]
     },
     "metadata": {},
     "output_type": "display_data"
    }
   ],
   "source": [
    "df = util.df(bars)\n",
    "\n",
    "display(df.head())\n",
    "display(df.tail())"
   ]
  },
  {
   "cell_type": "code",
   "execution_count": 51,
   "metadata": {},
   "outputs": [],
   "source": [
    "%matplotlib inline"
   ]
  },
  {
   "cell_type": "code",
   "execution_count": 52,
   "metadata": {},
   "outputs": [
    {
     "data": {
      "image/png": "[encoded data removed]",
      "text/plain": [
       "<matplotlib.figure.Figure at 0x7f567ccb1fd0>"
      ]
     },
     "metadata": {},
     "output_type": "display_data"
    }
   ],
   "source": [
    "df.plot(y='close');"
   ]
  },
  {
   "cell_type": "code",
   "execution_count": 61,
   "metadata": {},
   "outputs": [
    {
     "data": {
      "image/png": "[encoded data removed]",
      "text/plain": [
       "<matplotlib.figure.Figure at 0x7f567411aeb8>"
      ]
     },
     "metadata": {},
     "output_type": "display_data"
    }
   ],
   "source": [
    "util.barplot(bars[-100:], title=contract.symbol);"
   ]
  },
  {
   "cell_type": "code",
   "execution_count": 62,
   "metadata": {},
   "outputs": [],
   "source": [
    "contract = Forex('EURUSD')\n",
    "\n",
    "bars = ib.reqHistoricalData(\n",
    "        contract,\n",
    "        endDateTime='',\n",
    "        durationStr='900 S',\n",
    "        barSizeSetting='10 secs',\n",
    "        whatToShow='MIDPOINT',\n",
    "        useRTH=True,\n",
    "        formatDate=1,\n",
    "        keepUpToDate=True)"
   ]
  },
  {
   "cell_type": "code",
   "execution_count": 63,
   "metadata": {},
   "outputs": [
    {
     "data": {
      "text/plain": [
       "True"
      ]
     },
     "execution_count": 63,
     "metadata": {},
     "output_type": "execute_result"
    },
    {
     "ename": "KeyError",
     "evalue": "Forex('EURUSD', exchange='IDEALPRO')",
     "output_type": "error",
     "traceback": [
      "\u001b[0;31m---------------------------------------------------------------------------\u001b[0m",
      "\u001b[0;31mKeyError\u001b[0m                                  Traceback (most recent call last)",
      "\u001b[0;32m<ipython-input-63-f50f2f4faa4f>\u001b[0m in \u001b[0;36m<module>\u001b[0;34m()\u001b[0m\n\u001b[1;32m     10\u001b[0m \u001b[0mib\u001b[0m\u001b[0;34m.\u001b[0m\u001b[0msetCallback\u001b[0m\u001b[0;34m(\u001b[0m\u001b[0;34m'barUpdate'\u001b[0m\u001b[0;34m,\u001b[0m \u001b[0monBarUpdate\u001b[0m\u001b[0;34m)\u001b[0m\u001b[0;34m\u001b[0m\u001b[0m\n\u001b[1;32m     11\u001b[0m \u001b[0mib\u001b[0m\u001b[0;34m.\u001b[0m\u001b[0msleep\u001b[0m\u001b[0;34m(\u001b[0m\u001b[0;36m60\u001b[0m\u001b[0;34m)\u001b[0m\u001b[0;34m\u001b[0m\u001b[0m\n\u001b[0;32m---> 12\u001b[0;31m \u001b[0mib\u001b[0m\u001b[0;34m.\u001b[0m\u001b[0mcancelHistoricalData\u001b[0m\u001b[0;34m(\u001b[0m\u001b[0mbars\u001b[0m\u001b[0;34m)\u001b[0m\u001b[0;34m\u001b[0m\u001b[0m\n\u001b[0m",
      "\u001b[0;32m~/anaconda3/envs/pysys/lib/python3.6/site-packages/ib_insync/ib.py\u001b[0m in \u001b[0;36mcancelHistoricalData\u001b[0;34m(self, bars)\u001b[0m\n\u001b[1;32m    752\u001b[0m         \"\"\"\n\u001b[1;32m    753\u001b[0m         \u001b[0mself\u001b[0m\u001b[0;34m.\u001b[0m\u001b[0mclient\u001b[0m\u001b[0;34m.\u001b[0m\u001b[0mcancelHistoricalData\u001b[0m\u001b[0;34m(\u001b[0m\u001b[0mbars\u001b[0m\u001b[0;34m.\u001b[0m\u001b[0mreqId\u001b[0m\u001b[0;34m)\u001b[0m\u001b[0;34m\u001b[0m\u001b[0m\n\u001b[0;32m--> 754\u001b[0;31m         \u001b[0mself\u001b[0m\u001b[0;34m.\u001b[0m\u001b[0mwrapper\u001b[0m\u001b[0;34m.\u001b[0m\u001b[0mendBars\u001b[0m\u001b[0;34m(\u001b[0m\u001b[0mbars\u001b[0m\u001b[0;34m)\u001b[0m\u001b[0;34m\u001b[0m\u001b[0m\n\u001b[0m\u001b[1;32m    755\u001b[0m \u001b[0;34m\u001b[0m\u001b[0m\n\u001b[1;32m    756\u001b[0m     \u001b[0;34m@\u001b[0m\u001b[0mapi\u001b[0m\u001b[0;34m\u001b[0m\u001b[0m\n",
      "\u001b[0;32m~/anaconda3/envs/pysys/lib/python3.6/site-packages/ib_insync/wrapper.py\u001b[0m in \u001b[0;36mendBars\u001b[0;34m(self, bars)\u001b[0m\n\u001b[1;32m    110\u001b[0m \u001b[0;34m\u001b[0m\u001b[0m\n\u001b[1;32m    111\u001b[0m     \u001b[0;32mdef\u001b[0m \u001b[0mendBars\u001b[0m\u001b[0;34m(\u001b[0m\u001b[0mself\u001b[0m\u001b[0;34m,\u001b[0m \u001b[0mbars\u001b[0m\u001b[0;34m)\u001b[0m\u001b[0;34m:\u001b[0m\u001b[0;34m\u001b[0m\u001b[0m\n\u001b[0;32m--> 112\u001b[0;31m         \u001b[0mself\u001b[0m\u001b[0;34m.\u001b[0m\u001b[0m_reqId2Contract\u001b[0m\u001b[0;34m.\u001b[0m\u001b[0mpop\u001b[0m\u001b[0;34m(\u001b[0m\u001b[0mbars\u001b[0m\u001b[0;34m.\u001b[0m\u001b[0mcontract\u001b[0m\u001b[0;34m)\u001b[0m\u001b[0;34m\u001b[0m\u001b[0m\n\u001b[0m\u001b[1;32m    113\u001b[0m         \u001b[0mself\u001b[0m\u001b[0;34m.\u001b[0m\u001b[0mreqId2Bars\u001b[0m\u001b[0;34m.\u001b[0m\u001b[0mpop\u001b[0m\u001b[0;34m(\u001b[0m\u001b[0mbars\u001b[0m\u001b[0;34m.\u001b[0m\u001b[0mreqId\u001b[0m\u001b[0;34m,\u001b[0m \u001b[0;32mNone\u001b[0m\u001b[0;34m)\u001b[0m\u001b[0;34m\u001b[0m\u001b[0m\n\u001b[1;32m    114\u001b[0m \u001b[0;34m\u001b[0m\u001b[0m\n",
      "\u001b[0;31mKeyError\u001b[0m: Forex('EURUSD', exchange='IDEALPRO')"
     ]
    },
    {
     "name": "stderr",
     "output_type": "stream",
     "text": [
      "ERROR:ib_insync.wrapper:Error 162, reqId 36: Historical Market Data Service error message:API historical data query cancelled: 36\n"
     ]
    }
   ],
   "source": [
    "from IPython.display import display, clear_output\n",
    "import matplotlib.pyplot as plt\n",
    "\n",
    "def onBarUpdate(bars, hasNewBar):\n",
    "    plt.close()\n",
    "    plot = util.barplot(bars)\n",
    "    clear_output(wait=True)\n",
    "    display(plot)\n",
    "\n",
    "ib.setCallback('barUpdate', onBarUpdate)\n",
    "ib.sleep(60)\n",
    "ib.cancelHistoricalData(bars)"
   ]
  },
  {
   "cell_type": "code",
   "execution_count": 64,
   "metadata": {},
   "outputs": [
    {
     "data": {
      "text/html": [
       "<div>\n",
       "<table border=\"1\" class=\"dataframe\">\n",
       "  <thead>\n",
       "    <tr style=\"text-align: right;\">\n",
       "      <th></th>\n",
       "      <th>date</th>\n",
       "      <th>open</th>\n",
       "      <th>high</th>\n",
       "      <th>low</th>\n",
       "      <th>close</th>\n",
       "      <th>volume</th>\n",
       "      <th>barCount</th>\n",
       "      <th>average</th>\n",
       "    </tr>\n",
       "  </thead>\n",
       "  <tbody>\n",
       "    <tr>\n",
       "      <th>0</th>\n",
       "      <td>2018-03-02 22:45:00</td>\n",
       "      <td>1.232435</td>\n",
       "      <td>1.232435</td>\n",
       "      <td>1.232430</td>\n",
       "      <td>1.232430</td>\n",
       "      <td>-1</td>\n",
       "      <td>-1</td>\n",
       "      <td>-1.0</td>\n",
       "    </tr>\n",
       "    <tr>\n",
       "      <th>1</th>\n",
       "      <td>2018-03-02 22:45:10</td>\n",
       "      <td>1.232430</td>\n",
       "      <td>1.232445</td>\n",
       "      <td>1.232375</td>\n",
       "      <td>1.232375</td>\n",
       "      <td>-1</td>\n",
       "      <td>-1</td>\n",
       "      <td>-1.0</td>\n",
       "    </tr>\n",
       "    <tr>\n",
       "      <th>2</th>\n",
       "      <td>2018-03-02 22:45:20</td>\n",
       "      <td>1.232375</td>\n",
       "      <td>1.232415</td>\n",
       "      <td>1.232375</td>\n",
       "      <td>1.232405</td>\n",
       "      <td>-1</td>\n",
       "      <td>-1</td>\n",
       "      <td>-1.0</td>\n",
       "    </tr>\n",
       "    <tr>\n",
       "      <th>3</th>\n",
       "      <td>2018-03-02 22:45:30</td>\n",
       "      <td>1.232405</td>\n",
       "      <td>1.232405</td>\n",
       "      <td>1.232390</td>\n",
       "      <td>1.232395</td>\n",
       "      <td>-1</td>\n",
       "      <td>-1</td>\n",
       "      <td>-1.0</td>\n",
       "    </tr>\n",
       "    <tr>\n",
       "      <th>4</th>\n",
       "      <td>2018-03-02 22:45:40</td>\n",
       "      <td>1.232395</td>\n",
       "      <td>1.232505</td>\n",
       "      <td>1.232395</td>\n",
       "      <td>1.232475</td>\n",
       "      <td>-1</td>\n",
       "      <td>-1</td>\n",
       "      <td>-1.0</td>\n",
       "    </tr>\n",
       "  </tbody>\n",
       "</table>\n",
       "</div>"
      ],
      "text/plain": [
       "                 date      open      high       low     close  volume  \\\n",
       "0 2018-03-02 22:45:00  1.232435  1.232435  1.232430  1.232430      -1   \n",
       "1 2018-03-02 22:45:10  1.232430  1.232445  1.232375  1.232375      -1   \n",
       "2 2018-03-02 22:45:20  1.232375  1.232415  1.232375  1.232405      -1   \n",
       "3 2018-03-02 22:45:30  1.232405  1.232405  1.232390  1.232395      -1   \n",
       "4 2018-03-02 22:45:40  1.232395  1.232505  1.232395  1.232475      -1   \n",
       "\n",
       "   barCount  average  \n",
       "0        -1     -1.0  \n",
       "1        -1     -1.0  \n",
       "2        -1     -1.0  \n",
       "3        -1     -1.0  \n",
       "4        -1     -1.0  "
      ]
     },
     "metadata": {},
     "output_type": "display_data"
    },
    {
     "data": {
      "text/html": [
       "<div>\n",
       "<table border=\"1\" class=\"dataframe\">\n",
       "  <thead>\n",
       "    <tr style=\"text-align: right;\">\n",
       "      <th></th>\n",
       "      <th>date</th>\n",
       "      <th>open</th>\n",
       "      <th>high</th>\n",
       "      <th>low</th>\n",
       "      <th>close</th>\n",
       "      <th>volume</th>\n",
       "      <th>barCount</th>\n",
       "      <th>average</th>\n",
       "    </tr>\n",
       "  </thead>\n",
       "  <tbody>\n",
       "    <tr>\n",
       "      <th>85</th>\n",
       "      <td>2018-03-02 22:59:10</td>\n",
       "      <td>1.232010</td>\n",
       "      <td>1.232025</td>\n",
       "      <td>1.231945</td>\n",
       "      <td>1.231945</td>\n",
       "      <td>-1</td>\n",
       "      <td>-1</td>\n",
       "      <td>-1.0</td>\n",
       "    </tr>\n",
       "    <tr>\n",
       "      <th>86</th>\n",
       "      <td>2018-03-02 22:59:20</td>\n",
       "      <td>1.231945</td>\n",
       "      <td>1.231945</td>\n",
       "      <td>1.231865</td>\n",
       "      <td>1.231935</td>\n",
       "      <td>-1</td>\n",
       "      <td>-1</td>\n",
       "      <td>-1.0</td>\n",
       "    </tr>\n",
       "    <tr>\n",
       "      <th>87</th>\n",
       "      <td>2018-03-02 22:59:30</td>\n",
       "      <td>1.231935</td>\n",
       "      <td>1.231935</td>\n",
       "      <td>1.231845</td>\n",
       "      <td>1.231900</td>\n",
       "      <td>-1</td>\n",
       "      <td>-1</td>\n",
       "      <td>-1.0</td>\n",
       "    </tr>\n",
       "    <tr>\n",
       "      <th>88</th>\n",
       "      <td>2018-03-02 22:59:40</td>\n",
       "      <td>1.231900</td>\n",
       "      <td>1.231900</td>\n",
       "      <td>1.231800</td>\n",
       "      <td>1.231870</td>\n",
       "      <td>-1</td>\n",
       "      <td>-1</td>\n",
       "      <td>-1.0</td>\n",
       "    </tr>\n",
       "    <tr>\n",
       "      <th>89</th>\n",
       "      <td>2018-03-02 22:59:50</td>\n",
       "      <td>1.231870</td>\n",
       "      <td>1.232010</td>\n",
       "      <td>1.231845</td>\n",
       "      <td>1.232005</td>\n",
       "      <td>-1</td>\n",
       "      <td>-1</td>\n",
       "      <td>-1.0</td>\n",
       "    </tr>\n",
       "  </tbody>\n",
       "</table>\n",
       "</div>"
      ],
      "text/plain": [
       "                  date      open      high       low     close  volume  \\\n",
       "85 2018-03-02 22:59:10  1.232010  1.232025  1.231945  1.231945      -1   \n",
       "86 2018-03-02 22:59:20  1.231945  1.231945  1.231865  1.231935      -1   \n",
       "87 2018-03-02 22:59:30  1.231935  1.231935  1.231845  1.231900      -1   \n",
       "88 2018-03-02 22:59:40  1.231900  1.231900  1.231800  1.231870      -1   \n",
       "89 2018-03-02 22:59:50  1.231870  1.232010  1.231845  1.232005      -1   \n",
       "\n",
       "    barCount  average  \n",
       "85        -1     -1.0  \n",
       "86        -1     -1.0  \n",
       "87        -1     -1.0  \n",
       "88        -1     -1.0  \n",
       "89        -1     -1.0  "
      ]
     },
     "metadata": {},
     "output_type": "display_data"
    }
   ],
   "source": [
    "\n",
    "\n",
    "df = util.df(bars)\n",
    "\n",
    "display(df.head())\n",
    "display(df.tail())\n",
    "\n"
   ]
  },
  {
   "cell_type": "code",
   "execution_count": 65,
   "metadata": {},
   "outputs": [
    {
     "data": {
      "image/png": "[encoded data removed]",
      "text/plain": [
       "<matplotlib.figure.Figure at 0x7f5673fc16a0>"
      ]
     },
     "metadata": {},
     "output_type": "display_data"
    }
   ],
   "source": [
    "df.plot(y='close');"
   ]
  },
  {
   "cell_type": "code",
   "execution_count": 67,
   "metadata": {},
   "outputs": [
    {
     "data": {
      "text/plain": [
       "[DepthMktDataDescription(exchange='DTB', secType='OPT', serviceDataType='Deep'),\n",
       " DepthMktDataDescription(exchange='LSEETF', secType='STK', serviceDataType='Deep'),\n",
       " DepthMktDataDescription(exchange='SGX', secType='FUT', serviceDataType='Deep'),\n",
       " DepthMktDataDescription(exchange='IDEALPRO', secType='CASH', serviceDataType='Deep', aggGroup=4),\n",
       " DepthMktDataDescription(exchange='ARCA', secType='STK', serviceDataType='Deep'),\n",
       " DepthMktDataDescription(exchange='SEHK', secType='WAR', serviceDataType='DeepX'),\n",
       " DepthMktDataDescription(exchange='AEB', secType='IOPT', serviceDataType='Deep'),\n",
       " DepthMktDataDescription(exchange='NASDTAS', secType='STK', serviceDataType='Deep'),\n",
       " DepthMktDataDescription(exchange='CHIXDK', secType='STK', serviceDataType='Deep'),\n",
       " DepthMktDataDescription(exchange='NSE', secType='FUT', serviceDataType='Deep'),\n",
       " DepthMktDataDescription(exchange='OSE.JPN', secType='FUT', serviceDataType='Deep'),\n",
       " DepthMktDataDescription(exchange='ICEEUSOFT', secType='FUT', serviceDataType='Deep'),\n",
       " DepthMktDataDescription(exchange='BATEEN', secType='STK', serviceDataType='Deep'),\n",
       " DepthMktDataDescription(exchange='AMEXB', secType='OPT', serviceDataType='Deep'),\n",
       " DepthMktDataDescription(exchange='IDEM', secType='OPT', serviceDataType='Deep'),\n",
       " DepthMktDataDescription(exchange='IBIS2', secType='STK', serviceDataType='Deep'),\n",
       " DepthMktDataDescription(exchange='TRQXDE', secType='STK', serviceDataType='Deep'),\n",
       " DepthMktDataDescription(exchange='ENEXT.BE', secType='STK', serviceDataType='Deep'),\n",
       " DepthMktDataDescription(exchange='BVME', secType='STK', serviceDataType='Deep'),\n",
       " DepthMktDataDescription(exchange='OMH', secType='FUT', serviceDataType='Deep'),\n",
       " DepthMktDataDescription(exchange='BVME.ETF', secType='STK', serviceDataType='Deep'),\n",
       " DepthMktDataDescription(exchange='BELFOX', secType='FUT', serviceDataType='Deep'),\n",
       " DepthMktDataDescription(exchange='CHIXFI', secType='STK', serviceDataType='Deep'),\n",
       " DepthMktDataDescription(exchange='NYSE', secType='WAR', serviceDataType='Deep'),\n",
       " DepthMktDataDescription(exchange='CHIXSE', secType='STK', serviceDataType='Deep'),\n",
       " DepthMktDataDescription(exchange='BMF', secType='FUT', serviceDataType='Deep'),\n",
       " DepthMktDataDescription(exchange='CDE', secType='FUT', serviceDataType='Deep'),\n",
       " DepthMktDataDescription(exchange='CHIXES', secType='STK', serviceDataType='Deep'),\n",
       " DepthMktDataDescription(exchange='TRQXUK', secType='STK', serviceDataType='Deep'),\n",
       " DepthMktDataDescription(exchange='KSE', secType='STK', serviceDataType='Deep'),\n",
       " DepthMktDataDescription(exchange='EUREXCBL', secType='OPT', serviceDataType='Deep'),\n",
       " DepthMktDataDescription(exchange='KSE', secType='OPT', serviceDataType='Deep'),\n",
       " DepthMktDataDescription(exchange='OMXNO', secType='FUT', serviceDataType='Deep'),\n",
       " DepthMktDataDescription(exchange='CHIXNO', secType='STK', serviceDataType='Deep'),\n",
       " DepthMktDataDescription(exchange='BATESE', secType='STK', serviceDataType='Deep'),\n",
       " DepthMktDataDescription(exchange='BOVESPA', secType='STK', serviceDataType='Deep'),\n",
       " DepthMktDataDescription(exchange='MATIF', secType='FUT', serviceDataType='Deep'),\n",
       " DepthMktDataDescription(exchange='TOM', secType='OPT', serviceDataType='Deep'),\n",
       " DepthMktDataDescription(exchange='MATIF', secType='FOP', serviceDataType='Deep'),\n",
       " DepthMktDataDescription(exchange='GLOBEX', secType='BAG', serviceDataType='Deep'),\n",
       " DepthMktDataDescription(exchange='SOFFEX', secType='FUT', serviceDataType='Deep'),\n",
       " DepthMktDataDescription(exchange='TSE', secType='STK', serviceDataType='Deep'),\n",
       " DepthMktDataDescription(exchange='TSEJ', secType='FOP', serviceDataType='Deep'),\n",
       " DepthMktDataDescription(exchange='MERCURY', secType='OPT', serviceDataType='Deep'),\n",
       " DepthMktDataDescription(exchange='ERIS', secType='FUT', serviceDataType='Deep'),\n",
       " DepthMktDataDescription(exchange='ISE', secType='OPT', serviceDataType='Deep'),\n",
       " DepthMktDataDescription(exchange='LMEOTC', secType='FUT', serviceDataType='Deep'),\n",
       " DepthMktDataDescription(exchange='TRQXEN', secType='STK', serviceDataType='Deep'),\n",
       " DepthMktDataDescription(exchange='SEHK', secType='STK', serviceDataType='Deep'),\n",
       " DepthMktDataDescription(exchange='IDEM', secType='FUT', serviceDataType='Deep'),\n",
       " DepthMktDataDescription(exchange='CHIXEN', secType='STK', serviceDataType='Deep'),\n",
       " DepthMktDataDescription(exchange='BELFOX', secType='OPT', serviceDataType='Deep'),\n",
       " DepthMktDataDescription(exchange='IBEFP', secType='BAG', serviceDataType='Deep2'),\n",
       " DepthMktDataDescription(exchange='WSE', secType='FUT', serviceDataType='Deep'),\n",
       " DepthMktDataDescription(exchange='TSEJ', secType='OPT', serviceDataType='Deep'),\n",
       " DepthMktDataDescription(exchange='BATEDK', secType='STK', serviceDataType='Deep'),\n",
       " DepthMktDataDescription(exchange='CFE', secType='FUT', serviceDataType='Deep'),\n",
       " DepthMktDataDescription(exchange='ECBOT', secType='FOP', serviceDataType='Deep'),\n",
       " DepthMktDataDescription(exchange='NSE', secType='OPT', serviceDataType='Deep'),\n",
       " DepthMktDataDescription(exchange='TRQXCH', secType='STK', serviceDataType='Deep'),\n",
       " DepthMktDataDescription(exchange='BATENO', secType='STK', serviceDataType='Deep'),\n",
       " DepthMktDataDescription(exchange='NYMEX', secType='FUT', serviceDataType='Deep'),\n",
       " DepthMktDataDescription(exchange='MONEP', secType='OPT', serviceDataType='Deep'),\n",
       " DepthMktDataDescription(exchange='TOMSBONDM', secType='BOND', serviceDataType='Deep'),\n",
       " DepthMktDataDescription(exchange='GEMINI', secType='OPT', serviceDataType='Deep'),\n",
       " DepthMktDataDescription(exchange='TRQXUK', secType='FUT', serviceDataType='Deep'),\n",
       " DepthMktDataDescription(exchange='AMEX', secType='OPT', serviceDataType='Deep'),\n",
       " DepthMktDataDescription(exchange='N.RIGA', secType='STK', serviceDataType='Deep'),\n",
       " DepthMktDataDescription(exchange='NSE', secType='STK', serviceDataType='Deep'),\n",
       " DepthMktDataDescription(exchange='PRA', secType='STK', serviceDataType='Deep'),\n",
       " DepthMktDataDescription(exchange='DTB', secType='FUT', serviceDataType='Deep'),\n",
       " DepthMktDataDescription(exchange='GLOBEX', secType='FUT', serviceDataType='Deep'),\n",
       " DepthMktDataDescription(exchange='CHIXCH', secType='STK', serviceDataType='Deep'),\n",
       " DepthMktDataDescription(exchange='EUREXCBL', secType='FUT', serviceDataType='Deep'),\n",
       " DepthMktDataDescription(exchange='AQS', secType='SLB', serviceDataType='Deep'),\n",
       " DepthMktDataDescription(exchange='TSEJ', secType='STK', serviceDataType='Deep'),\n",
       " DepthMktDataDescription(exchange='VIRTX', secType='STK', serviceDataType='Deep'),\n",
       " DepthMktDataDescription(exchange='HKFE', secType='OPT', serviceDataType='Deep'),\n",
       " DepthMktDataDescription(exchange='ICEEU', secType='FUT', serviceDataType='Deep'),\n",
       " DepthMktDataDescription(exchange='BVL', secType='STK', serviceDataType='Deep'),\n",
       " DepthMktDataDescription(exchange='BMF', secType='FOP', serviceDataType='Deep'),\n",
       " DepthMktDataDescription(exchange='CHIXUK', secType='STK', serviceDataType='Deep'),\n",
       " DepthMktDataDescription(exchange='ISLAND', secType='STK', serviceDataType='Deep'),\n",
       " DepthMktDataDescription(exchange='BATEDE', secType='STK', serviceDataType='Deep'),\n",
       " DepthMktDataDescription(exchange='SBF', secType='IOPT', serviceDataType='Deep'),\n",
       " DepthMktDataDescription(exchange='SGXCME', secType='FUT', serviceDataType='Deep'),\n",
       " DepthMktDataDescription(exchange='BATEES', secType='STK', serviceDataType='Deep'),\n",
       " DepthMktDataDescription(exchange='SMART', secType='STK', listingExch='PINK', serviceDataType='AggDeep', aggGroup=1),\n",
       " DepthMktDataDescription(exchange='SMART', secType='CMDTY', serviceDataType='Deep', aggGroup=14),\n",
       " DepthMktDataDescription(exchange='ICEEU', secType='FOP', serviceDataType='Deep'),\n",
       " DepthMktDataDescription(exchange='PSE', secType='OPT', serviceDataType='Deep'),\n",
       " DepthMktDataDescription(exchange='FTA', secType='OPT', serviceDataType='Deep'),\n",
       " DepthMktDataDescription(exchange='FTA', secType='FUT', serviceDataType='Deep'),\n",
       " DepthMktDataDescription(exchange='TOM', secType='FUT', serviceDataType='Deep'),\n",
       " DepthMktDataDescription(exchange='CFECRYPTO', secType='BAG', serviceDataType='Deep'),\n",
       " DepthMktDataDescription(exchange='ARCA', secType='WAR', serviceDataType='Deep'),\n",
       " DepthMktDataDescription(exchange='NYBOT', secType='FOP', serviceDataType='Deep'),\n",
       " DepthMktDataDescription(exchange='BEX', secType='WAR', serviceDataType='Deep'),\n",
       " DepthMktDataDescription(exchange='OSE.JPN', secType='BAG', serviceDataType='Deep'),\n",
       " DepthMktDataDescription(exchange='NYSELIFFE', secType='FUT', serviceDataType='Deep'),\n",
       " DepthMktDataDescription(exchange='WSE', secType='STK', serviceDataType='Deep'),\n",
       " DepthMktDataDescription(exchange='SMART', secType='BILL', serviceDataType='Deep', aggGroup=12),\n",
       " DepthMktDataDescription(exchange='SEHK', secType='IOPT', serviceDataType='Deep'),\n",
       " DepthMktDataDescription(exchange='CHIXIT', secType='STK', serviceDataType='Deep'),\n",
       " DepthMktDataDescription(exchange='ENEXT.BE', secType='IOPT', serviceDataType='Deep'),\n",
       " DepthMktDataDescription(exchange='AEB', secType='STK', serviceDataType='Deep'),\n",
       " DepthMktDataDescription(exchange='CMECRYPTO', secType='FUT', serviceDataType='Deep'),\n",
       " DepthMktDataDescription(exchange='HKFE', secType='FUT', serviceDataType='Deep'),\n",
       " DepthMktDataDescription(exchange='ICEEU', secType='OPT', serviceDataType='Deep'),\n",
       " DepthMktDataDescription(exchange='SEHK', secType='IOPT', serviceDataType='DeepX'),\n",
       " DepthMktDataDescription(exchange='OMC', secType='FUT', serviceDataType='Deep'),\n",
       " DepthMktDataDescription(exchange='TRQXFI', secType='STK', serviceDataType='Deep'),\n",
       " DepthMktDataDescription(exchange='MERCURY', secType='BAG', serviceDataType='Deep'),\n",
       " DepthMktDataDescription(exchange='N.TALLINN', secType='STK', serviceDataType='Deep'),\n",
       " DepthMktDataDescription(exchange='MEFFRV', secType='FUT', serviceDataType='Deep'),\n",
       " DepthMktDataDescription(exchange='NYBOT', secType='FUT', serviceDataType='Deep'),\n",
       " DepthMktDataDescription(exchange='CFETAS', secType='FUT', serviceDataType='Deep'),\n",
       " DepthMktDataDescription(exchange='TSEJ', secType='FUT', serviceDataType='Deep'),\n",
       " DepthMktDataDescription(exchange='TRQXDK', secType='STK', serviceDataType='Deep'),\n",
       " DepthMktDataDescription(exchange='SEHKNTL', secType='STK', serviceDataType='Deep'),\n",
       " DepthMktDataDescription(exchange='BATECH', secType='STK', serviceDataType='Deep'),\n",
       " DepthMktDataDescription(exchange='GLOBEX', secType='FOP', serviceDataType='Deep'),\n",
       " DepthMktDataDescription(exchange='SEHK', secType='BOND', serviceDataType='Deep'),\n",
       " DepthMktDataDescription(exchange='MONEP', secType='FUT', serviceDataType='Deep'),\n",
       " DepthMktDataDescription(exchange='BATS', secType='WAR', serviceDataType='Deep'),\n",
       " DepthMktDataDescription(exchange='VENTURE', secType='STK', serviceDataType='Deep'),\n",
       " DepthMktDataDescription(exchange='N.VILNIUS', secType='STK', serviceDataType='Deep'),\n",
       " DepthMktDataDescription(exchange='CFE', secType='BAG', serviceDataType='Deep'),\n",
       " DepthMktDataDescription(exchange='SEHKSZSE', secType='STK', serviceDataType='Deep'),\n",
       " DepthMktDataDescription(exchange='ISLAND', secType='WAR', serviceDataType='Deep2'),\n",
       " DepthMktDataDescription(exchange='KSE', secType='FUT', serviceDataType='Deep'),\n",
       " DepthMktDataDescription(exchange='NYMEX', secType='FOP', serviceDataType='Deep'),\n",
       " DepthMktDataDescription(exchange='ONE', secType='BAG', serviceDataType='Deep'),\n",
       " DepthMktDataDescription(exchange='PUREMATCH', secType='STK', serviceDataType='Deep'),\n",
       " DepthMktDataDescription(exchange='OCXBETS', secType='BAG', serviceDataType='Deep'),\n",
       " DepthMktDataDescription(exchange='ASX', secType='FUT', serviceDataType='Deep'),\n",
       " DepthMktDataDescription(exchange='SOFFEX', secType='OPT', serviceDataType='Deep'),\n",
       " DepthMktDataDescription(exchange='SMART', secType='BOND', serviceDataType='Deep', aggGroup=23),\n",
       " DepthMktDataDescription(exchange='OMXNO', secType='STK', serviceDataType='Deep'),\n",
       " DepthMktDataDescription(exchange='TRQXIT', secType='STK', serviceDataType='Deep'),\n",
       " DepthMktDataDescription(exchange='BATS', secType='STK', serviceDataType='Deep'),\n",
       " DepthMktDataDescription(exchange='BUX', secType='STK', serviceDataType='Deep'),\n",
       " DepthMktDataDescription(exchange='CFECRYPTO', secType='FUT', serviceDataType='Deep'),\n",
       " DepthMktDataDescription(exchange='LSEIOB1', secType='STK', serviceDataType='Deep'),\n",
       " DepthMktDataDescription(exchange='ISLAND', secType='STK', serviceDataType='Deep2'),\n",
       " DepthMktDataDescription(exchange='SMART', secType='STK', listingExch='OTCBB', serviceDataType='AggDeep', aggGroup=1),\n",
       " DepthMktDataDescription(exchange='OMXNO', secType='OPT', serviceDataType='Deep'),\n",
       " DepthMktDataDescription(exchange='TOMSBOND', secType='BOND', serviceDataType='Deep'),\n",
       " DepthMktDataDescription(exchange='ECBOT', secType='FUT', serviceDataType='Deep'),\n",
       " DepthMktDataDescription(exchange='PINK', secType='WAR', serviceDataType='Deep'),\n",
       " DepthMktDataDescription(exchange='NASDAQOM', secType='OPT', serviceDataType='Deep'),\n",
       " DepthMktDataDescription(exchange='SNFE', secType='FOP', serviceDataType='Deep'),\n",
       " DepthMktDataDescription(exchange='HEX', secType='STK', serviceDataType='Deep'),\n",
       " DepthMktDataDescription(exchange='BATEUK', secType='STK', serviceDataType='Deep'),\n",
       " DepthMktDataDescription(exchange='LSE', secType='STK', serviceDataType='Deep'),\n",
       " DepthMktDataDescription(exchange='OTOB', secType='FUT', serviceDataType='Deep'),\n",
       " DepthMktDataDescription(exchange='TRQXSE', secType='STK', serviceDataType='Deep'),\n",
       " DepthMktDataDescription(exchange='ASX', secType='OPT', serviceDataType='Deep'),\n",
       " DepthMktDataDescription(exchange='SBF', secType='STK', serviceDataType='Deep'),\n",
       " DepthMktDataDescription(exchange='SEHK', secType='WAR', serviceDataType='Deep'),\n",
       " DepthMktDataDescription(exchange='SEHK', secType='BOND', serviceDataType='DeepX'),\n",
       " DepthMktDataDescription(exchange='BEX', secType='STK', serviceDataType='Deep'),\n",
       " DepthMktDataDescription(exchange='CMECRYPTO', secType='BAG', serviceDataType='Deep'),\n",
       " DepthMktDataDescription(exchange='ARCAEDGE', secType='WAR', serviceDataType='Deep'),\n",
       " DepthMktDataDescription(exchange='BATEIT', secType='STK', serviceDataType='Deep'),\n",
       " DepthMktDataDescription(exchange='VSE', secType='STK', serviceDataType='Deep'),\n",
       " DepthMktDataDescription(exchange='ONE', secType='FUT', serviceDataType='Deep'),\n",
       " DepthMktDataDescription(exchange='AMEX', secType='BAG', serviceDataType='Deep'),\n",
       " DepthMktDataDescription(exchange='IPE', secType='FUT', serviceDataType='Deep'),\n",
       " DepthMktDataDescription(exchange='OMS', secType='FUT', serviceDataType='Deep'),\n",
       " DepthMktDataDescription(exchange='EUREXUK', secType='OPT', serviceDataType='Deep'),\n",
       " DepthMktDataDescription(exchange='OSE.JPN', secType='OPT', serviceDataType='Deep'),\n",
       " DepthMktDataDescription(exchange='ASX', secType='STK', serviceDataType='Deep'),\n",
       " DepthMktDataDescription(exchange='SNFE', secType='FUT', serviceDataType='Deep'),\n",
       " DepthMktDataDescription(exchange='EURONEXT', secType='BOND', serviceDataType='Deep'),\n",
       " DepthMktDataDescription(exchange='OSE.JPN', secType='FOP', serviceDataType='Deep'),\n",
       " DepthMktDataDescription(exchange='TAIFEX', secType='FUT', serviceDataType='Deep'),\n",
       " DepthMktDataDescription(exchange='MEFFRV', secType='OPT', serviceDataType='Deep'),\n",
       " DepthMktDataDescription(exchange='OCXBETS', secType='FUT', serviceDataType='Deep'),\n",
       " DepthMktDataDescription(exchange='PREBORROW', secType='SLB', serviceDataType='Deep'),\n",
       " DepthMktDataDescription(exchange='CMECRYPTO', secType='IND', serviceDataType='Deep'),\n",
       " DepthMktDataDescription(exchange='BOVESPA', secType='OPT', serviceDataType='Deep'),\n",
       " DepthMktDataDescription(exchange='SEHK', secType='STK', serviceDataType='DeepX'),\n",
       " DepthMktDataDescription(exchange='CHINEXT', secType='STK', serviceDataType='Deep'),\n",
       " DepthMktDataDescription(exchange='AQS_P', secType='SLB', serviceDataType='Deep'),\n",
       " DepthMktDataDescription(exchange='ISLAND', secType='WAR', serviceDataType='Deep'),\n",
       " DepthMktDataDescription(exchange='TSEJ', secType='BAG', serviceDataType='Deep'),\n",
       " DepthMktDataDescription(exchange='CHIXAT', secType='STK', serviceDataType='Deep'),\n",
       " DepthMktDataDescription(exchange='ARCAEDGE', secType='STK', serviceDataType='Deep'),\n",
       " DepthMktDataDescription(exchange='BOX', secType='OPT', serviceDataType='Deep'),\n",
       " DepthMktDataDescription(exchange='CFECRYPTO', secType='IND', serviceDataType='Deep'),\n",
       " DepthMktDataDescription(exchange='TRQXAT', secType='STK', serviceDataType='Deep'),\n",
       " DepthMktDataDescription(exchange='ICEUS', secType='FUT', serviceDataType='Deep'),\n",
       " DepthMktDataDescription(exchange='IBEFP', secType='BAG', serviceDataType='Deep'),\n",
       " DepthMktDataDescription(exchange='BM', secType='STK', serviceDataType='Deep'),\n",
       " DepthMktDataDescription(exchange='LSEIOB2', secType='STK', serviceDataType='Deep'),\n",
       " DepthMktDataDescription(exchange='SMART', secType='BOND', serviceDataType='Deep', aggGroup=7),\n",
       " DepthMktDataDescription(exchange='OMXNO', secType='IND', serviceDataType='Deep'),\n",
       " DepthMktDataDescription(exchange='TRQXNO', secType='STK', serviceDataType='Deep'),\n",
       " DepthMktDataDescription(exchange='SFB', secType='STK', serviceDataType='Deep'),\n",
       " DepthMktDataDescription(exchange='OSE', secType='STK', serviceDataType='Deep'),\n",
       " DepthMktDataDescription(exchange='CHIXDE', secType='STK', serviceDataType='Deep'),\n",
       " DepthMktDataDescription(exchange='IBIS', secType='STK', serviceDataType='Deep'),\n",
       " DepthMktDataDescription(exchange='NYSE', secType='STK', serviceDataType='Deep'),\n",
       " DepthMktDataDescription(exchange='EDXNO', secType='FUT', serviceDataType='Deep'),\n",
       " DepthMktDataDescription(exchange='PINK', secType='STK', serviceDataType='Deep'),\n",
       " DepthMktDataDescription(exchange='BATEFI', secType='STK', serviceDataType='Deep'),\n",
       " DepthMktDataDescription(exchange='PSE', secType='BAG', serviceDataType='Deep'),\n",
       " DepthMktDataDescription(exchange='EBS', secType='STK', serviceDataType='Deep'),\n",
       " DepthMktDataDescription(exchange='GEMINI', secType='BAG', serviceDataType='Deep'),\n",
       " DepthMktDataDescription(exchange='TRQXES', secType='STK', serviceDataType='Deep'),\n",
       " DepthMktDataDescription(exchange='CPH', secType='STK', serviceDataType='Deep'),\n",
       " DepthMktDataDescription(exchange='CDE', secType='OPT', serviceDataType='Deep'),\n",
       " DepthMktDataDescription(exchange='ISE', secType='BAG', serviceDataType='Deep'),\n",
       " DepthMktDataDescription(exchange='TRQXIR', secType='STK', serviceDataType='Deep')]"
      ]
     },
     "execution_count": 67,
     "metadata": {},
     "output_type": "execute_result"
    }
   ],
   "source": [
    "l = ib.reqMktDepthExchanges()\n",
    "l"
   ]
  },
  {
   "cell_type": "code",
   "execution_count": 68,
   "metadata": {},
   "outputs": [
    {
     "data": {
      "text/plain": [
       "[Stock(conId=265598, symbol='AAPL', exchange='SMART', primaryExchange='NASDAQ', currency='USD', localSymbol='AAPL', tradingClass='NMS')]"
      ]
     },
     "execution_count": 68,
     "metadata": {},
     "output_type": "execute_result"
    }
   ],
   "source": [
    "contract = Stock('AAPL', 'SMART', 'USD')\n",
    "ib.qualifyContracts(contract)\n",
    "\n",
    "order = MarketOrder('BUY', 100)"
   ]
  },
  {
   "cell_type": "code",
   "execution_count": 69,
   "metadata": {},
   "outputs": [
    {
     "data": {
      "text/plain": [
       "Trade(contract=Stock(conId=265598, symbol='AAPL', exchange='SMART', primaryExchange='NASDAQ', currency='USD', localSymbol='AAPL', tradingClass='NMS'), order=MarketOrder(orderId=38, action='BUY', totalQuantity=100), orderStatus=OrderStatus(status='PendingSubmit'), fills=[], log=[TradeLogEntry(time=datetime.datetime(2018, 3, 4, 22, 43, 33, 577687, tzinfo=datetime.timezone.utc), status='PendingSubmit', message='')])"
      ]
     },
     "execution_count": 69,
     "metadata": {},
     "output_type": "execute_result"
    }
   ],
   "source": [
    "trade = ib.placeOrder(contract, order)\n",
    "\n",
    "trade"
   ]
  },
  {
   "cell_type": "code",
   "execution_count": null,
   "metadata": {},
   "outputs": [],
   "source": []
  }
 ],
 "metadata": {
  "kernelspec": {
   "display_name": "Python 3",
   "language": "python",
   "name": "python3"
  },
  "language_info": {
   "codemirror_mode": {
    "name": "ipython",
    "version": 3
   },
   "file_extension": ".py",
   "mimetype": "text/x-python",
   "name": "python",
   "nbconvert_exporter": "python",
   "pygments_lexer": "ipython3",
   "version": "3.6.4"
  }
 },
 "nbformat": 4,
 "nbformat_minor": 2
}
