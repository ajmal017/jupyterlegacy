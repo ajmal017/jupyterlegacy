{
 "cells": [
  {
   "cell_type": "code",
   "execution_count": 4,
   "metadata": {},
   "outputs": [
    {
     "data": {
      "text/html": [
       "<div>\n",
       "<style>\n",
       "    .dataframe thead tr:only-child th {\n",
       "        text-align: right;\n",
       "    }\n",
       "\n",
       "    .dataframe thead th {\n",
       "        text-align: left;\n",
       "    }\n",
       "\n",
       "    .dataframe tbody tr th {\n",
       "        vertical-align: top;\n",
       "    }\n",
       "</style>\n",
       "<table border=\"1\" class=\"dataframe\">\n",
       "  <thead>\n",
       "    <tr style=\"text-align: right;\">\n",
       "      <th></th>\n",
       "      <th>A</th>\n",
       "      <th>B</th>\n",
       "      <th>C</th>\n",
       "      <th>D</th>\n",
       "    </tr>\n",
       "  </thead>\n",
       "  <tbody>\n",
       "    <tr>\n",
       "      <th>2000-01-01</th>\n",
       "      <td>-0.100482</td>\n",
       "      <td>-1.286149</td>\n",
       "      <td>0.796907</td>\n",
       "      <td>0.816375</td>\n",
       "    </tr>\n",
       "    <tr>\n",
       "      <th>2000-01-02</th>\n",
       "      <td>-0.664620</td>\n",
       "      <td>-0.204475</td>\n",
       "      <td>0.126724</td>\n",
       "      <td>0.862943</td>\n",
       "    </tr>\n",
       "    <tr>\n",
       "      <th>2000-01-03</th>\n",
       "      <td>-0.129743</td>\n",
       "      <td>0.416941</td>\n",
       "      <td>-0.812555</td>\n",
       "      <td>1.607431</td>\n",
       "    </tr>\n",
       "    <tr>\n",
       "      <th>2000-01-04</th>\n",
       "      <td>-0.630448</td>\n",
       "      <td>-0.246460</td>\n",
       "      <td>-1.180975</td>\n",
       "      <td>1.709904</td>\n",
       "    </tr>\n",
       "    <tr>\n",
       "      <th>2000-01-05</th>\n",
       "      <td>-0.342677</td>\n",
       "      <td>0.986181</td>\n",
       "      <td>0.144299</td>\n",
       "      <td>-0.224400</td>\n",
       "    </tr>\n",
       "    <tr>\n",
       "      <th>2000-01-06</th>\n",
       "      <td>1.781733</td>\n",
       "      <td>1.555703</td>\n",
       "      <td>1.032990</td>\n",
       "      <td>-0.078909</td>\n",
       "    </tr>\n",
       "    <tr>\n",
       "      <th>2000-01-07</th>\n",
       "      <td>-1.451316</td>\n",
       "      <td>0.752155</td>\n",
       "      <td>-0.437307</td>\n",
       "      <td>-1.520634</td>\n",
       "    </tr>\n",
       "    <tr>\n",
       "      <th>2000-01-08</th>\n",
       "      <td>-0.047202</td>\n",
       "      <td>-0.746741</td>\n",
       "      <td>1.414731</td>\n",
       "      <td>1.771794</td>\n",
       "    </tr>\n",
       "  </tbody>\n",
       "</table>\n",
       "</div>"
      ],
      "text/plain": [
       "                   A         B         C         D\n",
       "2000-01-01 -0.100482 -1.286149  0.796907  0.816375\n",
       "2000-01-02 -0.664620 -0.204475  0.126724  0.862943\n",
       "2000-01-03 -0.129743  0.416941 -0.812555  1.607431\n",
       "2000-01-04 -0.630448 -0.246460 -1.180975  1.709904\n",
       "2000-01-05 -0.342677  0.986181  0.144299 -0.224400\n",
       "2000-01-06  1.781733  1.555703  1.032990 -0.078909\n",
       "2000-01-07 -1.451316  0.752155 -0.437307 -1.520634\n",
       "2000-01-08 -0.047202 -0.746741  1.414731  1.771794"
      ]
     },
     "execution_count": 4,
     "metadata": {},
     "output_type": "execute_result"
    }
   ],
   "source": [
    "import pandas as pd\n",
    "import numpy as np\n",
    "dates = pd.date_range('1/1/2000', periods=8)\n",
    "\n",
    "df = pd.DataFrame(np.random.randn(8, 4), index=dates, columns=['A', 'B', 'C', 'D'])\n",
    "\n",
    "df"
   ]
  },
  {
   "cell_type": "code",
   "execution_count": 8,
   "metadata": {},
   "outputs": [],
   "source": [
    "ts1 = pd.to_datetime('2000-01-02')\n",
    "ts2 = pd.to_datetime('2000-01-06')"
   ]
  },
  {
   "cell_type": "code",
   "execution_count": 9,
   "metadata": {},
   "outputs": [
    {
     "data": {
      "text/html": [
       "<div>\n",
       "<style>\n",
       "    .dataframe thead tr:only-child th {\n",
       "        text-align: right;\n",
       "    }\n",
       "\n",
       "    .dataframe thead th {\n",
       "        text-align: left;\n",
       "    }\n",
       "\n",
       "    .dataframe tbody tr th {\n",
       "        vertical-align: top;\n",
       "    }\n",
       "</style>\n",
       "<table border=\"1\" class=\"dataframe\">\n",
       "  <thead>\n",
       "    <tr style=\"text-align: right;\">\n",
       "      <th></th>\n",
       "      <th>A</th>\n",
       "      <th>B</th>\n",
       "      <th>C</th>\n",
       "      <th>D</th>\n",
       "    </tr>\n",
       "  </thead>\n",
       "  <tbody>\n",
       "    <tr>\n",
       "      <th>2000-01-02</th>\n",
       "      <td>-0.664620</td>\n",
       "      <td>-0.204475</td>\n",
       "      <td>0.126724</td>\n",
       "      <td>0.862943</td>\n",
       "    </tr>\n",
       "    <tr>\n",
       "      <th>2000-01-03</th>\n",
       "      <td>-0.129743</td>\n",
       "      <td>0.416941</td>\n",
       "      <td>-0.812555</td>\n",
       "      <td>1.607431</td>\n",
       "    </tr>\n",
       "    <tr>\n",
       "      <th>2000-01-04</th>\n",
       "      <td>-0.630448</td>\n",
       "      <td>-0.246460</td>\n",
       "      <td>-1.180975</td>\n",
       "      <td>1.709904</td>\n",
       "    </tr>\n",
       "    <tr>\n",
       "      <th>2000-01-05</th>\n",
       "      <td>-0.342677</td>\n",
       "      <td>0.986181</td>\n",
       "      <td>0.144299</td>\n",
       "      <td>-0.224400</td>\n",
       "    </tr>\n",
       "    <tr>\n",
       "      <th>2000-01-06</th>\n",
       "      <td>1.781733</td>\n",
       "      <td>1.555703</td>\n",
       "      <td>1.032990</td>\n",
       "      <td>-0.078909</td>\n",
       "    </tr>\n",
       "  </tbody>\n",
       "</table>\n",
       "</div>"
      ],
      "text/plain": [
       "                   A         B         C         D\n",
       "2000-01-02 -0.664620 -0.204475  0.126724  0.862943\n",
       "2000-01-03 -0.129743  0.416941 -0.812555  1.607431\n",
       "2000-01-04 -0.630448 -0.246460 -1.180975  1.709904\n",
       "2000-01-05 -0.342677  0.986181  0.144299 -0.224400\n",
       "2000-01-06  1.781733  1.555703  1.032990 -0.078909"
      ]
     },
     "execution_count": 9,
     "metadata": {},
     "output_type": "execute_result"
    }
   ],
   "source": [
    "df[ts1:ts2]"
   ]
  },
  {
   "cell_type": "code",
   "execution_count": 10,
   "metadata": {},
   "outputs": [
    {
     "data": {
      "text/plain": [
       "'/home/pete/notebooks/dev/jupyterlegacy'"
      ]
     },
     "execution_count": 10,
     "metadata": {},
     "output_type": "execute_result"
    }
   ],
   "source": [
    "%pwd"
   ]
  },
  {
   "cell_type": "code",
   "execution_count": null,
   "metadata": {
    "collapsed": true
   },
   "outputs": [],
   "source": []
  }
 ],
 "metadata": {
  "kernelspec": {
   "display_name": "Python 3",
   "language": "python",
   "name": "python3"
  },
  "language_info": {
   "codemirror_mode": {
    "name": "ipython",
    "version": 3
   },
   "file_extension": ".py",
   "mimetype": "text/x-python",
   "name": "python",
   "nbconvert_exporter": "python",
   "pygments_lexer": "ipython3",
   "version": "3.6.3"
  }
 },
 "nbformat": 4,
 "nbformat_minor": 2
}
